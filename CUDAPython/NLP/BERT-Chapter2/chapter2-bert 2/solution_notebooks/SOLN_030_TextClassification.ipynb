{
 "cells": [
  {
   "cell_type": "markdown",
   "metadata": {},
   "source": [
    "<a href=\"https://www.nvidia.com/dli\"> <img src=\"../images/DLI_Header.png\" alt=\"Header\" style=\"width: 400px;\"/> </a>"
   ]
  },
  {
   "cell_type": "markdown",
   "metadata": {},
   "source": [
    "# 3.0 Build a 3-Class Text Classifier\n",
    "\n",
    "In this notebook, you'll build an application to classify medical disease abstracts into one of three categories: cancer diseases, neurological diseases and disorders, and \"other\" for anything else.\n",
    "\n",
    "As presented in the [1.0 Explore the Data](010_ExploreData.ipynb) notebook, the data for the project includes training and evaluation sets already labeled, and a test set with no labels, which will need to be fixed. You'll follow the steps outlined in the [2.0 NLP Projects with NeMo](020_ExploreNeMo.ipynb) to build your application, train it, and test it.\n",
    "\n",
    "**[3.1 Set Up the Project](#3.1-Set-Up-the-Project)**<br>\n",
    "&nbsp;&nbsp;&nbsp;&nbsp;[3.1.1 Input Parameters](#3.1.1-Input-Parameters)<br>\n",
    "&nbsp;&nbsp;&nbsp;&nbsp;[3.1.2 Prepare the Input Data](#3.1.2-Prepare-the-Input-Data)<br>\n",
    "**[3.2 Exercise: Create Neural Modules](#3.2-Exercise:-Create-Neural-Modules)**<br>\n",
    "**[3.3 Create Neural Graphs](#3.3-Create-Neural-Graphs)**<br>\n",
    "&nbsp;&nbsp;&nbsp;&nbsp;[3.3.1 Training Graph](#3.3.1-Training-Graph)<br>\n",
    "&nbsp;&nbsp;&nbsp;&nbsp;[3.3.2 Exercise: Create the Validation Graph](#3.3.2-Exercise:-Create-the-Validation-Graph)<br>\n",
    "&nbsp;&nbsp;&nbsp;&nbsp;[3.3.3 Visualize Embeddings Before Training](#3.3.3-Visualize-Embeddings-Before-Training)<br>\n",
    "**[3.4 Training](#3.4-Training)**<br>\n",
    "&nbsp;&nbsp;&nbsp;&nbsp;[3.4.1 Set the Learning Rate and Optimizer](#3.4.1-Set-the-Learning-Rate-and-Optimizer)<br>\n",
    "&nbsp;&nbsp;&nbsp;&nbsp;[3.4.2 Create the Callbacks](#3.4.2-Create-the-Callbacks)<br>\n",
    "&nbsp;&nbsp;&nbsp;&nbsp;[3.4.3 Run the Trainer](#3.4.3-Run-the-Trainer)<br>\n",
    "&nbsp;&nbsp;&nbsp;&nbsp;[3.4.4 Visualize Embeddings After Training](#3.4.4-Visualize-Embeddings-After-Training)<br>\n",
    "**[3.5 Inference](#3.5-Inference)**<br>\n",
    "&nbsp;&nbsp;&nbsp;&nbsp;[3.5.1 Exercise: Create the Test Graph](#3.5.1-Exercise:-Create-the-Test-Graph)<br>\n",
    "&nbsp;&nbsp;&nbsp;&nbsp;[3.5.2 Run Inference on the Test Set](#3.5.2-Run-Inference-on-the-Test-Set)<br>\n",
    "&nbsp;&nbsp;&nbsp;&nbsp;[3.5.3 Inference Results](#3.5.3-Inference-Results)<br>\n",
    "&nbsp;&nbsp;&nbsp;&nbsp;[3.5.4 Single Sentence Classification](#3.5.4-Single-Sentence-Classification)<br>\n",
    "**[3.6 Exercise: Change the Language Model](#3.6-Exercise:-Change-the-Language-Model)**<br>"
   ]
  },
  {
   "cell_type": "markdown",
   "metadata": {},
   "source": [
    "# 3.1 Set Up the Project\n",
    "\n",
    "You've learned the general paradigm for creating NLP tasks with NVIDIA NeMo.  Start by importing all the specific libraries, objects, and functions you'll need for text classification using a pre-trained language model.\n",
    "\n",
    "<img src=\"../images/nemo/nm-pipe.png\" width=800>"
   ]
  },
  {
   "cell_type": "code",
   "execution_count": 1,
   "metadata": {},
   "outputs": [
    {
     "name": "stderr",
     "output_type": "stream",
     "text": [
      "[NeMo W 2020-07-21 15:59:54 audio_preprocessing:56] Could not import torchaudio. Some features might not work.\n"
     ]
    }
   ],
   "source": [
    "# Import useful math and utility libraries\n",
    "import os\n",
    "import json\n",
    "import math\n",
    "import numpy as np\n",
    "import pandas as pd\n",
    "pd.options.display.max_colwidth = -1\n",
    "import torch\n",
    "import matplotlib.pyplot as plt\n",
    "from sklearn.manifold import TSNE\n",
    "\n",
    "# Import the nemo toolkit and NLP libraries\n",
    "import nemo\n",
    "import nemo.collections.nlp as nemo_nlp\n",
    "\n",
    "# Import the specific neural modules we need\n",
    "from nemo.collections.nlp.nm.data_layers import BertTextClassificationDataLayer\n",
    "from nemo.collections.nlp.nm.trainables import get_pretrained_lm_model, SequenceClassifier\n",
    "from nemo.backends.pytorch.common.losses import CrossEntropyLossNM\n",
    "    \n",
    "# Import helpers for fetching the learning rate and tokenizer functions\n",
    "from nemo.utils.lr_policies import get_lr_policy\n",
    "from nemo.collections.nlp.data.tokenizers import get_tokenizer\n",
    "\n",
    "# Import callbacks and callback functions\n",
    "from nemo.core import SimpleLogger, TensorboardLogger, EvaluatorCallback, CheckpointCallback\n",
    "from nemo.collections.nlp.callbacks.text_classification_callback import eval_iter_callback, eval_epochs_done_callback\n",
    "\n",
    "%matplotlib inline"
   ]
  },
  {
   "cell_type": "markdown",
   "metadata": {},
   "source": [
    "## 3.1.1 Input Parameters\n",
    "For reusability and convenience, set up all of the parameters in one place at the beginning of the notebook.  This way, it will be easy to make changes when you want to try alternate models and configurations. \n",
    "\n",
    "### Model Choice\n",
    "There are lots of models to choose from. Recall that the pretrained language models we are starting from were trained in a self-supervised manner over general text.  The models vary in size, and thus in memory and processing requirements. In addition, some were trained on \"uncased\" data, where all capital letters have been changed to lower case.  This results in a smaller vocabulary file, and is generally fine for many tasks, but may not be best for tasks where casing matters, such as NER.  These are some of the tradeoffs you should consider in choosing your model.  The table below gives statistics for a few of the NeMo pretrained models:\n",
    "\n",
    "| Model Name                 | Pretraining                                              | Size            |\n",
    "|----------------------------|----------------------------------------------------------|-----------------|\n",
    "| bert-base-uncased          | uncased Wikipedia and BookCorpus                         | 110M parameters |\n",
    "| bert-base-cased            | cased Wikipedia and BookCorpus                           | 110M parameters |\n",
    "| bert-large-uncased         | uncased Wikipedia and BookCorpus                         | 335M parameters |\n",
    "| bert-large-cased           | cased Wikipedia and BookCorpus                           | 335M parameters |\n",
    "| megatron-bert-345m-uncased | uncased Wikipedia, RealNews, OpenWebText, and CC-Stories | 335M parameters |\n",
    "| megatron-bert-345m-cased   | cased Wikipedia, RealNews, OpenWebText, and CC-Stories   | 335M parameters |\n",
    "\n",
    "For more discussion on pretrained models and their parameters, please see the blog post, [\"State-of-the-Art Language Modeling Using Megatron on the NVIDIA A100 GPU\"](https://developer.nvidia.com/blog/language-modeling-using-megatron-a100-gpu/).<br>\n",
    "The [AMP_OPTIMIZATION_LEVEL](https://nvidia.github.io/apex/amp.html#opt-levels) parameter can be used to set the mixed precision level."
   ]
  },
  {
   "cell_type": "code",
   "execution_count": 2,
   "metadata": {},
   "outputs": [],
   "source": [
    "# Identify the input data location.\n",
    "DATA_DIR = '/dli/task/data/NCBI_tc-3/'\n",
    "\n",
    "# Identify the pretrained model and where information and checkpoints will be logged\n",
    "PRETRAINED_MODEL_NAME = 'bert-base-uncased'\n",
    "WORK_DIR = '/dli/task/data/logs-tc-bbu/'\n",
    "\n",
    "# PRETRAINED_MODEL_NAME = 'megatron-bert-345m-uncased'\n",
    "# WORK_DIR = '/dli/task/data/logs-tc-m345u/'\n",
    "\n",
    "# PRETRAINED_MODEL_NAME = 'bert-large-uncased'\n",
    "# WORK_DIR = '/dli/task/data/logs-tc-blu/'\n",
    "\n",
    "# To use mixed precision, set AMP_OPTIMIZATION_LEVEL to 'O1' or 'O2',\n",
    "# to train without mixed precision, set it to 'O0'.\n",
    "AMP_OPTIMIZATION_LEVEL = 'O1'\n",
    "\n",
    "# Set the number of words in the sequences\n",
    "# Shorter sequences will be padded with 0s, longer ones truncated\n",
    "MAX_SEQ_LEN = 128 \n",
    "# set batch size - will need smaller 16 for 'bert-large-uncased' and 'megatron-bert-345m-uncased'\n",
    "BATCH_SIZE = 64"
   ]
  },
  {
   "cell_type": "markdown",
   "metadata": {},
   "source": [
    "## 3.1.2 Prepare the Input Data\n",
    "In order to take advantage of NeMo's pre-built sentence classification data layer, the data should be formatted as \"sentence\\tlabel\" (sentence tab label).\n",
    "\n",
    "The training and evaluation datasets already have the correct \"sentence\\tlabel\" format and are ready to go for training, but the test set has no labels and needs to be updated. "
   ]
  },
  {
   "cell_type": "code",
   "execution_count": 3,
   "metadata": {},
   "outputs": [
    {
     "name": "stdout",
     "output_type": "stream",
     "text": [
      "total 1.4M\n",
      "-rw-r--r-- 1 root root 133K Jul 21 15:59 dev.tsv\n",
      "-rw-r--r-- 1 root root  15K Jul 21 15:59 test.tsv\n",
      "-rw-r--r-- 1 root root 1.2M Jul 21 15:59 train.tsv\n"
     ]
    }
   ],
   "source": [
    "!ls -lh $DATA_DIR"
   ]
  },
  {
   "cell_type": "code",
   "execution_count": 4,
   "metadata": {
    "scrolled": true
   },
   "outputs": [
    {
     "data": {
      "text/html": [
       "<div>\n",
       "<style scoped>\n",
       "    .dataframe tbody tr th:only-of-type {\n",
       "        vertical-align: middle;\n",
       "    }\n",
       "\n",
       "    .dataframe tbody tr th {\n",
       "        vertical-align: top;\n",
       "    }\n",
       "\n",
       "    .dataframe thead th {\n",
       "        text-align: right;\n",
       "    }\n",
       "</style>\n",
       "<table border=\"1\" class=\"dataframe\">\n",
       "  <thead>\n",
       "    <tr style=\"text-align: right;\">\n",
       "      <th></th>\n",
       "      <th>sentence</th>\n",
       "    </tr>\n",
       "  </thead>\n",
       "  <tbody>\n",
       "    <tr>\n",
       "      <th>0</th>\n",
       "      <td>Clustering of missense mutations in the ataxia-telangiectasia gene in a sporadic T-cell leukaemia. Ataxia-telangiectasia ( A-T ) is a recessive multi-system disorder caused by mutations in the ATM gene at 11q22-q23 ( ref . 3 ) . The risk of cancer , especially lymphoid neoplasias , is substantially elevated in A-T patients and has long been associated with chromosomal instability . By analysing tumour DNA from patients with sporadic T-cell prolymphocytic leukaemia ( T-PLL ) , a rare clonal malignancy with similarities to a mature T-cell leukaemia seen in A-T , we demonstrate a high frequency of ATM mutations in T-PLL . In marked contrast to the ATM mutation pattern in A-T , the most frequent nucleotide changes in this leukaemia were missense mutations . These clustered in the region corresponding to the kinase domain , which is highly conserved in ATM-related proteins in mouse , yeast and Drosophila . The resulting amino-acid substitutions are predicted to interfere with ATP binding or substrate recognition . Two of seventeen mutated T-PLL samples had a previously reported A-T allele . In contrast , no mutations were detected in the p53 gene , suggesting that this tumour suppressor is not frequently altered in this leukaemia . Occasional missense mutations in ATM were also found in tumour DNA from patients with B-cell non-Hodgkins lymphomas ( B-NHL ) and a B-NHL cell line . The evidence of a significant proportion of loss-of-function mutations and a complete absence of the normal copy of ATM in the majority of mutated tumours establishes somatic inactivation of this gene in the pathogenesis of sporadic T-PLL and suggests that ATM acts as a tumour suppressor . As constitutional DNA was not available , a putative hereditary predisposition to T-PLL will require further investigation . .</td>\n",
       "    </tr>\n",
       "    <tr>\n",
       "      <th>1</th>\n",
       "      <td>Myotonic dystrophy protein kinase is involved in the modulation of the Ca2+ homeostasis in skeletal muscle cells. Myotonic dystrophy ( DM ) , the most prevalent muscular disorder in adults , is caused by ( CTG ) n-repeat expansion in a gene encoding a protein kinase ( DM protein kinase ; DMPK ) and involves changes in cytoarchitecture and ion homeostasis . To obtain clues to the normal biological role of DMPK in cellular ion homeostasis , we have compared the resting [ Ca2 + ] i , the amplitude and shape of depolarization-induced Ca2 + transients , and the content of ATP-driven ion pumps in cultured skeletal muscle cells of wild-type and DMPK [ - / - ] knockout mice . In vitro-differentiated DMPK [ - / - ] myotubes exhibit a higher resting [ Ca2 + ] i than do wild-type myotubes because of an altered open probability of voltage-dependent l-type Ca2 + and Na + channels . The mutant myotubes exhibit smaller and slower Ca2 + responses upon triggering by acetylcholine or high external K + . In addition , we observed that these Ca2 + transients partially result from an influx of extracellular Ca2 + through the l-type Ca2 + channel . Neither the content nor the activity of Na + / K + ATPase and sarcoplasmic reticulum Ca2 + -ATPase are affected by DMPK absence . In conclusion , our data suggest that DMPK is involved in modulating the initial events of excitation-contraction coupling in skeletal muscle . .</td>\n",
       "    </tr>\n",
       "  </tbody>\n",
       "</table>\n",
       "</div>"
      ],
      "text/plain": [
       "                                                                                                                                                                                                                                                                                                                                                                                                                                                                                                                                                                                                                                                                                                                                                                                                                                                                                                                                                                                                                                                                                                                                                                                                                                                                                                                                                                                                                                                                                                                                                                                                                                                                                                                                                                                                                                                                                  sentence\n",
       "0  Clustering of missense mutations in the ataxia-telangiectasia gene in a sporadic T-cell leukaemia. Ataxia-telangiectasia ( A-T ) is a recessive multi-system disorder caused by mutations in the ATM gene at 11q22-q23 ( ref . 3 ) . The risk of cancer , especially lymphoid neoplasias , is substantially elevated in A-T patients and has long been associated with chromosomal instability . By analysing tumour DNA from patients with sporadic T-cell prolymphocytic leukaemia ( T-PLL ) , a rare clonal malignancy with similarities to a mature T-cell leukaemia seen in A-T , we demonstrate a high frequency of ATM mutations in T-PLL . In marked contrast to the ATM mutation pattern in A-T , the most frequent nucleotide changes in this leukaemia were missense mutations . These clustered in the region corresponding to the kinase domain , which is highly conserved in ATM-related proteins in mouse , yeast and Drosophila . The resulting amino-acid substitutions are predicted to interfere with ATP binding or substrate recognition . Two of seventeen mutated T-PLL samples had a previously reported A-T allele . In contrast , no mutations were detected in the p53 gene , suggesting that this tumour suppressor is not frequently altered in this leukaemia . Occasional missense mutations in ATM were also found in tumour DNA from patients with B-cell non-Hodgkins lymphomas ( B-NHL ) and a B-NHL cell line . The evidence of a significant proportion of loss-of-function mutations and a complete absence of the normal copy of ATM in the majority of mutated tumours establishes somatic inactivation of this gene in the pathogenesis of sporadic T-PLL and suggests that ATM acts as a tumour suppressor . As constitutional DNA was not available , a putative hereditary predisposition to T-PLL will require further investigation . . \n",
       "1  Myotonic dystrophy protein kinase is involved in the modulation of the Ca2+ homeostasis in skeletal muscle cells. Myotonic dystrophy ( DM ) , the most prevalent muscular disorder in adults , is caused by ( CTG ) n-repeat expansion in a gene encoding a protein kinase ( DM protein kinase ; DMPK ) and involves changes in cytoarchitecture and ion homeostasis . To obtain clues to the normal biological role of DMPK in cellular ion homeostasis , we have compared the resting [ Ca2 + ] i , the amplitude and shape of depolarization-induced Ca2 + transients , and the content of ATP-driven ion pumps in cultured skeletal muscle cells of wild-type and DMPK [ - / - ] knockout mice . In vitro-differentiated DMPK [ - / - ] myotubes exhibit a higher resting [ Ca2 + ] i than do wild-type myotubes because of an altered open probability of voltage-dependent l-type Ca2 + and Na + channels . The mutant myotubes exhibit smaller and slower Ca2 + responses upon triggering by acetylcholine or high external K + . In addition , we observed that these Ca2 + transients partially result from an influx of extracellular Ca2 + through the l-type Ca2 + channel . Neither the content nor the activity of Na + / K + ATPase and sarcoplasmic reticulum Ca2 + -ATPase are affected by DMPK absence . In conclusion , our data suggest that DMPK is involved in modulating the initial events of excitation-contraction coupling in skeletal muscle . .                                                                                                                                                                                                                                                                                                                                                                                                           "
      ]
     },
     "execution_count": 4,
     "metadata": {},
     "output_type": "execute_result"
    }
   ],
   "source": [
    "test_df = pd.read_csv(DATA_DIR + 'test.tsv', sep='\\t')\n",
    "test_df.head(2)"
   ]
  },
  {
   "cell_type": "code",
   "execution_count": 5,
   "metadata": {},
   "outputs": [],
   "source": [
    "# Add a label column filled with the '0' value, which will be ignored during testing.\n",
    "test_df['label'] = 0\n",
    "test_df = test_df[['sentence', 'label']]"
   ]
  },
  {
   "cell_type": "markdown",
   "metadata": {},
   "source": [
    "Now we should see the headings we need: \"sentence\" and \"label\"."
   ]
  },
  {
   "cell_type": "code",
   "execution_count": 6,
   "metadata": {
    "scrolled": true
   },
   "outputs": [
    {
     "data": {
      "text/html": [
       "<div>\n",
       "<style scoped>\n",
       "    .dataframe tbody tr th:only-of-type {\n",
       "        vertical-align: middle;\n",
       "    }\n",
       "\n",
       "    .dataframe tbody tr th {\n",
       "        vertical-align: top;\n",
       "    }\n",
       "\n",
       "    .dataframe thead th {\n",
       "        text-align: right;\n",
       "    }\n",
       "</style>\n",
       "<table border=\"1\" class=\"dataframe\">\n",
       "  <thead>\n",
       "    <tr style=\"text-align: right;\">\n",
       "      <th></th>\n",
       "      <th>sentence</th>\n",
       "      <th>label</th>\n",
       "    </tr>\n",
       "  </thead>\n",
       "  <tbody>\n",
       "    <tr>\n",
       "      <th>0</th>\n",
       "      <td>Clustering of missense mutations in the ataxia-telangiectasia gene in a sporadic T-cell leukaemia. Ataxia-telangiectasia ( A-T ) is a recessive multi-system disorder caused by mutations in the ATM gene at 11q22-q23 ( ref . 3 ) . The risk of cancer , especially lymphoid neoplasias , is substantially elevated in A-T patients and has long been associated with chromosomal instability . By analysing tumour DNA from patients with sporadic T-cell prolymphocytic leukaemia ( T-PLL ) , a rare clonal malignancy with similarities to a mature T-cell leukaemia seen in A-T , we demonstrate a high frequency of ATM mutations in T-PLL . In marked contrast to the ATM mutation pattern in A-T , the most frequent nucleotide changes in this leukaemia were missense mutations . These clustered in the region corresponding to the kinase domain , which is highly conserved in ATM-related proteins in mouse , yeast and Drosophila . The resulting amino-acid substitutions are predicted to interfere with ATP binding or substrate recognition . Two of seventeen mutated T-PLL samples had a previously reported A-T allele . In contrast , no mutations were detected in the p53 gene , suggesting that this tumour suppressor is not frequently altered in this leukaemia . Occasional missense mutations in ATM were also found in tumour DNA from patients with B-cell non-Hodgkins lymphomas ( B-NHL ) and a B-NHL cell line . The evidence of a significant proportion of loss-of-function mutations and a complete absence of the normal copy of ATM in the majority of mutated tumours establishes somatic inactivation of this gene in the pathogenesis of sporadic T-PLL and suggests that ATM acts as a tumour suppressor . As constitutional DNA was not available , a putative hereditary predisposition to T-PLL will require further investigation . .</td>\n",
       "      <td>0</td>\n",
       "    </tr>\n",
       "    <tr>\n",
       "      <th>1</th>\n",
       "      <td>Myotonic dystrophy protein kinase is involved in the modulation of the Ca2+ homeostasis in skeletal muscle cells. Myotonic dystrophy ( DM ) , the most prevalent muscular disorder in adults , is caused by ( CTG ) n-repeat expansion in a gene encoding a protein kinase ( DM protein kinase ; DMPK ) and involves changes in cytoarchitecture and ion homeostasis . To obtain clues to the normal biological role of DMPK in cellular ion homeostasis , we have compared the resting [ Ca2 + ] i , the amplitude and shape of depolarization-induced Ca2 + transients , and the content of ATP-driven ion pumps in cultured skeletal muscle cells of wild-type and DMPK [ - / - ] knockout mice . In vitro-differentiated DMPK [ - / - ] myotubes exhibit a higher resting [ Ca2 + ] i than do wild-type myotubes because of an altered open probability of voltage-dependent l-type Ca2 + and Na + channels . The mutant myotubes exhibit smaller and slower Ca2 + responses upon triggering by acetylcholine or high external K + . In addition , we observed that these Ca2 + transients partially result from an influx of extracellular Ca2 + through the l-type Ca2 + channel . Neither the content nor the activity of Na + / K + ATPase and sarcoplasmic reticulum Ca2 + -ATPase are affected by DMPK absence . In conclusion , our data suggest that DMPK is involved in modulating the initial events of excitation-contraction coupling in skeletal muscle . .</td>\n",
       "      <td>0</td>\n",
       "    </tr>\n",
       "    <tr>\n",
       "      <th>2</th>\n",
       "      <td>Constitutional RB1-gene mutations in patients with isolated unilateral retinoblastoma. In most patients with isolated unilateral retinoblastoma , tumor development is initiated by somatic inactivation of both alleles of the RB1 gene . However , some of these patients can transmit retinoblastoma predisposition to their offspring . To determine the frequency and nature of constitutional RB1-gene mutations in patients with isolated unilateral retinoblastoma , we analyzed DNA from peripheral blood and from tumor tissue . The analysis of tumors from 54 ( 71 % ) of 76 informative patients showed loss of constitutional heterozygosity ( LOH ) at intragenic loci . Three of 13 uninformative patients had constitutional deletions . For 39 randomly selected tumors , SSCP , hetero-duplex analysis , sequencing , and Southern blot analysis were used to identify mutations . Mutations were detected in 21 ( 91 % ) of 23 tumors with LOH . In 6 ( 38 % ) of 16 tumors without LOH , one mutation was detected , and in 9 ( 56 % ) of the tumors without LOH , both mutations were found . Thus , a total of 45 mutations were identified in tumors of 36 patients . Thirty-nine of the mutations-including 34 small mutations , 2 large structural alterations , and hypermethylation in 3 tumors-were not detected in the corresponding peripheral blood DNA . In 6 ( 17 % ) of the 36 patients , a mutation was detected in constitutional DNA , and 1 of these mutations is known to be associated with reduced expressivity . The presence of a constitutional mutation was not associated with an early age at treatment . In 1 patient , somatic mosaicism was demonstrated by molecular analysis of DNA and RNA from peripheral blood . In 2 patients without a detectable mutation in peripheral blood , mosaicism was suggested because 1 of the patients showed multifocal tumors and the other later developed bilateral retinoblastoma . In conclusion , our results emphasize that the manifestation and transmissibility of retinoblastoma depend on the nature of the first mutation , its time in development , and the number and types of cells that are affected . .</td>\n",
       "      <td>0</td>\n",
       "    </tr>\n",
       "    <tr>\n",
       "      <th>3</th>\n",
       "      <td>Hereditary deficiency of the fifth component of complement in man. I. Clinical, immunochemical, and family studies. The first recognized human kindred with hereditary deficiency of the fifth component of complement ( C5 ) is described . The proband , a 20-year-old black female with systemic lupus erythematosus since age 11 , lacked serum hemolytic complement activity , even during remission . C5 was undetectable in her serum by both immunodiffusion and hemolytic assays . Other complement components were normal during remission of lupus , but C1 , C4 , C2 , and C3 levels fell during exacerbations . A younger half-sister , who had no underlying disease , was also found to lack immunochemically detectable C5 . By hemolytic assay , she exhibited 1-2 % of the normal serum C5 level and normal concentrations of other complement components . C5 levels of other family members were either normal or approximately half-normal , consistent with autosomal codominant inheritance of the gene determining C5 deficiency . Normal hemolytic titers were restored to both homozygous C5-deficient ( C5D ) sera by addition of highly purified human C5 . In specific C5 titrations , however , it was noted that when limited amounts of C5 were assayed in the presence of low dilutions of either C5D serum , curving rather than linear dose-response plots were consistently obtained , suggesting some inhibitory effect . Further studies suggested that low dilutions of C5D serum contain a factor ( or factors ) interfering at some step in the hemolytic assay of C5 , rather than a true C5 inhibitor or inactivator . Of clinical interest are ( a ) the documentation of membranous glomerulonephritis , vasculitis , and arthritis in an individual lacking C5 ( and its biologic functions ) , and ( b ) a remarkable propensity to bacterial infections in the proband , even during periods of low-dose or alternate-day corticosteroid therapy . Other observations indicate that the C5D state is compatible with normal coagulation function and the capacity to mount a neutrophilic leukocytosis during pyogenic infection . .</td>\n",
       "      <td>0</td>\n",
       "    </tr>\n",
       "    <tr>\n",
       "      <th>4</th>\n",
       "      <td>Susceptibility to ankylosing spondylitis in twins: the role of genes, HLA, and the environment. OBJECTIVE  To determine the relative effects of genetic and environmental factors in susceptibility to ankylosing spondylitis ( AS ) . METHODS  Twins with AS were identified from the Royal National Hospital for Rheumatic Diseases database . Clinical and radiographic examinations were performed to establish diagnoses , and disease severity was assessed using a combination of validated scoring systems . HLA typing for HLA-B27 , HLA-B60 , and HLA-DR1 was performed by polymerase chain reaction with sequence-specific primers , and zygosity was assessed using microsatellite markers . Genetic and environmental variance components were assessed with the program Mx , using data from this and previous studies of twins with AS . RESULTS  Six of 8 monozygotic ( MZ ) twin pairs were disease concordant , compared with 4 of 15 B27-positive dizygotic ( DZ ) twin pairs ( 27 % ) and 4 of 32 DZ twin pairs overall ( 12 . 5 % ) . Nonsignificant increases in similarity with regard to age at disease onset and all of the disease severity scores assessed were noted in disease-concordant MZ twins compared with concordant DZ twins . HLA-B27 and B60 were associated with the disease in probands , and the rate of disease concordance was significantly increased among DZ twin pairs in which the co-twin was positive for both B27 and DR1 . Additive genetic effects were estimated to contribute 97 % of the population variance . CONCLUSION  Susceptibility to AS is largely genetically determined , and the environmental trigger for the disease is probably ubiquitous . HLA-B27 accounts for a minority of the overall genetic susceptibility to AS .</td>\n",
       "      <td>0</td>\n",
       "    </tr>\n",
       "  </tbody>\n",
       "</table>\n",
       "</div>"
      ],
      "text/plain": [
       "                                                                                                                                                                                                                                                                                                                                                                                                                                                                                                                                                                                                                                                                                                                                                                                                                                                                                                                                                                                                                                                                                                                                                                                                                                                                                                                                                                                                                                                                                                                                                                                                                                                                                                                                                                                                                                                                                                                                                                                                                                                                                                                                                                                                             sentence  \\\n",
       "0  Clustering of missense mutations in the ataxia-telangiectasia gene in a sporadic T-cell leukaemia. Ataxia-telangiectasia ( A-T ) is a recessive multi-system disorder caused by mutations in the ATM gene at 11q22-q23 ( ref . 3 ) . The risk of cancer , especially lymphoid neoplasias , is substantially elevated in A-T patients and has long been associated with chromosomal instability . By analysing tumour DNA from patients with sporadic T-cell prolymphocytic leukaemia ( T-PLL ) , a rare clonal malignancy with similarities to a mature T-cell leukaemia seen in A-T , we demonstrate a high frequency of ATM mutations in T-PLL . In marked contrast to the ATM mutation pattern in A-T , the most frequent nucleotide changes in this leukaemia were missense mutations . These clustered in the region corresponding to the kinase domain , which is highly conserved in ATM-related proteins in mouse , yeast and Drosophila . The resulting amino-acid substitutions are predicted to interfere with ATP binding or substrate recognition . Two of seventeen mutated T-PLL samples had a previously reported A-T allele . In contrast , no mutations were detected in the p53 gene , suggesting that this tumour suppressor is not frequently altered in this leukaemia . Occasional missense mutations in ATM were also found in tumour DNA from patients with B-cell non-Hodgkins lymphomas ( B-NHL ) and a B-NHL cell line . The evidence of a significant proportion of loss-of-function mutations and a complete absence of the normal copy of ATM in the majority of mutated tumours establishes somatic inactivation of this gene in the pathogenesis of sporadic T-PLL and suggests that ATM acts as a tumour suppressor . As constitutional DNA was not available , a putative hereditary predisposition to T-PLL will require further investigation . .                                                                                                                                                                                                                                                                                                                               \n",
       "1  Myotonic dystrophy protein kinase is involved in the modulation of the Ca2+ homeostasis in skeletal muscle cells. Myotonic dystrophy ( DM ) , the most prevalent muscular disorder in adults , is caused by ( CTG ) n-repeat expansion in a gene encoding a protein kinase ( DM protein kinase ; DMPK ) and involves changes in cytoarchitecture and ion homeostasis . To obtain clues to the normal biological role of DMPK in cellular ion homeostasis , we have compared the resting [ Ca2 + ] i , the amplitude and shape of depolarization-induced Ca2 + transients , and the content of ATP-driven ion pumps in cultured skeletal muscle cells of wild-type and DMPK [ - / - ] knockout mice . In vitro-differentiated DMPK [ - / - ] myotubes exhibit a higher resting [ Ca2 + ] i than do wild-type myotubes because of an altered open probability of voltage-dependent l-type Ca2 + and Na + channels . The mutant myotubes exhibit smaller and slower Ca2 + responses upon triggering by acetylcholine or high external K + . In addition , we observed that these Ca2 + transients partially result from an influx of extracellular Ca2 + through the l-type Ca2 + channel . Neither the content nor the activity of Na + / K + ATPase and sarcoplasmic reticulum Ca2 + -ATPase are affected by DMPK absence . In conclusion , our data suggest that DMPK is involved in modulating the initial events of excitation-contraction coupling in skeletal muscle . .                                                                                                                                                                                                                                                                                                                                                                                                                                                                                                                                                                                                                                                                                                                                         \n",
       "2  Constitutional RB1-gene mutations in patients with isolated unilateral retinoblastoma. In most patients with isolated unilateral retinoblastoma , tumor development is initiated by somatic inactivation of both alleles of the RB1 gene . However , some of these patients can transmit retinoblastoma predisposition to their offspring . To determine the frequency and nature of constitutional RB1-gene mutations in patients with isolated unilateral retinoblastoma , we analyzed DNA from peripheral blood and from tumor tissue . The analysis of tumors from 54 ( 71 % ) of 76 informative patients showed loss of constitutional heterozygosity ( LOH ) at intragenic loci . Three of 13 uninformative patients had constitutional deletions . For 39 randomly selected tumors , SSCP , hetero-duplex analysis , sequencing , and Southern blot analysis were used to identify mutations . Mutations were detected in 21 ( 91 % ) of 23 tumors with LOH . In 6 ( 38 % ) of 16 tumors without LOH , one mutation was detected , and in 9 ( 56 % ) of the tumors without LOH , both mutations were found . Thus , a total of 45 mutations were identified in tumors of 36 patients . Thirty-nine of the mutations-including 34 small mutations , 2 large structural alterations , and hypermethylation in 3 tumors-were not detected in the corresponding peripheral blood DNA . In 6 ( 17 % ) of the 36 patients , a mutation was detected in constitutional DNA , and 1 of these mutations is known to be associated with reduced expressivity . The presence of a constitutional mutation was not associated with an early age at treatment . In 1 patient , somatic mosaicism was demonstrated by molecular analysis of DNA and RNA from peripheral blood . In 2 patients without a detectable mutation in peripheral blood , mosaicism was suggested because 1 of the patients showed multifocal tumors and the other later developed bilateral retinoblastoma . In conclusion , our results emphasize that the manifestation and transmissibility of retinoblastoma depend on the nature of the first mutation , its time in development , and the number and types of cells that are affected . .    \n",
       "3  Hereditary deficiency of the fifth component of complement in man. I. Clinical, immunochemical, and family studies. The first recognized human kindred with hereditary deficiency of the fifth component of complement ( C5 ) is described . The proband , a 20-year-old black female with systemic lupus erythematosus since age 11 , lacked serum hemolytic complement activity , even during remission . C5 was undetectable in her serum by both immunodiffusion and hemolytic assays . Other complement components were normal during remission of lupus , but C1 , C4 , C2 , and C3 levels fell during exacerbations . A younger half-sister , who had no underlying disease , was also found to lack immunochemically detectable C5 . By hemolytic assay , she exhibited 1-2 % of the normal serum C5 level and normal concentrations of other complement components . C5 levels of other family members were either normal or approximately half-normal , consistent with autosomal codominant inheritance of the gene determining C5 deficiency . Normal hemolytic titers were restored to both homozygous C5-deficient ( C5D ) sera by addition of highly purified human C5 . In specific C5 titrations , however , it was noted that when limited amounts of C5 were assayed in the presence of low dilutions of either C5D serum , curving rather than linear dose-response plots were consistently obtained , suggesting some inhibitory effect . Further studies suggested that low dilutions of C5D serum contain a factor ( or factors ) interfering at some step in the hemolytic assay of C5 , rather than a true C5 inhibitor or inactivator . Of clinical interest are ( a ) the documentation of membranous glomerulonephritis , vasculitis , and arthritis in an individual lacking C5 ( and its biologic functions ) , and ( b ) a remarkable propensity to bacterial infections in the proband , even during periods of low-dose or alternate-day corticosteroid therapy . Other observations indicate that the C5D state is compatible with normal coagulation function and the capacity to mount a neutrophilic leukocytosis during pyogenic infection . .                                 \n",
       "4  Susceptibility to ankylosing spondylitis in twins: the role of genes, HLA, and the environment. OBJECTIVE  To determine the relative effects of genetic and environmental factors in susceptibility to ankylosing spondylitis ( AS ) . METHODS  Twins with AS were identified from the Royal National Hospital for Rheumatic Diseases database . Clinical and radiographic examinations were performed to establish diagnoses , and disease severity was assessed using a combination of validated scoring systems . HLA typing for HLA-B27 , HLA-B60 , and HLA-DR1 was performed by polymerase chain reaction with sequence-specific primers , and zygosity was assessed using microsatellite markers . Genetic and environmental variance components were assessed with the program Mx , using data from this and previous studies of twins with AS . RESULTS  Six of 8 monozygotic ( MZ ) twin pairs were disease concordant , compared with 4 of 15 B27-positive dizygotic ( DZ ) twin pairs ( 27 % ) and 4 of 32 DZ twin pairs overall ( 12 . 5 % ) . Nonsignificant increases in similarity with regard to age at disease onset and all of the disease severity scores assessed were noted in disease-concordant MZ twins compared with concordant DZ twins . HLA-B27 and B60 were associated with the disease in probands , and the rate of disease concordance was significantly increased among DZ twin pairs in which the co-twin was positive for both B27 and DR1 . Additive genetic effects were estimated to contribute 97 % of the population variance . CONCLUSION  Susceptibility to AS is largely genetically determined , and the environmental trigger for the disease is probably ubiquitous . HLA-B27 accounts for a minority of the overall genetic susceptibility to AS .                                                                                                                                                                                                                                                                                                                                                                                                                    \n",
       "\n",
       "   label  \n",
       "0  0      \n",
       "1  0      \n",
       "2  0      \n",
       "3  0      \n",
       "4  0      "
      ]
     },
     "execution_count": 6,
     "metadata": {},
     "output_type": "execute_result"
    }
   ],
   "source": [
    "test_df.head()"
   ]
  },
  {
   "cell_type": "code",
   "execution_count": 7,
   "metadata": {},
   "outputs": [
    {
     "name": "stdout",
     "output_type": "stream",
     "text": [
      "total 1.4M\n",
      "-rw-r--r-- 1 root root 133K Jul 21 15:59 dev.tsv\n",
      "-rw-r--r-- 1 root root  16K Jul 21 15:59 labeled_test.tsv\n",
      "-rw-r--r-- 1 root root  15K Jul 21 15:59 test.tsv\n",
      "-rw-r--r-- 1 root root 1.2M Jul 21 15:59 train.tsv\n"
     ]
    }
   ],
   "source": [
    "# Save the updated test file to disk\n",
    "test_df.to_csv(os.path.join(DATA_DIR, 'labeled_test.tsv'), sep='\\t', index=False)\n",
    "!ls -lh $DATA_DIR"
   ]
  },
  {
   "cell_type": "markdown",
   "metadata": {},
   "source": [
    "# 3.2 Exercise: Create Neural Modules\n",
    "You have everything you need to do most of this part yourself.  You're going to create the necessary neural modules for three pipelines:  training, validation, and test.  We always must begin by instantiating the `NerualModuleFactory`."
   ]
  },
  {
   "cell_type": "code",
   "execution_count": 8,
   "metadata": {},
   "outputs": [],
   "source": [
    "# Instantiate the neural module factory\n",
    "nf = nemo.core.NeuralModuleFactory(log_dir=WORK_DIR,\n",
    "                                   create_tb_writer=True,\n",
    "                                   add_time_to_log_dir=False,\n",
    "                                   optimization_level=AMP_OPTIMIZATION_LEVEL)"
   ]
  },
  {
   "cell_type": "markdown",
   "metadata": {},
   "source": [
    "Training, validation, and test each need a data layer neural module instantiated with `BertTextClassificationDataLayer`.  They will reuse the same language and classifier neural modules.  Only the training and validation pipelines will need a loss function neural module, which will be reused as well.\n",
    "\n",
    "In the next cell, the tokenizer and training data layer neural module are instantiated to get you started.  The tokenizer is required for the data layers."
   ]
  },
  {
   "cell_type": "code",
   "execution_count": 9,
   "metadata": {
    "scrolled": true
   },
   "outputs": [
    {
     "name": "stdout",
     "output_type": "stream",
     "text": [
      "[NeMo I 2020-07-21 15:59:59 bert_tokenizer:78] Deriving bert model type from pretrained model name.\n"
     ]
    },
    {
     "data": {
      "application/vnd.jupyter.widget-view+json": {
       "model_id": "4d0ac30144e34d99a6c1a40bb64b789c",
       "version_major": 2,
       "version_minor": 0
      },
      "text/plain": [
       "HBox(children=(IntProgress(value=0, description='Downloading', max=231508, style=ProgressStyle(description_wid…"
      ]
     },
     "metadata": {},
     "output_type": "display_data"
    },
    {
     "name": "stdout",
     "output_type": "stream",
     "text": [
      "\n",
      "[NeMo I 2020-07-21 16:00:01 text_classification_dataset:82] /dli/task/data/NCBI_tc-3/train.tsv: 962\n",
      "[NeMo I 2020-07-21 16:00:16 data_preprocessing:250] Min: 74 |                  Max: 733 |                  Mean: 300.6756756756757 |                  Median: 299.5\n",
      "[NeMo I 2020-07-21 16:00:16 data_preprocessing:252] 75 percentile: 364.0\n",
      "[NeMo I 2020-07-21 16:00:16 data_preprocessing:253] 99 percentile: 570.9699999999997\n",
      "[NeMo I 2020-07-21 16:00:17 text_classification_dataset:118] 937 out of 962                         sentences with more than 128 subtokens.\n",
      "[NeMo I 2020-07-21 16:00:17 text_classification_dataset:175] *** Example ***\n",
      "[NeMo I 2020-07-21 16:00:17 text_classification_dataset:176] example_index: 0\n",
      "[NeMo I 2020-07-21 16:00:17 text_classification_dataset:177] subtokens: [CLS] ##16 and cd ##k ##4 genes have been reported in a subset of mel ##ano ##ma pe ##di ##gree ##s , but their prevalence is not well known . we searched for such ge ##rm ##line mutations in 48 french mel ##ano ##ma - prone families selected according to two major criteria families with at least three affected members ( n = 20 ) or families with two affected members , one of them affected before the age of 50 ( n = 28 ) , and one additional minor criterion . sixteen different p ##16 ge ##rm ##line mutations were found in 21 families , while one ge ##rm ##line mutation , ar ##g ##24 ##his , was detected in the cd ##k ##4 gene [SEP]\n",
      "[NeMo I 2020-07-21 16:00:17 text_classification_dataset:178] sent_label: 0\n",
      "[NeMo I 2020-07-21 16:00:17 text_classification_dataset:179] input_ids: 101 16048 1998 3729 2243 2549 9165 2031 2042 2988 1999 1037 16745 1997 11463 6761 2863 21877 4305 28637 2015 1010 2021 2037 20272 2003 2025 2092 2124 1012 2057 9022 2005 2107 16216 10867 4179 14494 1999 4466 2413 11463 6761 2863 1011 13047 2945 3479 2429 2000 2048 2350 9181 2945 2007 2012 2560 2093 5360 2372 1006 1050 1027 2322 1007 2030 2945 2007 2048 5360 2372 1010 2028 1997 2068 5360 2077 1996 2287 1997 2753 1006 1050 1027 2654 1007 1010 1998 2028 3176 3576 19229 1012 7032 2367 1052 16048 16216 10867 4179 14494 2020 2179 1999 2538 2945 1010 2096 2028 16216 10867 4179 16221 1010 12098 2290 18827 24158 1010 2001 11156 1999 1996 3729 2243 2549 4962 102\n",
      "[NeMo I 2020-07-21 16:00:17 text_classification_dataset:180] input_mask: 1 1 1 1 1 1 1 1 1 1 1 1 1 1 1 1 1 1 1 1 1 1 1 1 1 1 1 1 1 1 1 1 1 1 1 1 1 1 1 1 1 1 1 1 1 1 1 1 1 1 1 1 1 1 1 1 1 1 1 1 1 1 1 1 1 1 1 1 1 1 1 1 1 1 1 1 1 1 1 1 1 1 1 1 1 1 1 1 1 1 1 1 1 1 1 1 1 1 1 1 1 1 1 1 1 1 1 1 1 1 1 1 1 1 1 1 1 1 1 1 1 1 1 1 1 1 1 1\n",
      "[NeMo I 2020-07-21 16:00:17 text_classification_dataset:175] *** Example ***\n",
      "[NeMo I 2020-07-21 16:00:17 text_classification_dataset:176] example_index: 1\n",
      "[NeMo I 2020-07-21 16:00:17 text_classification_dataset:177] subtokens: [CLS] analysis of 80 inter ##sp ##ec ##ific back ##cross offspring was used to position atp ##7 ##b close to d ##8 ##mit ##3 and another atp ##ase locus , atp ##4 ##b , on mouse chromosome 8 . atp ##4 ##b lies in 13 ##q ##34 and is separated from atp ##7 ##b by several lo ##ci whose mouse homo ##logue ##s map to mouse chromosome 14 . the assignment of atp ##7 ##b to mouse chromosome 8 identifies a previously un ##re ##co ##gni ##zed region of homo ##logy between this chromosome and human chromosome 13 . this assignment suggests a possible location for the toxic milk mutation in the mouse , which has been proposed as a homo ##logue of w ##d . . [SEP]\n",
      "[NeMo I 2020-07-21 16:00:17 text_classification_dataset:178] sent_label: 1\n",
      "[NeMo I 2020-07-21 16:00:17 text_classification_dataset:179] input_ids: 101 4106 1997 3770 6970 13102 8586 18513 2067 16458 13195 2001 2109 2000 2597 12649 2581 2497 2485 2000 1040 2620 22930 2509 1998 2178 12649 11022 25206 1010 12649 2549 2497 1010 2006 8000 16706 1022 1012 12649 2549 2497 3658 1999 2410 4160 22022 1998 2003 5459 2013 12649 2581 2497 2011 2195 8840 6895 3005 8000 24004 24277 2015 4949 2000 8000 16706 2403 1012 1996 8775 1997 12649 2581 2497 2000 8000 16706 1022 14847 1037 3130 4895 2890 3597 29076 5422 2555 1997 24004 6483 2090 2023 16706 1998 2529 16706 2410 1012 2023 8775 6083 1037 2825 3295 2005 1996 11704 6501 16221 1999 1996 8000 1010 2029 2038 2042 3818 2004 1037 24004 24277 1997 1059 2094 1012 1012 102\n",
      "[NeMo I 2020-07-21 16:00:17 text_classification_dataset:180] input_mask: 1 1 1 1 1 1 1 1 1 1 1 1 1 1 1 1 1 1 1 1 1 1 1 1 1 1 1 1 1 1 1 1 1 1 1 1 1 1 1 1 1 1 1 1 1 1 1 1 1 1 1 1 1 1 1 1 1 1 1 1 1 1 1 1 1 1 1 1 1 1 1 1 1 1 1 1 1 1 1 1 1 1 1 1 1 1 1 1 1 1 1 1 1 1 1 1 1 1 1 1 1 1 1 1 1 1 1 1 1 1 1 1 1 1 1 1 1 1 1 1 1 1 1 1 1 1 1 1\n",
      "[NeMo I 2020-07-21 16:00:17 text_classification_dataset:175] *** Example ***\n",
      "[NeMo I 2020-07-21 16:00:17 text_classification_dataset:176] example_index: 2\n",
      "[NeMo I 2020-07-21 16:00:17 text_classification_dataset:177] subtokens: [CLS] nonsense mutation in ex ##on 17 ( cod ##on 55 ##6 ) of the rb ##1 gene was found to be present homo ##zy ##go ##usly in both the re ##tina ##l and the pine ##al tu ##mour ##s . the same mutation was present het ##ero ##zy ##go ##usly in the dna from the constitutional cells of the patient , proving it to be of ge ##rm ##line origin . the initial mutation was shown to have occurred in the paternal ##ly derived rb ##1 all ##ele . the mutation is in an area of the gene that en ##codes the protein - binding region known as the pocket region and has been detected in other cases of re ##tino ##bla ##sto ##ma . . [SEP]\n",
      "[NeMo I 2020-07-21 16:00:17 text_classification_dataset:178] sent_label: 2\n",
      "[NeMo I 2020-07-21 16:00:17 text_classification_dataset:179] input_ids: 101 14652 16221 1999 4654 2239 2459 1006 19429 2239 4583 2575 1007 1997 1996 21144 2487 4962 2001 2179 2000 2022 2556 24004 9096 3995 27191 1999 2119 1996 2128 13770 2140 1998 1996 7222 2389 10722 20360 2015 1012 1996 2168 16221 2001 2556 21770 10624 9096 3995 27191 1999 1996 6064 2013 1996 6543 4442 1997 1996 5776 1010 13946 2009 2000 2022 1997 16216 10867 4179 4761 1012 1996 3988 16221 2001 3491 2000 2031 4158 1999 1996 15112 2135 5173 21144 2487 2035 12260 1012 1996 16221 2003 1999 2019 2181 1997 1996 4962 2008 4372 23237 1996 5250 1011 8031 2555 2124 2004 1996 4979 2555 1998 2038 2042 11156 1999 2060 3572 1997 2128 25690 28522 16033 2863 1012 1012 102\n",
      "[NeMo I 2020-07-21 16:00:17 text_classification_dataset:180] input_mask: 1 1 1 1 1 1 1 1 1 1 1 1 1 1 1 1 1 1 1 1 1 1 1 1 1 1 1 1 1 1 1 1 1 1 1 1 1 1 1 1 1 1 1 1 1 1 1 1 1 1 1 1 1 1 1 1 1 1 1 1 1 1 1 1 1 1 1 1 1 1 1 1 1 1 1 1 1 1 1 1 1 1 1 1 1 1 1 1 1 1 1 1 1 1 1 1 1 1 1 1 1 1 1 1 1 1 1 1 1 1 1 1 1 1 1 1 1 1 1 1 1 1 1 1 1 1 1 1\n",
      "[NeMo I 2020-07-21 16:00:17 text_classification_dataset:175] *** Example ***\n",
      "[NeMo I 2020-07-21 16:00:17 text_classification_dataset:176] example_index: 3\n",
      "[NeMo I 2020-07-21 16:00:17 text_classification_dataset:177] subtokens: [CLS] ##ytic hem ##ol ##ytic an ##emia ( h ##ns ##ha ) are described . both of these are unique and they have been named g ##6 ##pd wayne and g ##6 ##pd huron . patients with g ##6 ##pd wayne underwent sp ##lene ##ct ##omy and no objective improvement was noted . the patients with g ##6 ##pd huron were under medical observation for a considerable period of time without the diagnosis of g ##6 ##pd deficiency being entertained because the family was of northern european origin . since sporadic variants of g ##6 ##pd causing h ##ns ##ha show no special racial pre ##di ##le ##ction , the diagnosis of g ##6 ##pd deficiency should always be considered in patients with this syndrome . . [SEP]\n",
      "[NeMo I 2020-07-21 16:00:17 text_classification_dataset:178] sent_label: 2\n",
      "[NeMo I 2020-07-21 16:00:17 text_classification_dataset:179] input_ids: 101 21252 19610 4747 21252 2019 17577 1006 1044 3619 3270 1007 2024 2649 1012 2119 1997 2122 2024 4310 1998 2027 2031 2042 2315 1043 2575 17299 6159 1998 1043 2575 17299 21899 1012 5022 2007 1043 2575 17299 6159 9601 11867 11474 6593 16940 1998 2053 7863 7620 2001 3264 1012 1996 5022 2007 1043 2575 17299 21899 2020 2104 2966 8089 2005 1037 6196 2558 1997 2051 2302 1996 11616 1997 1043 2575 17299 18888 2108 21474 2138 1996 2155 2001 1997 2642 2647 4761 1012 2144 24590 10176 1997 1043 2575 17299 4786 1044 3619 3270 2265 2053 2569 5762 3653 4305 2571 7542 1010 1996 11616 1997 1043 2575 17299 18888 2323 2467 2022 2641 1999 5022 2007 2023 8715 1012 1012 102\n",
      "[NeMo I 2020-07-21 16:00:17 text_classification_dataset:180] input_mask: 1 1 1 1 1 1 1 1 1 1 1 1 1 1 1 1 1 1 1 1 1 1 1 1 1 1 1 1 1 1 1 1 1 1 1 1 1 1 1 1 1 1 1 1 1 1 1 1 1 1 1 1 1 1 1 1 1 1 1 1 1 1 1 1 1 1 1 1 1 1 1 1 1 1 1 1 1 1 1 1 1 1 1 1 1 1 1 1 1 1 1 1 1 1 1 1 1 1 1 1 1 1 1 1 1 1 1 1 1 1 1 1 1 1 1 1 1 1 1 1 1 1 1 1 1 1 1 1\n",
      "[NeMo I 2020-07-21 16:00:17 text_classification_dataset:175] *** Example ***\n",
      "[NeMo I 2020-07-21 16:00:17 text_classification_dataset:176] example_index: 4\n",
      "[NeMo I 2020-07-21 16:00:17 text_classification_dataset:177] subtokens: [CLS] ##ele . analysis of mice homo ##zy ##go ##us for the mutant all ##ele indicate that br ##ca ##1 is critical for normal development , as these mice died in ut ##ero between 10 and 13 days of ge ##station ( e ##10 - e ##13 ) . abnormalities in br ##ca ##1 - def ##icient embryo ##s were most evident in the neural tube , with 40 % of the embryo ##s presenting with varying degrees of spin ##a bi ##fi ##da and an ##ence ##pha ##ly . in addition , the ne ##uro ##ep ##ith ##eli ##um in br ##ca ##1 - def ##icient embryo ##s appeared di ##sor ##gan ##ized , with signs of both rapid proliferation and excessive cell death . . [SEP]\n",
      "[NeMo I 2020-07-21 16:00:17 text_classification_dataset:178] sent_label: 0\n",
      "[NeMo I 2020-07-21 16:00:17 text_classification_dataset:179] input_ids: 101 12260 1012 4106 1997 12328 24004 9096 3995 2271 2005 1996 15527 2035 12260 5769 2008 7987 3540 2487 2003 4187 2005 3671 2458 1010 2004 2122 12328 2351 1999 21183 10624 2090 2184 1998 2410 2420 1997 16216 20100 1006 1041 10790 1011 1041 17134 1007 1012 28828 1999 7987 3540 2487 1011 13366 20132 28086 2015 2020 2087 10358 1999 1996 15756 7270 1010 2007 2871 1003 1997 1996 28086 2015 10886 2007 9671 5445 1997 6714 2050 12170 8873 2850 1998 2019 10127 21890 2135 1012 1999 2804 1010 1996 11265 10976 13699 8939 20806 2819 1999 7987 3540 2487 1011 13366 20132 28086 2015 2596 4487 21748 5289 3550 1010 2007 5751 1997 2119 5915 20250 1998 11664 3526 2331 1012 1012 102\n",
      "[NeMo I 2020-07-21 16:00:17 text_classification_dataset:180] input_mask: 1 1 1 1 1 1 1 1 1 1 1 1 1 1 1 1 1 1 1 1 1 1 1 1 1 1 1 1 1 1 1 1 1 1 1 1 1 1 1 1 1 1 1 1 1 1 1 1 1 1 1 1 1 1 1 1 1 1 1 1 1 1 1 1 1 1 1 1 1 1 1 1 1 1 1 1 1 1 1 1 1 1 1 1 1 1 1 1 1 1 1 1 1 1 1 1 1 1 1 1 1 1 1 1 1 1 1 1 1 1 1 1 1 1 1 1 1 1 1 1 1 1 1 1 1 1 1 1\n",
      "[NeMo I 2020-07-21 16:00:17 text_classification_dataset:217] features restored from /dli/task/data/NCBI_tc-3/cached_train_BertTokenizer_128_30522\n"
     ]
    }
   ],
   "source": [
    "# Instantiate the data Layer neural module for training.\n",
    "#     Include the input file locations, tokenizer, max_seq_length, and batch size.\n",
    "#     Set the shuffle and use_cache to True for training  \n",
    "USE_CACHE = True\n",
    "tokenizer = get_tokenizer(tokenizer_name='nemobert', pretrained_model_name=PRETRAINED_MODEL_NAME)\n",
    "dl_train = BertTextClassificationDataLayer(input_file=os.path.join(DATA_DIR, 'train.tsv'),\n",
    "                                             tokenizer=tokenizer,\n",
    "                                             max_seq_length=MAX_SEQ_LEN,\n",
    "                                             shuffle=True,\n",
    "                                             batch_size=BATCH_SIZE,\n",
    "                                             use_cache=USE_CACHE)"
   ]
  },
  {
   "cell_type": "markdown",
   "metadata": {},
   "source": [
    "In the next five cells, instantiate:\n",
    "1. Validation data layer neural module\n",
    "1. Test data layer neural module\n",
    "1. Language model neural module\n",
    "1. Text classification model neural module\n",
    "1. Loss neural module\n",
    "\n",
    "Look for and fix the <i><strong><span style=\"color:green;\">#FIXME</span><strong></i> code lines.  If you get stuck, look back at the [2.0 NLP Projects with NeMo](020_ExploreNeMo.ipynb) notebook for inspiration or the [solution notebook](solution_notebooks/SOLN_030_TextClassification.ipynb) for the answer."
   ]
  },
  {
   "cell_type": "code",
   "execution_count": 10,
   "metadata": {
    "scrolled": true
   },
   "outputs": [
    {
     "name": "stdout",
     "output_type": "stream",
     "text": [
      "[NeMo I 2020-07-21 16:00:17 text_classification_dataset:82] /dli/task/data/NCBI_tc-3/dev.tsv: 100\n",
      "[NeMo I 2020-07-21 16:00:19 data_preprocessing:250] Min: 120 |                  Max: 506 |                  Mean: 307.0 |                  Median: 301.5\n",
      "[NeMo I 2020-07-21 16:00:19 data_preprocessing:252] 75 percentile: 363.0\n",
      "[NeMo I 2020-07-21 16:00:19 data_preprocessing:253] 99 percentile: 503.03\n",
      "[NeMo I 2020-07-21 16:00:19 text_classification_dataset:118] 99 out of 100                         sentences with more than 128 subtokens.\n",
      "[NeMo I 2020-07-21 16:00:19 text_classification_dataset:175] *** Example ***\n",
      "[NeMo I 2020-07-21 16:00:19 text_classification_dataset:176] example_index: 0\n",
      "[NeMo I 2020-07-21 16:00:19 text_classification_dataset:177] subtokens: [CLS] remained elusive . we now show that br ##ca ##1 en ##codes a 190 - k ##d protein with sequence homo ##logy and bio ##chemical analogy to the gran ##in protein family . interesting ##ly , br ##ca ##2 also includes a motif similar to the gran ##in consensus at the c terminus of the protein . both br ##ca ##1 and the gran ##ins local ##ize to secret ##ory ve ##sic ##les , are secret ##ed by a regulated pathway , are post - translation ##ally g ##ly ##cos ##yla ##ted and are responsive to hormones . as a regulated secret ##ory protein , br ##ca ##1 appears to function by a mechanism not previously described for tu ##mour suppress ##or gene products . . [SEP]\n",
      "[NeMo I 2020-07-21 16:00:19 text_classification_dataset:178] sent_label: 0\n",
      "[NeMo I 2020-07-21 16:00:19 text_classification_dataset:179] input_ids: 101 2815 26475 1012 2057 2085 2265 2008 7987 3540 2487 4372 23237 1037 11827 1011 1047 2094 5250 2007 5537 24004 6483 1998 16012 15869 23323 2000 1996 12604 2378 5250 2155 1012 5875 2135 1010 7987 3540 2475 2036 2950 1037 16226 2714 2000 1996 12604 2378 10465 2012 1996 1039 7342 1997 1996 5250 1012 2119 7987 3540 2487 1998 1996 12604 7076 2334 4697 2000 3595 10253 2310 19570 4244 1010 2024 3595 2098 2011 1037 12222 12732 1010 2024 2695 1011 5449 3973 1043 2135 13186 23943 3064 1998 2024 26651 2000 20752 1012 2004 1037 12222 3595 10253 5250 1010 7987 3540 2487 3544 2000 3853 2011 1037 7337 2025 3130 2649 2005 10722 20360 16081 2953 4962 3688 1012 1012 102\n",
      "[NeMo I 2020-07-21 16:00:19 text_classification_dataset:180] input_mask: 1 1 1 1 1 1 1 1 1 1 1 1 1 1 1 1 1 1 1 1 1 1 1 1 1 1 1 1 1 1 1 1 1 1 1 1 1 1 1 1 1 1 1 1 1 1 1 1 1 1 1 1 1 1 1 1 1 1 1 1 1 1 1 1 1 1 1 1 1 1 1 1 1 1 1 1 1 1 1 1 1 1 1 1 1 1 1 1 1 1 1 1 1 1 1 1 1 1 1 1 1 1 1 1 1 1 1 1 1 1 1 1 1 1 1 1 1 1 1 1 1 1 1 1 1 1 1 1\n",
      "[NeMo I 2020-07-21 16:00:19 text_classification_dataset:175] *** Example ***\n",
      "[NeMo I 2020-07-21 16:00:19 text_classification_dataset:176] example_index: 1\n",
      "[NeMo I 2020-07-21 16:00:19 text_classification_dataset:177] subtokens: [CLS] ##var ##ian cancer was 2 . 11 times greater for br ##ca ##1 carriers harbour ##ing one or two rare hr ##as ##1 all ##eles , compared to carriers with only common all ##eles ( p = 0 . 01 ##5 ) . the magnitude of the relative risk associated with a rare hr ##as ##1 all ##ele was not altered by adjusting for the other known risk factors for hereditary o ##var ##ian cancer ( 5 ) . su ##sc ##ept ##ibility to breast cancer did not appear to be affected by the presence of rare hr ##as ##1 all ##eles . this study is the first to show the effect of a modifying gene on the pen ##et ##rance of an inherited cancer syndrome [SEP]\n",
      "[NeMo I 2020-07-21 16:00:19 text_classification_dataset:178] sent_label: 0\n",
      "[NeMo I 2020-07-21 16:00:19 text_classification_dataset:179] input_ids: 101 10755 2937 4456 2001 1016 1012 2340 2335 3618 2005 7987 3540 2487 11363 7440 2075 2028 2030 2048 4678 17850 3022 2487 2035 26741 1010 4102 2000 11363 2007 2069 2691 2035 26741 1006 1052 1027 1014 1012 5890 2629 1007 1012 1996 10194 1997 1996 5816 3891 3378 2007 1037 4678 17850 3022 2487 2035 12260 2001 2025 8776 2011 19158 2005 1996 2060 2124 3891 5876 2005 14800 1051 10755 2937 4456 1006 1019 1007 1012 10514 11020 23606 13464 2000 7388 4456 2106 2025 3711 2000 2022 5360 2011 1996 3739 1997 4678 17850 3022 2487 2035 26741 1012 2023 2817 2003 1996 2034 2000 2265 1996 3466 1997 1037 29226 4962 2006 1996 7279 3388 21621 1997 2019 7900 4456 8715 102\n",
      "[NeMo I 2020-07-21 16:00:19 text_classification_dataset:180] input_mask: 1 1 1 1 1 1 1 1 1 1 1 1 1 1 1 1 1 1 1 1 1 1 1 1 1 1 1 1 1 1 1 1 1 1 1 1 1 1 1 1 1 1 1 1 1 1 1 1 1 1 1 1 1 1 1 1 1 1 1 1 1 1 1 1 1 1 1 1 1 1 1 1 1 1 1 1 1 1 1 1 1 1 1 1 1 1 1 1 1 1 1 1 1 1 1 1 1 1 1 1 1 1 1 1 1 1 1 1 1 1 1 1 1 1 1 1 1 1 1 1 1 1 1 1 1 1 1 1\n",
      "[NeMo I 2020-07-21 16:00:19 text_classification_dataset:175] *** Example ***\n",
      "[NeMo I 2020-07-21 16:00:19 text_classification_dataset:176] example_index: 2\n",
      "[NeMo I 2020-07-21 16:00:19 text_classification_dataset:177] subtokens: [CLS] island at the 3 end of d ##mp ##k . sequencing of this region shows that the island extends over 3 . 5 kb and is interrupted by the ( ct ##g ) n repeat . comparison of gen ##omic sequences downstream ( centro ##meric ) of the repeat in human and mouse identified regions of significant homo ##logy . these correspond to ex ##ons of a gene predicted to en ##code a home ##od ##oma ##in protein . rt - pc ##r analysis shows that this gene , which we have called d ##m locus - associated home ##od ##oma ##in protein ( d ##mah ##p ) , is expressed in a number of human tissues , including skeletal muscle , heart and brain . [SEP]\n",
      "[NeMo I 2020-07-21 16:00:19 text_classification_dataset:178] sent_label: 1\n",
      "[NeMo I 2020-07-21 16:00:19 text_classification_dataset:179] input_ids: 101 2479 2012 1996 1017 2203 1997 1040 8737 2243 1012 24558 1997 2023 2555 3065 2008 1996 2479 8908 2058 1017 1012 1019 21677 1998 2003 7153 2011 1996 1006 14931 2290 1007 1050 9377 1012 7831 1997 8991 22026 10071 13248 1006 18120 25531 1007 1997 1996 9377 1999 2529 1998 8000 4453 4655 1997 3278 24004 6483 1012 2122 17254 2000 4654 5644 1997 1037 4962 10173 2000 4372 16044 1037 2188 7716 9626 2378 5250 1012 19387 1011 7473 2099 4106 3065 2008 2023 4962 1010 2029 2057 2031 2170 1040 2213 25206 1011 3378 2188 7716 9626 2378 5250 1006 1040 25687 2361 1007 1010 2003 5228 1999 1037 2193 1997 2529 14095 1010 2164 20415 6740 1010 2540 1998 4167 1012 102\n",
      "[NeMo I 2020-07-21 16:00:19 text_classification_dataset:180] input_mask: 1 1 1 1 1 1 1 1 1 1 1 1 1 1 1 1 1 1 1 1 1 1 1 1 1 1 1 1 1 1 1 1 1 1 1 1 1 1 1 1 1 1 1 1 1 1 1 1 1 1 1 1 1 1 1 1 1 1 1 1 1 1 1 1 1 1 1 1 1 1 1 1 1 1 1 1 1 1 1 1 1 1 1 1 1 1 1 1 1 1 1 1 1 1 1 1 1 1 1 1 1 1 1 1 1 1 1 1 1 1 1 1 1 1 1 1 1 1 1 1 1 1 1 1 1 1 1 1\n",
      "[NeMo I 2020-07-21 16:00:19 text_classification_dataset:175] *** Example ***\n",
      "[NeMo I 2020-07-21 16:00:19 text_classification_dataset:176] example_index: 3\n",
      "[NeMo I 2020-07-21 16:00:19 text_classification_dataset:177] subtokens: [CLS] , which allow for amp ##li ##fication of the coding and sp ##lic ##ing sequences only . the positioning of the polymer ##ase chain reaction ( pc ##r ) prime ##rs was such that the resulting pc ##r products were of different sizes , which enabled us to analyze two different ex ##ons simultaneously and still distinguish between the band ##ing profiles for both ( bi ##plex analysis ) . by using this approach , we were able to identify mutation in 22 new patients , but the overall efficiency of the procedure when we used a single - pass regime ##n was only 48 % . the mutations were small insertion ##s and del ##eti ##ons and point mutations in roughly equal proportions . . [SEP]\n",
      "[NeMo I 2020-07-21 16:00:19 text_classification_dataset:178] sent_label: 2\n",
      "[NeMo I 2020-07-21 16:00:19 text_classification_dataset:179] input_ids: 101 1010 2029 3499 2005 23713 3669 10803 1997 1996 16861 1998 11867 10415 2075 10071 2069 1012 1996 19120 1997 1996 17782 11022 4677 4668 1006 7473 2099 1007 3539 2869 2001 2107 2008 1996 4525 7473 2099 3688 2020 1997 2367 10826 1010 2029 9124 2149 2000 17908 2048 2367 4654 5644 7453 1998 2145 10782 2090 1996 2316 2075 17879 2005 2119 1006 12170 19386 4106 1007 1012 2011 2478 2023 3921 1010 2057 2020 2583 2000 6709 16221 1999 2570 2047 5022 1010 2021 1996 3452 8122 1997 1996 7709 2043 2057 2109 1037 2309 1011 3413 6939 2078 2001 2069 4466 1003 1012 1996 14494 2020 2235 23851 2015 1998 3972 20624 5644 1998 2391 14494 1999 5560 5020 19173 1012 1012 102\n",
      "[NeMo I 2020-07-21 16:00:19 text_classification_dataset:180] input_mask: 1 1 1 1 1 1 1 1 1 1 1 1 1 1 1 1 1 1 1 1 1 1 1 1 1 1 1 1 1 1 1 1 1 1 1 1 1 1 1 1 1 1 1 1 1 1 1 1 1 1 1 1 1 1 1 1 1 1 1 1 1 1 1 1 1 1 1 1 1 1 1 1 1 1 1 1 1 1 1 1 1 1 1 1 1 1 1 1 1 1 1 1 1 1 1 1 1 1 1 1 1 1 1 1 1 1 1 1 1 1 1 1 1 1 1 1 1 1 1 1 1 1 1 1 1 1 1 1\n",
      "[NeMo I 2020-07-21 16:00:19 text_classification_dataset:175] *** Example ***\n",
      "[NeMo I 2020-07-21 16:00:19 text_classification_dataset:176] example_index: 4\n",
      "[NeMo I 2020-07-21 16:00:19 text_classification_dataset:177] subtokens: [CLS] ph ##e ) of the c2 ##q ##0 gene linked to the m ##hc ha ##pl ##otype a1 ##1 , b ##35 , dr ##w ##1 , bf ##s , c ##4 ##a ##0 ##b ##1 . the other is in ex ##on 11 ( g ##19 ##30 - - > a ; g ##ly ##44 ##4 - - > ar ##g ) of the c2 ##q ##0 gene linked to the m ##hc ha ##pl ##otype a2 , b ##5 , dr ##w ##4 , bf ##s , c ##4 ##a ##3 ##b ##1 . each mutant c2 gene product is retained early in the secret ##ory pathway . these mutants provide models for el ##uc ##ida ##ting the c2 secret ##ory pathway . . [SEP]\n",
      "[NeMo I 2020-07-21 16:00:19 text_classification_dataset:178] sent_label: 2\n",
      "[NeMo I 2020-07-21 16:00:19 text_classification_dataset:179] input_ids: 101 6887 2063 1007 1997 1996 29248 4160 2692 4962 5799 2000 1996 1049 16257 5292 24759 26305 17350 2487 1010 1038 19481 1010 2852 2860 2487 1010 28939 2015 1010 1039 2549 2050 2692 2497 2487 1012 1996 2060 2003 1999 4654 2239 2340 1006 1043 16147 14142 1011 1011 1028 1037 1025 1043 2135 22932 2549 1011 1011 1028 12098 2290 1007 1997 1996 29248 4160 2692 4962 5799 2000 1996 1049 16257 5292 24759 26305 22441 1010 1038 2629 1010 2852 2860 2549 1010 28939 2015 1010 1039 2549 2050 2509 2497 2487 1012 2169 15527 29248 4962 4031 2003 6025 2220 1999 1996 3595 10253 12732 1012 2122 23892 3073 4275 2005 3449 14194 8524 3436 1996 29248 3595 10253 12732 1012 1012 102\n",
      "[NeMo I 2020-07-21 16:00:19 text_classification_dataset:180] input_mask: 1 1 1 1 1 1 1 1 1 1 1 1 1 1 1 1 1 1 1 1 1 1 1 1 1 1 1 1 1 1 1 1 1 1 1 1 1 1 1 1 1 1 1 1 1 1 1 1 1 1 1 1 1 1 1 1 1 1 1 1 1 1 1 1 1 1 1 1 1 1 1 1 1 1 1 1 1 1 1 1 1 1 1 1 1 1 1 1 1 1 1 1 1 1 1 1 1 1 1 1 1 1 1 1 1 1 1 1 1 1 1 1 1 1 1 1 1 1 1 1 1 1 1 1 1 1 1 1\n",
      "[NeMo I 2020-07-21 16:00:19 text_classification_dataset:217] features restored from /dli/task/data/NCBI_tc-3/cached_dev_BertTokenizer_128_30522\n"
     ]
    }
   ],
   "source": [
    "# 1. Instantiate the data Layer neural module for validation.\n",
    "#     Include the input file locations, tokenizer, max_seq_length, and batch size.\n",
    "#     Set the shuffle to False (the default value) and use_cache to True for validation  \n",
    "dl_val = BertTextClassificationDataLayer(input_file=os.path.join(DATA_DIR, 'dev.tsv'),\n",
    "                                             tokenizer=tokenizer,\n",
    "                                             max_seq_length=MAX_SEQ_LEN,\n",
    "                                             batch_size=BATCH_SIZE,\n",
    "                                             use_cache=USE_CACHE)"
   ]
  },
  {
   "cell_type": "code",
   "execution_count": 11,
   "metadata": {
    "scrolled": true
   },
   "outputs": [
    {
     "name": "stdout",
     "output_type": "stream",
     "text": [
      "[NeMo I 2020-07-21 16:00:19 text_classification_dataset:82] /dli/task/data/NCBI_tc-3/labeled_test.tsv: 10\n",
      "[NeMo I 2020-07-21 16:00:19 data_preprocessing:250] Min: 194 |                  Max: 488 |                  Mean: 347.6 |                  Median: 344.0\n",
      "[NeMo I 2020-07-21 16:00:19 data_preprocessing:252] 75 percentile: 418.5\n",
      "[NeMo I 2020-07-21 16:00:19 data_preprocessing:253] 99 percentile: 484.58\n",
      "[NeMo I 2020-07-21 16:00:19 text_classification_dataset:118] 10 out of 10                         sentences with more than 128 subtokens.\n",
      "[NeMo I 2020-07-21 16:00:19 text_classification_dataset:175] *** Example ***\n",
      "[NeMo I 2020-07-21 16:00:19 text_classification_dataset:176] example_index: 0\n",
      "[NeMo I 2020-07-21 16:00:19 text_classification_dataset:177] subtokens: [CLS] atm were also found in tu ##mour dna from patients with b - cell non - ho ##d ##g ##kins l ##ym ##ph ##oma ##s ( b - nhl ) and a b - nhl cell line . the evidence of a significant proportion of loss - of - function mutations and a complete absence of the normal copy of atm in the majority of mu ##tated tu ##mour ##s establishes so ##matic ina ##ct ##ivation of this gene in the pathogen ##esis of sporadic t - pl ##l and suggests that atm acts as a tu ##mour suppress ##or . as constitutional dna was not available , a put ##ative hereditary pre ##dis ##position to t - pl ##l will require further investigation . . [SEP]\n",
      "[NeMo I 2020-07-21 16:00:19 text_classification_dataset:178] sent_label: 0\n",
      "[NeMo I 2020-07-21 16:00:19 text_classification_dataset:179] input_ids: 101 27218 2020 2036 2179 1999 10722 20360 6064 2013 5022 2007 1038 1011 3526 2512 1011 7570 2094 2290 14322 1048 24335 8458 9626 2015 1006 1038 1011 7097 1007 1998 1037 1038 1011 7097 3526 2240 1012 1996 3350 1997 1037 3278 10817 1997 3279 1011 1997 1011 3853 14494 1998 1037 3143 6438 1997 1996 3671 6100 1997 27218 1999 1996 3484 1997 14163 16238 10722 20360 2015 21009 2061 12644 27118 6593 25761 1997 2023 4962 1999 1996 26835 19009 1997 24590 1056 1011 20228 2140 1998 6083 2008 27218 4490 2004 1037 10722 20360 16081 2953 1012 2004 6543 6064 2001 2025 2800 1010 1037 2404 8082 14800 3653 10521 26994 2000 1056 1011 20228 2140 2097 5478 2582 4812 1012 1012 102\n",
      "[NeMo I 2020-07-21 16:00:19 text_classification_dataset:180] input_mask: 1 1 1 1 1 1 1 1 1 1 1 1 1 1 1 1 1 1 1 1 1 1 1 1 1 1 1 1 1 1 1 1 1 1 1 1 1 1 1 1 1 1 1 1 1 1 1 1 1 1 1 1 1 1 1 1 1 1 1 1 1 1 1 1 1 1 1 1 1 1 1 1 1 1 1 1 1 1 1 1 1 1 1 1 1 1 1 1 1 1 1 1 1 1 1 1 1 1 1 1 1 1 1 1 1 1 1 1 1 1 1 1 1 1 1 1 1 1 1 1 1 1 1 1 1 1 1 1\n",
      "[NeMo I 2020-07-21 16:00:19 text_classification_dataset:175] *** Example ***\n",
      "[NeMo I 2020-07-21 16:00:19 text_classification_dataset:176] example_index: 1\n",
      "[NeMo I 2020-07-21 16:00:19 text_classification_dataset:177] subtokens: [CLS] my ##ot ##ub ##es exhibit smaller and slower ca ##2 + responses upon triggering by ace ##ty ##lch ##olin ##e or high external k + . in addition , we observed that these ca ##2 + transient ##s partially result from an influx of extra ##cellular ca ##2 + through the l - type ca ##2 + channel . neither the content nor the activity of na + / k + atp ##ase and sar ##co ##pl ##as ##mic re ##tic ##ulum ca ##2 + - atp ##ase are affected by d ##mp ##k absence . in conclusion , our data suggest that d ##mp ##k is involved in mod ##ulating the initial events of ex ##cit ##ation - contraction coupling in skeletal muscle . . [SEP]\n",
      "[NeMo I 2020-07-21 16:00:19 text_classification_dataset:178] sent_label: 0\n",
      "[NeMo I 2020-07-21 16:00:19 text_classification_dataset:179] input_ids: 101 2026 4140 12083 2229 8327 3760 1998 12430 6187 2475 1009 10960 2588 29170 2011 9078 3723 29358 18861 2063 2030 2152 6327 1047 1009 1012 1999 2804 1010 2057 5159 2008 2122 6187 2475 1009 25354 2015 6822 2765 2013 2019 18050 1997 4469 16882 6187 2475 1009 2083 1996 1048 1011 2828 6187 2475 1009 3149 1012 4445 1996 4180 4496 1996 4023 1997 6583 1009 1013 1047 1009 12649 11022 1998 18906 3597 24759 3022 7712 2128 4588 25100 6187 2475 1009 1011 12649 11022 2024 5360 2011 1040 8737 2243 6438 1012 1999 7091 1010 2256 2951 6592 2008 1040 8737 2243 2003 2920 1999 16913 10924 1996 3988 2824 1997 4654 26243 3370 1011 21963 19780 1999 20415 6740 1012 1012 102\n",
      "[NeMo I 2020-07-21 16:00:19 text_classification_dataset:180] input_mask: 1 1 1 1 1 1 1 1 1 1 1 1 1 1 1 1 1 1 1 1 1 1 1 1 1 1 1 1 1 1 1 1 1 1 1 1 1 1 1 1 1 1 1 1 1 1 1 1 1 1 1 1 1 1 1 1 1 1 1 1 1 1 1 1 1 1 1 1 1 1 1 1 1 1 1 1 1 1 1 1 1 1 1 1 1 1 1 1 1 1 1 1 1 1 1 1 1 1 1 1 1 1 1 1 1 1 1 1 1 1 1 1 1 1 1 1 1 1 1 1 1 1 1 1 1 1 1 1\n",
      "[NeMo I 2020-07-21 16:00:19 text_classification_dataset:175] *** Example ***\n",
      "[NeMo I 2020-07-21 16:00:19 text_classification_dataset:176] example_index: 2\n",
      "[NeMo I 2020-07-21 16:00:19 text_classification_dataset:177] subtokens: [CLS] associated with reduced express ##ivity . the presence of a constitutional mutation was not associated with an early age at treatment . in 1 patient , so ##matic mosaic ##ism was demonstrated by molecular analysis of dna and rna from peripheral blood . in 2 patients without a detect ##able mutation in peripheral blood , mosaic ##ism was suggested because 1 of the patients showed multi ##fo ##cal tumors and the other later developed bilateral re ##tino ##bla ##sto ##ma . in conclusion , our results emphasize that the manifestation and trans ##mis ##sibility of re ##tino ##bla ##sto ##ma depend on the nature of the first mutation , its time in development , and the number and types of cells that are affected . . [SEP]\n",
      "[NeMo I 2020-07-21 16:00:19 text_classification_dataset:178] sent_label: 0\n",
      "[NeMo I 2020-07-21 16:00:19 text_classification_dataset:179] input_ids: 101 3378 2007 4359 4671 7730 1012 1996 3739 1997 1037 6543 16221 2001 2025 3378 2007 2019 2220 2287 2012 3949 1012 1999 1015 5776 1010 2061 12644 16061 2964 2001 7645 2011 8382 4106 1997 6064 1998 12987 2013 15965 2668 1012 1999 1016 5022 2302 1037 11487 3085 16221 1999 15965 2668 1010 16061 2964 2001 4081 2138 1015 1997 1996 5022 3662 4800 14876 9289 21434 1998 1996 2060 2101 2764 17758 2128 25690 28522 16033 2863 1012 1999 7091 1010 2256 3463 17902 2008 1996 24491 1998 9099 15630 28255 1997 2128 25690 28522 16033 2863 12530 2006 1996 3267 1997 1996 2034 16221 1010 2049 2051 1999 2458 1010 1998 1996 2193 1998 4127 1997 4442 2008 2024 5360 1012 1012 102\n",
      "[NeMo I 2020-07-21 16:00:19 text_classification_dataset:180] input_mask: 1 1 1 1 1 1 1 1 1 1 1 1 1 1 1 1 1 1 1 1 1 1 1 1 1 1 1 1 1 1 1 1 1 1 1 1 1 1 1 1 1 1 1 1 1 1 1 1 1 1 1 1 1 1 1 1 1 1 1 1 1 1 1 1 1 1 1 1 1 1 1 1 1 1 1 1 1 1 1 1 1 1 1 1 1 1 1 1 1 1 1 1 1 1 1 1 1 1 1 1 1 1 1 1 1 1 1 1 1 1 1 1 1 1 1 1 1 1 1 1 1 1 1 1 1 1 1 1\n",
      "[NeMo I 2020-07-21 16:00:19 text_classification_dataset:175] *** Example ***\n",
      "[NeMo I 2020-07-21 16:00:19 text_classification_dataset:176] example_index: 3\n",
      "[NeMo I 2020-07-21 16:00:19 text_classification_dataset:177] subtokens: [CLS] inhibitor or ina ##ct ##iva ##tor . of clinical interest are ( a ) the documentation of me ##mb ##rano ##us g ##lom ##er ##ulo ##ne ##ph ##rit ##is , va ##scu ##lit ##is , and arthritis in an individual lacking c ##5 ( and its bio ##logic functions ) , and ( b ) a remarkable prop ##ens ##ity to bacterial infections in the pro ##band , even during periods of low - dose or alternate - day co ##rti ##cos ##ter ##oid therapy . other observations indicate that the c ##5 ##d state is compatible with normal coa ##gul ##ation function and the capacity to mount a ne ##ut ##rop ##hil ##ic le ##uk ##oc ##yt ##osis during p ##yo ##genic infection . . [SEP]\n",
      "[NeMo I 2020-07-21 16:00:19 text_classification_dataset:178] sent_label: 0\n",
      "[NeMo I 2020-07-21 16:00:19 text_classification_dataset:179] input_ids: 101 24054 2030 27118 6593 11444 4263 1012 1997 6612 3037 2024 1006 1037 1007 1996 12653 1997 2033 14905 20770 2271 1043 21297 2121 18845 2638 8458 14778 2483 1010 12436 28817 15909 2483 1010 1998 27641 1999 2019 3265 11158 1039 2629 1006 1998 2049 16012 27179 4972 1007 1010 1998 1006 1038 1007 1037 9487 17678 6132 3012 2000 17341 15245 1999 1996 4013 12733 1010 2130 2076 6993 1997 2659 1011 13004 2030 6585 1011 2154 2522 28228 13186 3334 9314 7242 1012 2060 9420 5769 2008 1996 1039 2629 2094 2110 2003 11892 2007 3671 28155 24848 3370 3853 1998 1996 3977 2000 4057 1037 11265 4904 18981 19466 2594 3393 6968 10085 22123 12650 2076 1052 7677 16505 8985 1012 1012 102\n",
      "[NeMo I 2020-07-21 16:00:19 text_classification_dataset:180] input_mask: 1 1 1 1 1 1 1 1 1 1 1 1 1 1 1 1 1 1 1 1 1 1 1 1 1 1 1 1 1 1 1 1 1 1 1 1 1 1 1 1 1 1 1 1 1 1 1 1 1 1 1 1 1 1 1 1 1 1 1 1 1 1 1 1 1 1 1 1 1 1 1 1 1 1 1 1 1 1 1 1 1 1 1 1 1 1 1 1 1 1 1 1 1 1 1 1 1 1 1 1 1 1 1 1 1 1 1 1 1 1 1 1 1 1 1 1 1 1 1 1 1 1 1 1 1 1 1 1\n",
      "[NeMo I 2020-07-21 16:00:19 text_classification_dataset:175] *** Example ***\n",
      "[NeMo I 2020-07-21 16:00:19 text_classification_dataset:176] example_index: 4\n",
      "[NeMo I 2020-07-21 16:00:19 text_classification_dataset:177] subtokens: [CLS] scores assessed were noted in disease - concord ##ant m ##z twins compared with concord ##ant d ##z twins . h ##la - b ##27 and b ##60 were associated with the disease in pro ##band ##s , and the rate of disease concord ##ance was significantly increased among d ##z twin pairs in which the co - twin was positive for both b ##27 and dr ##1 . additive genetic effects were estimated to contribute 97 % of the population variance . conclusion su ##sc ##ept ##ibility to as is largely genetically determined , and the environmental trigger for the disease is probably ubiquitous . h ##la - b ##27 accounts for a minority of the overall genetic su ##sc ##ept ##ibility to as . [SEP]\n",
      "[NeMo I 2020-07-21 16:00:19 text_classification_dataset:178] sent_label: 0\n",
      "[NeMo I 2020-07-21 16:00:19 text_classification_dataset:179] input_ids: 101 7644 14155 2020 3264 1999 4295 1011 16557 4630 1049 2480 8178 4102 2007 16557 4630 1040 2480 8178 1012 1044 2721 1011 1038 22907 1998 1038 16086 2020 3378 2007 1996 4295 1999 4013 12733 2015 1010 1998 1996 3446 1997 4295 16557 6651 2001 6022 3445 2426 1040 2480 5519 7689 1999 2029 1996 2522 1011 5519 2001 3893 2005 2119 1038 22907 1998 2852 2487 1012 29167 7403 3896 2020 4358 2000 9002 5989 1003 1997 1996 2313 23284 1012 7091 10514 11020 23606 13464 2000 2004 2003 4321 19345 4340 1010 1998 1996 4483 9495 2005 1996 4295 2003 2763 28498 1012 1044 2721 1011 1038 22907 6115 2005 1037 7162 1997 1996 3452 7403 10514 11020 23606 13464 2000 2004 1012 102\n",
      "[NeMo I 2020-07-21 16:00:19 text_classification_dataset:180] input_mask: 1 1 1 1 1 1 1 1 1 1 1 1 1 1 1 1 1 1 1 1 1 1 1 1 1 1 1 1 1 1 1 1 1 1 1 1 1 1 1 1 1 1 1 1 1 1 1 1 1 1 1 1 1 1 1 1 1 1 1 1 1 1 1 1 1 1 1 1 1 1 1 1 1 1 1 1 1 1 1 1 1 1 1 1 1 1 1 1 1 1 1 1 1 1 1 1 1 1 1 1 1 1 1 1 1 1 1 1 1 1 1 1 1 1 1 1 1 1 1 1 1 1 1 1 1 1 1 1\n"
     ]
    }
   ],
   "source": [
    "# 2. Instantiate the data Layer neural module for testing (inference).\n",
    "#     Include the input file locations, tokenizer, max_seq_length, and batch size.\n",
    "#     Set the shuffle to False (the default value) and use_cache to False (the default value) for testing  \n",
    "dl_test = BertTextClassificationDataLayer(input_file=os.path.join(DATA_DIR, 'labeled_test.tsv'),\n",
    "                                             tokenizer=tokenizer,\n",
    "                                             max_seq_length=MAX_SEQ_LEN,\n",
    "                                             batch_size=BATCH_SIZE)"
   ]
  },
  {
   "cell_type": "code",
   "execution_count": 12,
   "metadata": {},
   "outputs": [
    {
     "data": {
      "application/vnd.jupyter.widget-view+json": {
       "model_id": "bbc40c6fbbca42dd9476fa47724549eb",
       "version_major": 2,
       "version_minor": 0
      },
      "text/plain": [
       "HBox(children=(IntProgress(value=0, description='Downloading', max=433, style=ProgressStyle(description_width=…"
      ]
     },
     "metadata": {},
     "output_type": "display_data"
    },
    {
     "name": "stdout",
     "output_type": "stream",
     "text": [
      "\n"
     ]
    },
    {
     "data": {
      "application/vnd.jupyter.widget-view+json": {
       "model_id": "f9a4b26051b644abb9b05d7eb5ddf31c",
       "version_major": 2,
       "version_minor": 0
      },
      "text/plain": [
       "HBox(children=(IntProgress(value=0, description='Downloading', max=440473133, style=ProgressStyle(description_…"
      ]
     },
     "metadata": {},
     "output_type": "display_data"
    },
    {
     "name": "stdout",
     "output_type": "stream",
     "text": [
      "\n",
      "bert-base-uncased has 109482240 weights\n"
     ]
    }
   ],
   "source": [
    "# 3. Instantiate the Language Model with the get_pretrained_lm_model function\n",
    "#    Include the pretrained_model_name as the parameter\n",
    "lm = get_pretrained_lm_model(pretrained_model_name=PRETRAINED_MODEL_NAME)\n",
    "\n",
    "# Sanity check the number of weight parameters\n",
    "#    It should be around 110M for `bert-base-uncased`\n",
    "print(f'{PRETRAINED_MODEL_NAME} has {lm.num_weights} weights')"
   ]
  },
  {
   "cell_type": "code",
   "execution_count": 13,
   "metadata": {},
   "outputs": [
    {
     "name": "stdout",
     "output_type": "stream",
     "text": [
      "MLP has 592899 weights\n"
     ]
    }
   ],
   "source": [
    "# 4. Instantiate the SequenceClassifier\n",
    "#    Include the hidden_size, num_classes (which is 3), num_layers (set to 2), \n",
    "#    and a dropout rate of 0.1\n",
    "lm_hidden_size = lm.hidden_size\n",
    "mlp = SequenceClassifier(hidden_size=lm.hidden_size, \n",
    "                         num_classes=3, \n",
    "                         num_layers=2, \n",
    "                         dropout=0.1)\n",
    "\n",
    "# Compared to the language model, the MLP should be tiny (only 1/2 million).\n",
    "print(f'MLP has {mlp.num_weights} weights')"
   ]
  },
  {
   "cell_type": "code",
   "execution_count": 14,
   "metadata": {},
   "outputs": [],
   "source": [
    "# 5. Instantiate the CrossEntropyLossNM Loss Function - no parameters required\n",
    "loss = CrossEntropyLossNM()"
   ]
  },
  {
   "cell_type": "markdown",
   "metadata": {},
   "source": [
    "Nice job!  Your neural modules are set up."
   ]
  },
  {
   "cell_type": "markdown",
   "metadata": {},
   "source": [
    "# 3.3 Create Neural Graphs\n",
    "Define the neural graphs by linking the output of each neural module with the input of the next one in the pipeline.  If any of these fail, it may be because the neural module was not correctly instantiated in the previous exercise. These graphs define how data will flow through the neural modules. \n",
    "\n",
    "You will set up graphs for training and validation.  You'll set up the graph for testing (inference) after the network is trained."
   ]
  },
  {
   "cell_type": "markdown",
   "metadata": {},
   "source": [
    "## 3.3.1 Training Graph\n",
    "<figure>\n",
    "    <img src=\"../images/nemo/train_graph.png\" width=800>\n",
    "    <figcaption style=\"text-align:center;\">Training Graph</figcaption>\n",
    "</figure>"
   ]
  },
  {
   "cell_type": "markdown",
   "metadata": {},
   "source": [
    "We'll use the outputs for each neural module to define the inputs of the next one in the pipeline. "
   ]
  },
  {
   "cell_type": "code",
   "execution_count": 15,
   "metadata": {},
   "outputs": [],
   "source": [
    "# Define the data output from the data layer\n",
    "train_input, train_token_types, train_attn_mask, train_labels = dl_train()\n",
    "\n",
    "# Define train_embeddings from the language model, based on inputs from the data layer  \n",
    "train_embeddings = lm(input_ids=train_input,\n",
    "                      token_type_ids=train_token_types,\n",
    "                      attention_mask=train_attn_mask)\n",
    "\n",
    "# Define the train_logits from the clasifier, based on the embeddings from the language model\n",
    "train_logits = mlp(hidden_states=train_embeddings)\n",
    "\n",
    "# Define the train_loss based on the classifier logits and data layer labels\n",
    "train_loss = loss(logits=train_logits, labels=train_labels)"
   ]
  },
  {
   "cell_type": "markdown",
   "metadata": {},
   "source": [
    "## 3.3.2 Exercise: Create the Validation Graph\n",
    "The validation graph is very similar to the training graph and uses most of the same neural modules. Only the data layer module is different. \n",
    "\n",
    "<figure>\n",
    "    <img src=\"../images/nemo/val_graph.png\" width=800>\n",
    "    <figcaption style=\"text-align:center;\">Validation Graph</figcaption>\n",
    "</figure>\n",
    "\n",
    "In the cell below, look for and fix the <i><strong><span style=\"color:green;\">#FIXME</span><strong></i> code lines (there are four of them).  If you get stuck, look back at the training graph you just set up for inspiration or the [solution notebook](solution_notebooks/SOLN_030_TextClassification.ipynb) for the answer."
   ]
  },
  {
   "cell_type": "code",
   "execution_count": 16,
   "metadata": {},
   "outputs": [],
   "source": [
    "# Define the data output from the data layer\n",
    "val_input, val_token_types, val_attn_mask, val_labels = dl_val()\n",
    "\n",
    "# Define val_embeddings from the language model, based on inputs from the data layer  \n",
    "val_embeddings = lm(input_ids=val_input,\n",
    "                      token_type_ids=val_token_types,\n",
    "                      attention_mask=val_attn_mask)\n",
    "\n",
    "# Define val_logits from the clasifier, based on the embeddings from the language model\n",
    "val_logits = mlp(hidden_states=val_embeddings)\n",
    "\n",
    "# Define val_loss based on the classifier logits and data layer labels\n",
    "val_loss = loss(logits=val_logits, labels=val_labels)"
   ]
  },
  {
   "cell_type": "markdown",
   "metadata": {},
   "source": [
    "Excellent!  You've set up the pipelines for training and validation."
   ]
  },
  {
   "cell_type": "markdown",
   "metadata": {},
   "source": [
    "## 3.3.3 Visualize Embeddings Before Training\n",
    "Before running the trainer, lets get visual idea of how well the language model you've chosen distinguishes between classes without any training.  As a quick proxy, we'll choose just words that are representative of each of the three types of abstracts.  Since language model embeddings are 768 dimensional for BERT base and 1024 dimensional for BERT large, we can't really visualize them directly, so we'll first apply [t-Distributed Stochastic Neighbor Embedding (t-SNE)](https://towardsdatascience.com/an-introduction-to-t-sne-with-python-example-5a3a293108d1) and reduce the embeddings to two dimensions."
   ]
  },
  {
   "cell_type": "code",
   "execution_count": 17,
   "metadata": {},
   "outputs": [],
   "source": [
    "spectrum_words = ['cancer', 'lymphoma', 'melanoma', 'breast cancer', 'carcinoma',\n",
    "                  'parkinson disease', 'neuropathy', 'muscular dystrophy', 'dystonia', 'hodgkin disease',\n",
    "                  'bacterial infection', 'genetic disease', 'eczema', 'diabetes', 'deficiency',]\n",
    "\n",
    "spectrum_file = os.path.join(DATA_DIR, 'cancer_neuro_other.tsv')\n",
    "with open(spectrum_file, 'w+') as f:\n",
    "    f.write('sentence\\tlabel')\n",
    "    for word in spectrum_words:\n",
    "        f.write('\\n' + word + '\\t0')"
   ]
  },
  {
   "cell_type": "code",
   "execution_count": 18,
   "metadata": {},
   "outputs": [
    {
     "name": "stdout",
     "output_type": "stream",
     "text": [
      "        sentence  label\n",
      "0  cancer         0    \n",
      "1  lymphoma       0    \n",
      "2  melanoma       0    \n",
      "3  breast cancer  0    \n",
      "4  carcinoma      0    \n"
     ]
    }
   ],
   "source": [
    "spectrum_df = pd.read_csv(spectrum_file, delimiter='\\t')\n",
    "print(spectrum_df.head())"
   ]
  },
  {
   "cell_type": "markdown",
   "metadata": {},
   "source": [
    "Next, we'll create a data layer just for this mini-dataset of words, and a graph to match.  We won't need the classifier or loss neural modules for this graph, because we are not training or even classifying on the words.  We are just going to see the results of the words run through the language model, to see if they group together naturally by category.\n",
    "\n",
    "<figure>\n",
    "    <img src=\"../images/nemo/spectrum_graph.png\" width=400>\n",
    "    <figcaption style=\"text-align:center;\">Spectrum Graph</figcaption>\n",
    "</figure>"
   ]
  },
  {
   "cell_type": "code",
   "execution_count": 19,
   "metadata": {
    "scrolled": true
   },
   "outputs": [
    {
     "name": "stdout",
     "output_type": "stream",
     "text": [
      "[NeMo I 2020-07-21 16:00:34 text_classification_dataset:82] /dli/task/data/NCBI_tc-3/cancer_neuro_other.tsv: 15\n",
      "[NeMo I 2020-07-21 16:00:34 data_preprocessing:250] Min: 3 |                  Max: 7 |                  Mean: 4.666666666666667 |                  Median: 5.0\n",
      "[NeMo I 2020-07-21 16:00:34 data_preprocessing:252] 75 percentile: 5.0\n",
      "[NeMo I 2020-07-21 16:00:34 data_preprocessing:253] 99 percentile: 7.0\n",
      "[NeMo I 2020-07-21 16:00:34 text_classification_dataset:118] 0 out of 15                         sentences with more than 128 subtokens.\n",
      "[NeMo I 2020-07-21 16:00:34 text_classification_dataset:175] *** Example ***\n",
      "[NeMo I 2020-07-21 16:00:34 text_classification_dataset:176] example_index: 0\n",
      "[NeMo I 2020-07-21 16:00:34 text_classification_dataset:177] subtokens: [CLS] cancer [SEP]\n",
      "[NeMo I 2020-07-21 16:00:34 text_classification_dataset:178] sent_label: 0\n",
      "[NeMo I 2020-07-21 16:00:34 text_classification_dataset:179] input_ids: 101 4456 102 0 0 0 0 0 0 0 0 0 0 0 0 0 0 0 0 0 0 0 0 0 0 0 0 0 0 0 0 0 0 0 0 0 0 0 0 0 0 0 0 0 0 0 0 0 0 0 0 0 0 0 0 0 0 0 0 0 0 0 0 0 0 0 0 0 0 0 0 0 0 0 0 0 0 0 0 0 0 0 0 0 0 0 0 0 0 0 0 0 0 0 0 0 0 0 0 0 0 0 0 0 0 0 0 0 0 0 0 0 0 0 0 0 0 0 0 0 0 0 0 0 0 0 0 0\n",
      "[NeMo I 2020-07-21 16:00:34 text_classification_dataset:180] input_mask: 1 1 1 0 0 0 0 0 0 0 0 0 0 0 0 0 0 0 0 0 0 0 0 0 0 0 0 0 0 0 0 0 0 0 0 0 0 0 0 0 0 0 0 0 0 0 0 0 0 0 0 0 0 0 0 0 0 0 0 0 0 0 0 0 0 0 0 0 0 0 0 0 0 0 0 0 0 0 0 0 0 0 0 0 0 0 0 0 0 0 0 0 0 0 0 0 0 0 0 0 0 0 0 0 0 0 0 0 0 0 0 0 0 0 0 0 0 0 0 0 0 0 0 0 0 0 0 0\n",
      "[NeMo I 2020-07-21 16:00:34 text_classification_dataset:175] *** Example ***\n",
      "[NeMo I 2020-07-21 16:00:34 text_classification_dataset:176] example_index: 1\n",
      "[NeMo I 2020-07-21 16:00:34 text_classification_dataset:177] subtokens: [CLS] l ##ym ##ph ##oma [SEP]\n",
      "[NeMo I 2020-07-21 16:00:34 text_classification_dataset:178] sent_label: 0\n",
      "[NeMo I 2020-07-21 16:00:34 text_classification_dataset:179] input_ids: 101 1048 24335 8458 9626 102 0 0 0 0 0 0 0 0 0 0 0 0 0 0 0 0 0 0 0 0 0 0 0 0 0 0 0 0 0 0 0 0 0 0 0 0 0 0 0 0 0 0 0 0 0 0 0 0 0 0 0 0 0 0 0 0 0 0 0 0 0 0 0 0 0 0 0 0 0 0 0 0 0 0 0 0 0 0 0 0 0 0 0 0 0 0 0 0 0 0 0 0 0 0 0 0 0 0 0 0 0 0 0 0 0 0 0 0 0 0 0 0 0 0 0 0 0 0 0 0 0 0\n",
      "[NeMo I 2020-07-21 16:00:34 text_classification_dataset:180] input_mask: 1 1 1 1 1 1 0 0 0 0 0 0 0 0 0 0 0 0 0 0 0 0 0 0 0 0 0 0 0 0 0 0 0 0 0 0 0 0 0 0 0 0 0 0 0 0 0 0 0 0 0 0 0 0 0 0 0 0 0 0 0 0 0 0 0 0 0 0 0 0 0 0 0 0 0 0 0 0 0 0 0 0 0 0 0 0 0 0 0 0 0 0 0 0 0 0 0 0 0 0 0 0 0 0 0 0 0 0 0 0 0 0 0 0 0 0 0 0 0 0 0 0 0 0 0 0 0 0\n",
      "[NeMo I 2020-07-21 16:00:34 text_classification_dataset:175] *** Example ***\n",
      "[NeMo I 2020-07-21 16:00:34 text_classification_dataset:176] example_index: 2\n",
      "[NeMo I 2020-07-21 16:00:34 text_classification_dataset:177] subtokens: [CLS] mel ##ano ##ma [SEP]\n",
      "[NeMo I 2020-07-21 16:00:34 text_classification_dataset:178] sent_label: 0\n",
      "[NeMo I 2020-07-21 16:00:34 text_classification_dataset:179] input_ids: 101 11463 6761 2863 102 0 0 0 0 0 0 0 0 0 0 0 0 0 0 0 0 0 0 0 0 0 0 0 0 0 0 0 0 0 0 0 0 0 0 0 0 0 0 0 0 0 0 0 0 0 0 0 0 0 0 0 0 0 0 0 0 0 0 0 0 0 0 0 0 0 0 0 0 0 0 0 0 0 0 0 0 0 0 0 0 0 0 0 0 0 0 0 0 0 0 0 0 0 0 0 0 0 0 0 0 0 0 0 0 0 0 0 0 0 0 0 0 0 0 0 0 0 0 0 0 0 0 0\n",
      "[NeMo I 2020-07-21 16:00:34 text_classification_dataset:180] input_mask: 1 1 1 1 1 0 0 0 0 0 0 0 0 0 0 0 0 0 0 0 0 0 0 0 0 0 0 0 0 0 0 0 0 0 0 0 0 0 0 0 0 0 0 0 0 0 0 0 0 0 0 0 0 0 0 0 0 0 0 0 0 0 0 0 0 0 0 0 0 0 0 0 0 0 0 0 0 0 0 0 0 0 0 0 0 0 0 0 0 0 0 0 0 0 0 0 0 0 0 0 0 0 0 0 0 0 0 0 0 0 0 0 0 0 0 0 0 0 0 0 0 0 0 0 0 0 0 0\n",
      "[NeMo I 2020-07-21 16:00:34 text_classification_dataset:175] *** Example ***\n",
      "[NeMo I 2020-07-21 16:00:34 text_classification_dataset:176] example_index: 3\n",
      "[NeMo I 2020-07-21 16:00:34 text_classification_dataset:177] subtokens: [CLS] breast cancer [SEP]\n",
      "[NeMo I 2020-07-21 16:00:34 text_classification_dataset:178] sent_label: 0\n",
      "[NeMo I 2020-07-21 16:00:34 text_classification_dataset:179] input_ids: 101 7388 4456 102 0 0 0 0 0 0 0 0 0 0 0 0 0 0 0 0 0 0 0 0 0 0 0 0 0 0 0 0 0 0 0 0 0 0 0 0 0 0 0 0 0 0 0 0 0 0 0 0 0 0 0 0 0 0 0 0 0 0 0 0 0 0 0 0 0 0 0 0 0 0 0 0 0 0 0 0 0 0 0 0 0 0 0 0 0 0 0 0 0 0 0 0 0 0 0 0 0 0 0 0 0 0 0 0 0 0 0 0 0 0 0 0 0 0 0 0 0 0 0 0 0 0 0 0\n",
      "[NeMo I 2020-07-21 16:00:34 text_classification_dataset:180] input_mask: 1 1 1 1 0 0 0 0 0 0 0 0 0 0 0 0 0 0 0 0 0 0 0 0 0 0 0 0 0 0 0 0 0 0 0 0 0 0 0 0 0 0 0 0 0 0 0 0 0 0 0 0 0 0 0 0 0 0 0 0 0 0 0 0 0 0 0 0 0 0 0 0 0 0 0 0 0 0 0 0 0 0 0 0 0 0 0 0 0 0 0 0 0 0 0 0 0 0 0 0 0 0 0 0 0 0 0 0 0 0 0 0 0 0 0 0 0 0 0 0 0 0 0 0 0 0 0 0\n",
      "[NeMo I 2020-07-21 16:00:34 text_classification_dataset:175] *** Example ***\n",
      "[NeMo I 2020-07-21 16:00:34 text_classification_dataset:176] example_index: 4\n",
      "[NeMo I 2020-07-21 16:00:34 text_classification_dataset:177] subtokens: [CLS] car ##cino ##ma [SEP]\n",
      "[NeMo I 2020-07-21 16:00:34 text_classification_dataset:178] sent_label: 0\n",
      "[NeMo I 2020-07-21 16:00:34 text_classification_dataset:179] input_ids: 101 2482 21081 2863 102 0 0 0 0 0 0 0 0 0 0 0 0 0 0 0 0 0 0 0 0 0 0 0 0 0 0 0 0 0 0 0 0 0 0 0 0 0 0 0 0 0 0 0 0 0 0 0 0 0 0 0 0 0 0 0 0 0 0 0 0 0 0 0 0 0 0 0 0 0 0 0 0 0 0 0 0 0 0 0 0 0 0 0 0 0 0 0 0 0 0 0 0 0 0 0 0 0 0 0 0 0 0 0 0 0 0 0 0 0 0 0 0 0 0 0 0 0 0 0 0 0 0 0\n",
      "[NeMo I 2020-07-21 16:00:34 text_classification_dataset:180] input_mask: 1 1 1 1 1 0 0 0 0 0 0 0 0 0 0 0 0 0 0 0 0 0 0 0 0 0 0 0 0 0 0 0 0 0 0 0 0 0 0 0 0 0 0 0 0 0 0 0 0 0 0 0 0 0 0 0 0 0 0 0 0 0 0 0 0 0 0 0 0 0 0 0 0 0 0 0 0 0 0 0 0 0 0 0 0 0 0 0 0 0 0 0 0 0 0 0 0 0 0 0 0 0 0 0 0 0 0 0 0 0 0 0 0 0 0 0 0 0 0 0 0 0 0 0 0 0 0 0\n"
     ]
    }
   ],
   "source": [
    "# Create a data layer neural module for the spectrum words\n",
    "dl_spectrum = BertTextClassificationDataLayer(input_file=spectrum_file,\n",
    "                                                tokenizer=tokenizer,\n",
    "                                                max_seq_length=MAX_SEQ_LEN,\n",
    "                                                batch_size=BATCH_SIZE)\n",
    "\n",
    "# Define the graph connections for the spectrum inference graph\n",
    "# There are only two neural modules in this graph: the data layer (dl_spectrum) and the language model already defined (lm)\n",
    "spectrum_input, spectrum_token_types, spectrum_attn_mask, _ = dl_spectrum()\n",
    "spectrum_embeddings = lm(input_ids=spectrum_input,\n",
    "                           token_type_ids=spectrum_token_types,\n",
    "                           attention_mask=spectrum_attn_mask)"
   ]
  },
  {
   "cell_type": "markdown",
   "metadata": {},
   "source": [
    "Run the inference action (`nf.infer()`) through the spectrum graph, and sanity check the size."
   ]
  },
  {
   "cell_type": "code",
   "execution_count": 20,
   "metadata": {},
   "outputs": [
    {
     "name": "stdout",
     "output_type": "stream",
     "text": [
      "Selected optimization level O1:  Insert automatic casts around Pytorch functions and Tensor methods.\n",
      "\n",
      "Defaults for this optimization level are:\n",
      "enabled                : True\n",
      "opt_level              : O1\n",
      "cast_model_type        : None\n",
      "patch_torch_functions  : True\n",
      "keep_batchnorm_fp32    : None\n",
      "master_weights         : None\n",
      "loss_scale             : dynamic\n",
      "Processing user overrides (additional kwargs that are not None)...\n",
      "After processing overrides, optimization options are:\n",
      "enabled                : True\n",
      "opt_level              : O1\n",
      "cast_model_type        : None\n",
      "patch_torch_functions  : True\n",
      "keep_batchnorm_fp32    : None\n",
      "master_weights         : None\n",
      "loss_scale             : dynamic\n",
      "[NeMo I 2020-07-21 16:00:34 actions:695] Evaluating batch 0 out of 1\n"
     ]
    }
   ],
   "source": [
    "spectrum_embeddings_tensors = nf.infer(tensors=[spectrum_embeddings])"
   ]
  },
  {
   "cell_type": "code",
   "execution_count": 21,
   "metadata": {},
   "outputs": [
    {
     "data": {
      "text/plain": [
       "torch.Size([15, 128, 768])"
      ]
     },
     "execution_count": 21,
     "metadata": {},
     "output_type": "execute_result"
    }
   ],
   "source": [
    "spectrum_embeddings_tensors[0][0].shape"
   ]
  },
  {
   "cell_type": "markdown",
   "metadata": {},
   "source": [
    "The following cell will create a figure to display where the words fall along the two t-SNE feature vectors.  Are the grouped together nicely? We'll check again after training to see if anything has changed."
   ]
  },
  {
   "cell_type": "code",
   "execution_count": 22,
   "metadata": {},
   "outputs": [
    {
     "name": "stdout",
     "output_type": "stream",
     "text": [
      "[t-SNE] Computing 14 nearest neighbors...\n",
      "[t-SNE] Indexed 15 samples in 0.000s...\n",
      "[t-SNE] Computed neighbors for 15 samples in 0.001s...\n",
      "[t-SNE] Computed conditional probabilities for sample 15 / 15\n",
      "[t-SNE] Mean sigma: 4.237482\n",
      "[t-SNE] KL divergence after 200 iterations with early exaggeration: 33.242290\n",
      "[t-SNE] KL divergence after 900 iterations: 0.022830\n"
     ]
    },
    {
     "data": {
      "image/png": "[encoded data removed]",
      "text/plain": [
       "<Figure size 720x720 with 1 Axes>"
      ]
     },
     "metadata": {
      "needs_background": "light"
     },
     "output_type": "display_data"
    }
   ],
   "source": [
    "spectrum_activations = spectrum_embeddings_tensors[0][0][:,0,:].numpy()\n",
    "tsne_spectrum = TSNE(n_components=2, perplexity=10, verbose=1, learning_rate=2,\n",
    "                     random_state=123).fit_transform(spectrum_activations)\n",
    "\n",
    "fig = plt.figure(figsize=(10,10))\n",
    "plt.plot(tsne_spectrum[0:5, 0], tsne_spectrum[0:5, 1], 'rx')\n",
    "plt.plot(tsne_spectrum[5:10, 0], tsne_spectrum[5:10, 1], 'bo')\n",
    "plt.plot(tsne_spectrum[10:, 0], tsne_spectrum[10:, 1], 'g+')\n",
    "for (x,y, label) in zip(tsne_spectrum[0:, 0], tsne_spectrum[0:, 1], spectrum_df.sentence.values.tolist() ):\n",
    "    plt.annotate(label, # this is the text\n",
    "                 (x,y), # this is the point to label\n",
    "                 textcoords=\"offset points\", # how to position the text\n",
    "                 xytext=(0,10), # distance from text to points (x,y)\n",
    "                 ha='center') # horizontal alignment can be left, right or center"
   ]
  },
  {
   "cell_type": "markdown",
   "metadata": {},
   "source": [
    "# 3.4 Training\n",
    "Now that the graphs are set up, the action can begin.  You'll train the model with the NeuralModuleFactory `.train()` function. We need to set how many epochs and GPUs we'll be using."
   ]
  },
  {
   "cell_type": "code",
   "execution_count": 23,
   "metadata": {},
   "outputs": [],
   "source": [
    "NUM_EPOCHS = 5\n",
    "NUM_GPUS = 1\n",
    "\n",
    "train_data_size = len(dl_train)\n",
    "steps_per_epoch = math.ceil(train_data_size / (BATCH_SIZE * NUM_GPUS))"
   ]
  },
  {
   "cell_type": "markdown",
   "metadata": {},
   "source": [
    "For training, we also need to set the learning rate, optimizer, and callbacks for logging.  "
   ]
  },
  {
   "cell_type": "markdown",
   "metadata": {},
   "source": [
    "## 3.4.1 Set the Learning Rate and Optimizer\n",
    "For this project, we'll set the learning rate to 0.00005 and use a learning rate function, `WarmupAnnealing`.  We'll also use the popular [`adam`](https://machinelearningmastery.com/adam-optimization-algorithm-for-deep-learning/) optimization algorithm.  These values can be changed later if you wish.  We can see a list of available learning rate policies with the `get_all_lr_classes()` function."
   ]
  },
  {
   "cell_type": "code",
   "execution_count": 24,
   "metadata": {},
   "outputs": [
    {
     "data": {
      "text/plain": [
       "{'CosineAnnealing': nemo.utils.lr_policies.CosineAnnealing,\n",
       " 'InverseSquareRootAnnealing': nemo.utils.lr_policies.InverseSquareRootAnnealing,\n",
       " 'PolynomialDecayAnnealing': nemo.utils.lr_policies.PolynomialDecayAnnealing,\n",
       " 'PolynomialHoldDecayAnnealing': nemo.utils.lr_policies.PolynomialHoldDecayAnnealing,\n",
       " 'SquareAnnealing': nemo.utils.lr_policies.SquareAnnealing,\n",
       " 'SquareRootAnnealing': nemo.utils.lr_policies.SquareRootAnnealing,\n",
       " 'WarmupAnnealing': nemo.utils.lr_policies.WarmupAnnealing,\n",
       " 'WarmupHoldPolicy': nemo.utils.lr_policies.WarmupHoldPolicy,\n",
       " 'WarmupPolicy': nemo.utils.lr_policies.WarmupPolicy,\n",
       " '_LRPolicy': nemo.utils.lr_policies._LRPolicy}"
      ]
     },
     "execution_count": 24,
     "metadata": {},
     "output_type": "execute_result"
    }
   ],
   "source": [
    "nemo.utils.lr_policies.get_all_lr_classes()"
   ]
  },
  {
   "cell_type": "code",
   "execution_count": 25,
   "metadata": {},
   "outputs": [],
   "source": [
    "OPTIMIZER = 'adam'\n",
    "LEARNING_RATE = 5e-5\n",
    "lr_policy_fn = get_lr_policy('WarmupAnnealing',\n",
    "                             total_steps=NUM_EPOCHS * steps_per_epoch,\n",
    "                             warmup_ratio=0.1)"
   ]
  },
  {
   "cell_type": "markdown",
   "metadata": {},
   "source": [
    "## 3.4.2 Create the Callbacks\n",
    "Callbacks are used to record and log metrics and save checkpoints for the training and evaluation. We use callbacks to print to screen and also to tensorboard.  Note that the eval_callback is where the validation set is tested against the trained network for each loop."
   ]
  },
  {
   "cell_type": "code",
   "execution_count": 26,
   "metadata": {},
   "outputs": [],
   "source": [
    "# Create callback for simple logging\n",
    "train_callback = SimpleLogger(step_freq=steps_per_epoch)\n",
    "\n",
    "# Create callback for tensorboard logging\n",
    "tensorboard_callback = TensorboardLogger(nf.tb_writer,\n",
    "                                        step_freq=steps_per_epoch)\n",
    "\n",
    "# Create callback to evaluate each epoch against the validation data\n",
    "eval_callback = EvaluatorCallback(eval_tensors=[val_logits, val_labels],\n",
    "                                            user_iter_callback=lambda x, y: eval_iter_callback(x, y, dl_val),\n",
    "                                            user_epochs_done_callback=lambda x:\n",
    "                                                eval_epochs_done_callback(x, f'{nf.work_dir}graphs'),\n",
    "                                            tb_writer=nf.tb_writer,\n",
    "                                            eval_step=steps_per_epoch)\n",
    "\n",
    "# Create callback to save checkpoints\n",
    "ckpt_callback = CheckpointCallback(folder=nf.checkpoint_dir,\n",
    "                                             epoch_freq=1)"
   ]
  },
  {
   "cell_type": "markdown",
   "metadata": {},
   "source": [
    "## 3.4.3 Run the Trainer\n",
    "It is not necessary to reset the trainer the first time, but the reset function is included here in case you want to change the number of epochs for more training. Reset is required in order to start the trainer again.  "
   ]
  },
  {
   "cell_type": "code",
   "execution_count": 27,
   "metadata": {},
   "outputs": [],
   "source": [
    "nemo.core.NeuralModuleFactory.reset_trainer(nf)"
   ]
  },
  {
   "cell_type": "code",
   "execution_count": 28,
   "metadata": {
    "scrolled": true
   },
   "outputs": [
    {
     "name": "stdout",
     "output_type": "stream",
     "text": [
      "Selected optimization level O1:  Insert automatic casts around Pytorch functions and Tensor methods.\n",
      "\n",
      "Defaults for this optimization level are:\n",
      "enabled                : True\n",
      "opt_level              : O1\n",
      "cast_model_type        : None\n",
      "patch_torch_functions  : True\n",
      "keep_batchnorm_fp32    : None\n",
      "master_weights         : None\n",
      "loss_scale             : dynamic\n",
      "Processing user overrides (additional kwargs that are not None)...\n",
      "After processing overrides, optimization options are:\n",
      "enabled                : True\n",
      "opt_level              : O1\n",
      "cast_model_type        : None\n",
      "patch_torch_functions  : True\n",
      "keep_batchnorm_fp32    : None\n",
      "master_weights         : None\n",
      "loss_scale             : dynamic\n",
      "[NeMo I 2020-07-21 16:00:35 callbacks:534] Found 2 modules with weights:\n",
      "[NeMo I 2020-07-21 16:00:35 callbacks:536] SequenceClassifier\n",
      "[NeMo I 2020-07-21 16:00:35 callbacks:536] BERT\n",
      "[NeMo I 2020-07-21 16:00:35 callbacks:537] Total model parameters: 110075139\n",
      "[NeMo I 2020-07-21 16:00:35 callbacks:473] Found checkpoint folder /dli/task/data/logs-tc-bbu/checkpoints. Will attempt to restore checkpoints from it.\n"
     ]
    },
    {
     "name": "stderr",
     "output_type": "stream",
     "text": [
      "[NeMo W 2020-07-21 16:00:35 callbacks:499] For module BERT, no file matches  in /dli/task/data/logs-tc-bbu/checkpoints\n",
      "[NeMo W 2020-07-21 16:00:35 callbacks:501] Checkpoint folder /dli/task/data/logs-tc-bbu/checkpoints was present but nothing was restored. Continuing training from random initialization.\n"
     ]
    },
    {
     "name": "stdout",
     "output_type": "stream",
     "text": [
      "[NeMo I 2020-07-21 16:00:36 callbacks:232] loss: 1.1053386\n",
      "[NeMo I 2020-07-21 16:00:36 deprecated_callbacks:316] Doing Evaluation ..............................\n",
      "[NeMo I 2020-07-21 16:00:36 text_classification_callback:57] Accuracy: 0.37\n",
      "[NeMo I 2020-07-21 16:00:36 text_classification_callback:64] Sampled preds: [2 2 1 2 2 0 2 2 0 2 2 2 2 2 2 2 0 2 2 0]\n",
      "[NeMo I 2020-07-21 16:00:36 text_classification_callback:65] Sampled labels: [2 0 0 2 1 0 1 0 1 1 2 2 1 2 1 2 2 2 1 0]\n",
      "[NeMo I 2020-07-21 16:00:36 callback_utils:92] Confusion matrix:\n",
      "    [[ 7  8 17]\n",
      "     [ 3  2 19]\n",
      "     [ 9  7 28]]\n",
      "[NeMo I 2020-07-21 16:00:36 text_classification_callback:67]               precision    recall  f1-score   support\n",
      "    \n",
      "               0     0.3684    0.2188    0.2745        32\n",
      "               1     0.1176    0.0833    0.0976        24\n",
      "               2     0.4375    0.6364    0.5185        44\n",
      "    \n",
      "        accuracy                         0.3700       100\n",
      "       macro avg     0.3079    0.3128    0.2969       100\n",
      "    weighted avg     0.3386    0.3700    0.3394       100\n",
      "    \n",
      "[NeMo I 2020-07-21 16:00:36 deprecated_callbacks:321] Evaluation time: 0.6547839641571045 seconds\n",
      "[NeMo I 2020-07-21 16:00:39 callbacks:232] loss: 0.7909175\n",
      "[NeMo I 2020-07-21 16:00:39 deprecated_callbacks:316] Doing Evaluation ..............................\n",
      "[NeMo I 2020-07-21 16:00:40 text_classification_callback:57] Accuracy: 0.75\n",
      "[NeMo I 2020-07-21 16:00:40 text_classification_callback:64] Sampled preds: [2 2 2 0 2 2 2 2 2 2 0 2 2 0 2 2 0 2 1 1]\n",
      "[NeMo I 2020-07-21 16:00:40 text_classification_callback:65] Sampled labels: [2 1 1 0 2 2 2 2 2 1 0 2 0 0 2 1 0 1 0 1]\n",
      "[NeMo I 2020-07-21 16:00:40 callback_utils:92] Confusion matrix:\n",
      "    [[28  1  3]\n",
      "     [ 0  7 17]\n",
      "     [ 3  1 40]]\n",
      "[NeMo I 2020-07-21 16:00:40 text_classification_callback:67]               precision    recall  f1-score   support\n",
      "    \n",
      "               0     0.9032    0.8750    0.8889        32\n",
      "               1     0.7778    0.2917    0.4242        24\n",
      "               2     0.6667    0.9091    0.7692        44\n",
      "    \n",
      "        accuracy                         0.7500       100\n",
      "       macro avg     0.7826    0.6919    0.6941       100\n",
      "    weighted avg     0.7690    0.7500    0.7247       100\n",
      "    \n",
      "[NeMo I 2020-07-21 16:00:40 deprecated_callbacks:321] Evaluation time: 0.6082048416137695 seconds\n",
      "[NeMo I 2020-07-21 16:00:44 callbacks:465] Saved checkpoint: /dli/task/data/logs-tc-bbu/checkpoints/trainer-EPOCH-1.pt\n",
      "[NeMo I 2020-07-21 16:00:45 callbacks:232] loss: 0.52036446\n",
      "[NeMo I 2020-07-21 16:00:45 deprecated_callbacks:316] Doing Evaluation ..............................\n",
      "[NeMo I 2020-07-21 16:00:45 text_classification_callback:57] Accuracy: 0.87\n",
      "[NeMo I 2020-07-21 16:00:45 text_classification_callback:64] Sampled preds: [2 1 2 1 0 2 2 0 2 0 2 2 2 2 0 0 2 0 2 2]\n",
      "[NeMo I 2020-07-21 16:00:45 text_classification_callback:65] Sampled labels: [2 1 2 1 0 2 2 0 2 0 2 2 2 2 0 0 2 0 2 2]\n",
      "[NeMo I 2020-07-21 16:00:45 callback_utils:92] Confusion matrix:\n",
      "    [[30  0  2]\n",
      "     [ 0 17  7]\n",
      "     [ 3  1 40]]\n",
      "[NeMo I 2020-07-21 16:00:45 text_classification_callback:67]               precision    recall  f1-score   support\n",
      "    \n",
      "               0     0.9091    0.9375    0.9231        32\n",
      "               1     0.9444    0.7083    0.8095        24\n",
      "               2     0.8163    0.9091    0.8602        44\n",
      "    \n",
      "        accuracy                         0.8700       100\n",
      "       macro avg     0.8900    0.8516    0.8643       100\n",
      "    weighted avg     0.8768    0.8700    0.8682       100\n",
      "    \n",
      "[NeMo I 2020-07-21 16:00:45 deprecated_callbacks:321] Evaluation time: 0.6293473243713379 seconds\n",
      "[NeMo I 2020-07-21 16:00:49 callbacks:465] Saved checkpoint: /dli/task/data/logs-tc-bbu/checkpoints/trainer-EPOCH-2.pt\n",
      "[NeMo I 2020-07-21 16:00:50 callbacks:232] loss: 0.3959938\n",
      "[NeMo I 2020-07-21 16:00:50 deprecated_callbacks:316] Doing Evaluation ..............................\n",
      "[NeMo I 2020-07-21 16:00:50 text_classification_callback:57] Accuracy: 0.86\n",
      "[NeMo I 2020-07-21 16:00:50 text_classification_callback:64] Sampled preds: [0 1 2 2 2 1 0 1 2 1 2 2 0 0 0 2 2 2 1 0]\n",
      "[NeMo I 2020-07-21 16:00:50 text_classification_callback:65] Sampled labels: [0 1 1 2 2 1 2 1 2 2 2 1 0 0 0 2 2 2 1 0]\n",
      "[NeMo I 2020-07-21 16:00:50 callback_utils:92] Confusion matrix:\n",
      "    [[30  0  2]\n",
      "     [ 0 19  5]\n",
      "     [ 4  3 37]]\n",
      "[NeMo I 2020-07-21 16:00:50 text_classification_callback:67]               precision    recall  f1-score   support\n",
      "    \n",
      "               0     0.8824    0.9375    0.9091        32\n",
      "               1     0.8636    0.7917    0.8261        24\n",
      "               2     0.8409    0.8409    0.8409        44\n",
      "    \n",
      "        accuracy                         0.8600       100\n",
      "       macro avg     0.8623    0.8567    0.8587       100\n",
      "    weighted avg     0.8596    0.8600    0.8592       100\n",
      "    \n",
      "[NeMo I 2020-07-21 16:00:50 deprecated_callbacks:321] Evaluation time: 0.5399086475372314 seconds\n",
      "Gradient overflow.  Skipping step, loss scaler 0 reducing loss scale to 32768.0\n",
      "[NeMo I 2020-07-21 16:00:54 callbacks:465] Saved checkpoint: /dli/task/data/logs-tc-bbu/checkpoints/trainer-EPOCH-3.pt\n",
      "[NeMo I 2020-07-21 16:00:54 callbacks:232] loss: 0.33713457\n",
      "[NeMo I 2020-07-21 16:00:54 deprecated_callbacks:316] Doing Evaluation ..............................\n",
      "[NeMo I 2020-07-21 16:00:55 text_classification_callback:57] Accuracy: 0.88\n",
      "[NeMo I 2020-07-21 16:00:55 text_classification_callback:64] Sampled preds: [2 2 2 1 0 2 0 0 2 1 0 1 0 1 1 2 2 1 0 1]\n",
      "[NeMo I 2020-07-21 16:00:55 text_classification_callback:65] Sampled labels: [2 2 2 1 0 2 0 0 2 1 0 1 0 1 1 2 2 1 2 1]\n",
      "[NeMo I 2020-07-21 16:00:55 callback_utils:92] Confusion matrix:\n",
      "    [[31  0  1]\n",
      "     [ 0 21  3]\n",
      "     [ 4  4 36]]\n",
      "[NeMo I 2020-07-21 16:00:55 text_classification_callback:67]               precision    recall  f1-score   support\n",
      "    \n",
      "               0     0.8857    0.9688    0.9254        32\n",
      "               1     0.8400    0.8750    0.8571        24\n",
      "               2     0.9000    0.8182    0.8571        44\n",
      "    \n",
      "        accuracy                         0.8800       100\n",
      "       macro avg     0.8752    0.8873    0.8799       100\n",
      "    weighted avg     0.8810    0.8800    0.8790       100\n",
      "    \n",
      "[NeMo I 2020-07-21 16:00:55 deprecated_callbacks:321] Evaluation time: 0.5650830268859863 seconds\n",
      "Gradient overflow.  Skipping step, loss scaler 0 reducing loss scale to 16384.0\n",
      "[NeMo I 2020-07-21 16:00:59 callbacks:465] Saved checkpoint: /dli/task/data/logs-tc-bbu/checkpoints/trainer-EPOCH-4.pt\n",
      "[NeMo I 2020-07-21 16:00:59 deprecated_callbacks:339] Final Evaluation ..............................\n",
      "[NeMo I 2020-07-21 16:00:59 text_classification_callback:57] Accuracy: 0.88\n",
      "[NeMo I 2020-07-21 16:00:59 text_classification_callback:64] Sampled preds: [0 1 2 1 2 2 1 1 0 2 2 2 2 2 1 0 2 2 0 2]\n",
      "[NeMo I 2020-07-21 16:00:59 text_classification_callback:65] Sampled labels: [2 1 1 1 2 2 1 1 0 2 2 2 2 2 1 0 2 0 0 2]\n",
      "[NeMo I 2020-07-21 16:00:59 callback_utils:92] Confusion matrix:\n",
      "    [[30  0  2]\n",
      "     [ 0 21  3]\n",
      "     [ 4  3 37]]\n",
      "[NeMo I 2020-07-21 16:00:59 text_classification_callback:67]               precision    recall  f1-score   support\n",
      "    \n",
      "               0     0.8824    0.9375    0.9091        32\n",
      "               1     0.8750    0.8750    0.8750        24\n",
      "               2     0.8810    0.8409    0.8605        44\n",
      "    \n",
      "        accuracy                         0.8800       100\n",
      "       macro avg     0.8794    0.8845    0.8815       100\n",
      "    weighted avg     0.8800    0.8800    0.8795       100\n",
      "    \n",
      "[NeMo I 2020-07-21 16:00:59 deprecated_callbacks:344] Evaluation time: 0.5553574562072754 seconds\n",
      "[NeMo I 2020-07-21 16:01:01 callbacks:465] Saved checkpoint: /dli/task/data/logs-tc-bbu/checkpoints/trainer-EPOCH-5.pt\n",
      "CPU times: user 14.6 s, sys: 10.7 s, total: 25.4 s\n",
      "Wall time: 25.8 s\n"
     ]
    },
    {
     "data": {
      "image/png": "[encoded data removed]",
      "text/plain": [
       "<Figure size 432x288 with 2 Axes>"
      ]
     },
     "metadata": {
      "needs_background": "light"
     },
     "output_type": "display_data"
    },
    {
     "data": {
      "image/png": "[encoded data removed]",
      "text/plain": [
       "<Figure size 432x288 with 2 Axes>"
      ]
     },
     "metadata": {
      "needs_background": "light"
     },
     "output_type": "display_data"
    },
    {
     "data": {
      "image/png": "[encoded data removed]",
      "text/plain": [
       "<Figure size 432x288 with 2 Axes>"
      ]
     },
     "metadata": {
      "needs_background": "light"
     },
     "output_type": "display_data"
    },
    {
     "data": {
      "image/png": "[encoded data removed]",
      "text/plain": [
       "<Figure size 432x288 with 2 Axes>"
      ]
     },
     "metadata": {
      "needs_background": "light"
     },
     "output_type": "display_data"
    },
    {
     "data": {
      "image/png": "[encoded data removed]",
      "text/plain": [
       "<Figure size 432x288 with 2 Axes>"
      ]
     },
     "metadata": {
      "needs_background": "light"
     },
     "output_type": "display_data"
    },
    {
     "data": {
      "image/png": "[encoded data removed]",
      "text/plain": [
       "<Figure size 432x288 with 2 Axes>"
      ]
     },
     "metadata": {
      "needs_background": "light"
     },
     "output_type": "display_data"
    }
   ],
   "source": [
    "%%time\n",
    "nf.train(tensors_to_optimize=[train_loss],\n",
    "         callbacks=[train_callback, tensorboard_callback, eval_callback, ckpt_callback],\n",
    "         lr_policy=lr_policy_fn,\n",
    "         optimizer=OPTIMIZER,\n",
    "         optimization_params={'num_epochs': NUM_EPOCHS, 'lr': LEARNING_RATE})"
   ]
  },
  {
   "cell_type": "markdown",
   "metadata": {},
   "source": [
    "## 3.4.4 Visualize Embeddings After Training\n",
    "Update the embeddings with the newly trained language model and run the inference again.  Then, show the t-SNE plot."
   ]
  },
  {
   "cell_type": "code",
   "execution_count": 29,
   "metadata": {},
   "outputs": [
    {
     "name": "stdout",
     "output_type": "stream",
     "text": [
      "[NeMo I 2020-07-21 16:01:02 actions:695] Evaluating batch 0 out of 1\n"
     ]
    }
   ],
   "source": [
    "spectrum_embeddings = lm(input_ids=spectrum_input,\n",
    "                           token_type_ids=spectrum_token_types,\n",
    "                           attention_mask=spectrum_attn_mask)\n",
    "spectrum_embeddings_tensors = nf.infer(tensors=[spectrum_embeddings])"
   ]
  },
  {
   "cell_type": "code",
   "execution_count": 30,
   "metadata": {},
   "outputs": [
    {
     "name": "stdout",
     "output_type": "stream",
     "text": [
      "[t-SNE] Computing 14 nearest neighbors...\n",
      "[t-SNE] Indexed 15 samples in 0.000s...\n",
      "[t-SNE] Computed neighbors for 15 samples in 0.002s...\n",
      "[t-SNE] Computed conditional probabilities for sample 15 / 15\n",
      "[t-SNE] Mean sigma: 3.639958\n",
      "[t-SNE] KL divergence after 150 iterations with early exaggeration: 33.956806\n",
      "[t-SNE] KL divergence after 600 iterations: 0.038487\n"
     ]
    },
    {
     "data": {
      "image/png": "[encoded data removed]",
      "text/plain": [
       "<Figure size 720x720 with 1 Axes>"
      ]
     },
     "metadata": {
      "needs_background": "light"
     },
     "output_type": "display_data"
    }
   ],
   "source": [
    "spectrum_activations = spectrum_embeddings_tensors[0][0][:,0,:].numpy()\n",
    "tsne_spectrum = TSNE(n_components=2, perplexity=10, verbose=1, learning_rate=2,\n",
    "                     random_state=123).fit_transform(spectrum_activations)\n",
    "\n",
    "fig = plt.figure(figsize=(10,10))\n",
    "plt.plot(tsne_spectrum[0:5, 0], tsne_spectrum[0:5, 1], 'rx')\n",
    "plt.plot(tsne_spectrum[5:10, 0], tsne_spectrum[5:10, 1], 'bo')\n",
    "plt.plot(tsne_spectrum[10:, 0], tsne_spectrum[10:, 1], 'g+')\n",
    "for (x,y, label) in zip(tsne_spectrum[0:, 0], tsne_spectrum[0:, 1], spectrum_df.sentence.values.tolist() ):\n",
    "    plt.annotate(label, # this is the text\n",
    "                 (x,y), # this is the point to label\n",
    "                 textcoords=\"offset points\", # how to position the text\n",
    "                 xytext=(0,10), # distance from text to points (x,y)\n",
    "                 ha='center') # horizontal alignment can be left, right or center"
   ]
  },
  {
   "cell_type": "markdown",
   "metadata": {},
   "source": [
    "# 3.5 Inference\n",
    "Now that the language model and classifier are trained with new weights, you can set up the training graph. Then, you can run inference on the test data and look at the results."
   ]
  },
  {
   "cell_type": "markdown",
   "metadata": {},
   "source": [
    "## 3.5.1 Exercise: Create the Test Graph\n",
    "The test graph is a little different than the training and validation graphs.  For inference, we don't have any labels to learn from, and there is no loss function.\n",
    "\n",
    "<figure>\n",
    "    <img src=\"../images/nemo/test_graph.png\" width=600>\n",
    "    <figcaption style=\"text-align:center;\">Test Graph</figcaption>\n",
    "</figure>\n",
    "\n",
    "In the cell below, look for and fix the <i><strong><span style=\"color:green;\">#FIXME</span><strong></i> code lines (there are three of them).  If you get stuck, look back at the training graph you just set up for inspiration or the [solution notebook](solution_notebooks/SOLN_030_TextClassification.ipynb) for the answer."
   ]
  },
  {
   "cell_type": "code",
   "execution_count": 31,
   "metadata": {},
   "outputs": [],
   "source": [
    "# Define the data output from the data layer\n",
    "test_input, test_token_types, test_attn_mask, _ = dl_test()\n",
    "\n",
    "# Define test_embeddings from the language model, based on inputs from the data layer  \n",
    "test_embeddings = lm(input_ids=test_input,\n",
    "                      token_type_ids=test_token_types,\n",
    "                      attention_mask=test_attn_mask)\n",
    "\n",
    "# Define test_logits from the clasifier based on the language model embeddings\n",
    "test_logits = mlp(hidden_states=test_embeddings)"
   ]
  },
  {
   "cell_type": "markdown",
   "metadata": {},
   "source": [
    "Great!  Now you can run inference with the test set!  "
   ]
  },
  {
   "cell_type": "markdown",
   "metadata": {},
   "source": [
    "## 3.5.2 Run Inference on the Test Set"
   ]
  },
  {
   "cell_type": "code",
   "execution_count": 32,
   "metadata": {},
   "outputs": [
    {
     "name": "stdout",
     "output_type": "stream",
     "text": [
      "[NeMo I 2020-07-21 16:01:03 actions:695] Evaluating batch 0 out of 1\n",
      "CPU times: user 46.5 ms, sys: 319 ms, total: 365 ms\n",
      "Wall time: 358 ms\n"
     ]
    }
   ],
   "source": [
    "%%time\n",
    "test_logits_tensors = nf.infer(tensors=[test_logits])"
   ]
  },
  {
   "cell_type": "markdown",
   "metadata": {},
   "source": [
    "Gather the probabilities produced for each of the three labels on each test abstract. "
   ]
  },
  {
   "cell_type": "code",
   "execution_count": 33,
   "metadata": {},
   "outputs": [],
   "source": [
    "test_probs = [torch.nn.functional.softmax(torch.cat(test_logits_tensors[0]), dim=1).numpy()[:, label_index] for label_index in range(3)]"
   ]
  },
  {
   "cell_type": "code",
   "execution_count": 34,
   "metadata": {},
   "outputs": [],
   "source": [
    "test_df = pd.read_csv(os.path.join(DATA_DIR, 'labeled_test.tsv'), sep='\\t')"
   ]
  },
  {
   "cell_type": "code",
   "execution_count": 35,
   "metadata": {},
   "outputs": [],
   "source": [
    "# test_df['prob'] = test_probs \n",
    "test_df['prob0'] = test_probs[0] \n",
    "test_df['prob1'] = test_probs[1]\n",
    "test_df['prob2'] = test_probs[2]\n",
    "inference_file = os.path.join(DATA_DIR, 'test_inference.tsv')\n",
    "test_df.to_csv(inference_file, sep='\\t', index=False)"
   ]
  },
  {
   "cell_type": "markdown",
   "metadata": {},
   "source": [
    "For convenience, we'll create a function to use in a loop to output the results."
   ]
  },
  {
   "cell_type": "code",
   "execution_count": 36,
   "metadata": {},
   "outputs": [],
   "source": [
    "def sample_classification(sample):\n",
    "    sentence = sample.sentence\n",
    "    prob0 = sample.prob0.values[0]\n",
    "    prob1 = sample.prob1.values[0]\n",
    "    prob2 = sample.prob2.values[0]\n",
    "    result = f'{sentence} \\n cancer | neurological | other\\n {prob0} | {prob1} | {prob2}'\n",
    "    return result"
   ]
  },
  {
   "cell_type": "markdown",
   "metadata": {},
   "source": [
    "## 3.5.3 Inference Results"
   ]
  },
  {
   "cell_type": "code",
   "execution_count": 37,
   "metadata": {
    "scrolled": true
   },
   "outputs": [
    {
     "name": "stdout",
     "output_type": "stream",
     "text": [
      "0    Clustering of missense mutations in the ataxia-telangiectasia gene in a sporadic T-cell leukaemia. Ataxia-telangiectasia ( A-T ) is a recessive multi-system disorder caused by mutations in the ATM gene at 11q22-q23 ( ref . 3 ) . The risk of cancer , especially lymphoid neoplasias , is substantially elevated in A-T patients and has long been associated with chromosomal instability . By analysing tumour DNA from patients with sporadic T-cell prolymphocytic leukaemia ( T-PLL ) , a rare clonal malignancy with similarities to a mature T-cell leukaemia seen in A-T , we demonstrate a high frequency of ATM mutations in T-PLL . In marked contrast to the ATM mutation pattern in A-T , the most frequent nucleotide changes in this leukaemia were missense mutations . These clustered in the region corresponding to the kinase domain , which is highly conserved in ATM-related proteins in mouse , yeast and Drosophila . The resulting amino-acid substitutions are predicted to interfere with ATP binding or substrate recognition . Two of seventeen mutated T-PLL samples had a previously reported A-T allele . In contrast , no mutations were detected in the p53 gene , suggesting that this tumour suppressor is not frequently altered in this leukaemia . Occasional missense mutations in ATM were also found in tumour DNA from patients with B-cell non-Hodgkins lymphomas ( B-NHL ) and a B-NHL cell line . The evidence of a significant proportion of loss-of-function mutations and a complete absence of the normal copy of ATM in the majority of mutated tumours establishes somatic inactivation of this gene in the pathogenesis of sporadic T-PLL and suggests that ATM acts as a tumour suppressor . As constitutional DNA was not available , a putative hereditary predisposition to T-PLL will require further investigation . . \n",
      "Name: sentence, dtype: object \n",
      " cancer | neurological | other\n",
      " 0.86808705 | 0.10147451 | 0.030438434\n",
      "1    Myotonic dystrophy protein kinase is involved in the modulation of the Ca2+ homeostasis in skeletal muscle cells. Myotonic dystrophy ( DM ) , the most prevalent muscular disorder in adults , is caused by ( CTG ) n-repeat expansion in a gene encoding a protein kinase ( DM protein kinase ; DMPK ) and involves changes in cytoarchitecture and ion homeostasis . To obtain clues to the normal biological role of DMPK in cellular ion homeostasis , we have compared the resting [ Ca2 + ] i , the amplitude and shape of depolarization-induced Ca2 + transients , and the content of ATP-driven ion pumps in cultured skeletal muscle cells of wild-type and DMPK [ - / - ] knockout mice . In vitro-differentiated DMPK [ - / - ] myotubes exhibit a higher resting [ Ca2 + ] i than do wild-type myotubes because of an altered open probability of voltage-dependent l-type Ca2 + and Na + channels . The mutant myotubes exhibit smaller and slower Ca2 + responses upon triggering by acetylcholine or high external K + . In addition , we observed that these Ca2 + transients partially result from an influx of extracellular Ca2 + through the l-type Ca2 + channel . Neither the content nor the activity of Na + / K + ATPase and sarcoplasmic reticulum Ca2 + -ATPase are affected by DMPK absence . In conclusion , our data suggest that DMPK is involved in modulating the initial events of excitation-contraction coupling in skeletal muscle . . \n",
      "Name: sentence, dtype: object \n",
      " cancer | neurological | other\n",
      " 0.07269177 | 0.83110124 | 0.096206956\n",
      "2    Constitutional RB1-gene mutations in patients with isolated unilateral retinoblastoma. In most patients with isolated unilateral retinoblastoma , tumor development is initiated by somatic inactivation of both alleles of the RB1 gene . However , some of these patients can transmit retinoblastoma predisposition to their offspring . To determine the frequency and nature of constitutional RB1-gene mutations in patients with isolated unilateral retinoblastoma , we analyzed DNA from peripheral blood and from tumor tissue . The analysis of tumors from 54 ( 71 % ) of 76 informative patients showed loss of constitutional heterozygosity ( LOH ) at intragenic loci . Three of 13 uninformative patients had constitutional deletions . For 39 randomly selected tumors , SSCP , hetero-duplex analysis , sequencing , and Southern blot analysis were used to identify mutations . Mutations were detected in 21 ( 91 % ) of 23 tumors with LOH . In 6 ( 38 % ) of 16 tumors without LOH , one mutation was detected , and in 9 ( 56 % ) of the tumors without LOH , both mutations were found . Thus , a total of 45 mutations were identified in tumors of 36 patients . Thirty-nine of the mutations-including 34 small mutations , 2 large structural alterations , and hypermethylation in 3 tumors-were not detected in the corresponding peripheral blood DNA . In 6 ( 17 % ) of the 36 patients , a mutation was detected in constitutional DNA , and 1 of these mutations is known to be associated with reduced expressivity . The presence of a constitutional mutation was not associated with an early age at treatment . In 1 patient , somatic mosaicism was demonstrated by molecular analysis of DNA and RNA from peripheral blood . In 2 patients without a detectable mutation in peripheral blood , mosaicism was suggested because 1 of the patients showed multifocal tumors and the other later developed bilateral retinoblastoma . In conclusion , our results emphasize that the manifestation and transmissibility of retinoblastoma depend on the nature of the first mutation , its time in development , and the number and types of cells that are affected . . \n",
      "Name: sentence, dtype: object \n",
      " cancer | neurological | other\n",
      " 0.63052785 | 0.093126595 | 0.27634552\n",
      "3    Hereditary deficiency of the fifth component of complement in man. I. Clinical, immunochemical, and family studies. The first recognized human kindred with hereditary deficiency of the fifth component of complement ( C5 ) is described . The proband , a 20-year-old black female with systemic lupus erythematosus since age 11 , lacked serum hemolytic complement activity , even during remission . C5 was undetectable in her serum by both immunodiffusion and hemolytic assays . Other complement components were normal during remission of lupus , but C1 , C4 , C2 , and C3 levels fell during exacerbations . A younger half-sister , who had no underlying disease , was also found to lack immunochemically detectable C5 . By hemolytic assay , she exhibited 1-2 % of the normal serum C5 level and normal concentrations of other complement components . C5 levels of other family members were either normal or approximately half-normal , consistent with autosomal codominant inheritance of the gene determining C5 deficiency . Normal hemolytic titers were restored to both homozygous C5-deficient ( C5D ) sera by addition of highly purified human C5 . In specific C5 titrations , however , it was noted that when limited amounts of C5 were assayed in the presence of low dilutions of either C5D serum , curving rather than linear dose-response plots were consistently obtained , suggesting some inhibitory effect . Further studies suggested that low dilutions of C5D serum contain a factor ( or factors ) interfering at some step in the hemolytic assay of C5 , rather than a true C5 inhibitor or inactivator . Of clinical interest are ( a ) the documentation of membranous glomerulonephritis , vasculitis , and arthritis in an individual lacking C5 ( and its biologic functions ) , and ( b ) a remarkable propensity to bacterial infections in the proband , even during periods of low-dose or alternate-day corticosteroid therapy . Other observations indicate that the C5D state is compatible with normal coagulation function and the capacity to mount a neutrophilic leukocytosis during pyogenic infection . . \n",
      "Name: sentence, dtype: object \n",
      " cancer | neurological | other\n",
      " 0.034588274 | 0.028730744 | 0.93668103\n",
      "4    Susceptibility to ankylosing spondylitis in twins: the role of genes, HLA, and the environment. OBJECTIVE  To determine the relative effects of genetic and environmental factors in susceptibility to ankylosing spondylitis ( AS ) . METHODS  Twins with AS were identified from the Royal National Hospital for Rheumatic Diseases database . Clinical and radiographic examinations were performed to establish diagnoses , and disease severity was assessed using a combination of validated scoring systems . HLA typing for HLA-B27 , HLA-B60 , and HLA-DR1 was performed by polymerase chain reaction with sequence-specific primers , and zygosity was assessed using microsatellite markers . Genetic and environmental variance components were assessed with the program Mx , using data from this and previous studies of twins with AS . RESULTS  Six of 8 monozygotic ( MZ ) twin pairs were disease concordant , compared with 4 of 15 B27-positive dizygotic ( DZ ) twin pairs ( 27 % ) and 4 of 32 DZ twin pairs overall ( 12 . 5 % ) . Nonsignificant increases in similarity with regard to age at disease onset and all of the disease severity scores assessed were noted in disease-concordant MZ twins compared with concordant DZ twins . HLA-B27 and B60 were associated with the disease in probands , and the rate of disease concordance was significantly increased among DZ twin pairs in which the co-twin was positive for both B27 and DR1 . Additive genetic effects were estimated to contribute 97 % of the population variance . CONCLUSION  Susceptibility to AS is largely genetically determined , and the environmental trigger for the disease is probably ubiquitous . HLA-B27 accounts for a minority of the overall genetic susceptibility to AS . \n",
      "Name: sentence, dtype: object \n",
      " cancer | neurological | other\n",
      " 0.02838764 | 0.5214422000000001 | 0.45017022\n",
      "5    Cell cycle-dependent colocalization of BARD1 and BRCA1 proteins in discrete nuclear domains. Germ-line mutations of the BRCA1 gene predispose women to early-onset breast and ovarian cancer by compromising the genes presumptive function as a tumor suppressor . Although the biochemical properties of BRCA1 polypeptides are not understood , their expression pattern and subcellular localization suggest a role in cell-cycle regulation . When resting cells are induced to proliferate , the steady-state levels of BRCA1 increase in late G1 and reach a maximum during S phase . Moreover , in S phase cells , BRCA1 polypeptides are hyperphosphorylated and accumulate into discrete subnuclear foci termed \" BRCA1 nuclear dots . \" BRCA1 associates in vivo with a structurally related protein termed BARD1 . Here we show that the steady-state levels of BARD1 , unlike those of BRCA1 , remain relatively constant during cell cycle progression . However , immunostaining revealed that BARD1 resides within BRCA1 nuclear dots during S phase of the cell cycle , but not during the G1 phase . Nevertheless , BARD1 polypeptides are found exclusively in the nuclear fractions of both G1- and S-phase cells . Therefore , progression to S phase is accompanied by the aggregation of nuclear BARD1 polypeptides into BRCA1 nuclear dots . This cell cycle-dependent colocalization of BARD1 and BRCA1 indicates a role for BARD1 in BRCA1-mediated tumor suppression . \n",
      "Name: sentence, dtype: object \n",
      " cancer | neurological | other\n",
      " 0.96852344 | 0.0132989725 | 0.018177543\n",
      "6    Ethnic differences in the HFE codon 282 (Cys/Tyr) polymorphism. Recent studies have shown that hereditary hemochromatosis ( HH ) is likely to be caused by homozygosity for a Cys282Tyr mutation in the HFE gene located 4 . 5 Mb telomeric to HLA-A . Population studies of this polymorphism are facilitated by the fact that the Cys282Tyr mutation creates a Rsal restriction site . We have studied the codon 282 ( Cys / Tyr ) polymorphism in different ethnic groups . In agreement with previous observations the Tyr allele appeared to be rare or absent in Asiatic ( Indian , Chinese ) populations . The highest allele frequency ( 7 . 5 % ) was found in Swedes . Saamis ( 2 % ) and Mordvinians ( 1 . 8 % ) had significantly lower frequencies of the Tyr allele . Comparisons with allele frequencies based on prevalence estimates of HH showed some disagreements with the RFLP data , particularly in Finns . The newly described HFE marker provides a new approach to the screening of HH as well as studies of the relationship between the HFE Tyr allele and different disorders including cancer \n",
      "Name: sentence, dtype: object \n",
      " cancer | neurological | other\n",
      " 0.961794 | 0.018264027 | 0.019941913000000002\n",
      "7    Autosomal dominant neurohypophyseal diabetes insipidus associated with a missense mutation encoding Gly23-->Val in neurophysin II. Autosomal dominant neurohypophyseal diabetes insipidus ( ADNDI ) is an inherited disease caused by progressive degeneration of the magnocellular neurons of the hypothalamus leading to decreased ability to produce the hormone arginine vasopressin ( AVP ) . Affected individuals are not symptomatic at birth , but usually develop diabetes insipidus at 1-6 yr of age . The genetic locus of the disease is the AVP-neurophysin II ( NPII ) gene , and mutations that cause ADNDI have been found in both the signal peptide of the prepro-AVP-NPII precursor and within NPII itself . An affected girl who presented at 9 months of age and her similarly affected younger brother and father were all found to have a novel missense mutation ( G1758-- > T ) encoding the amino acid substitution Gly23-- > Val within NPII . The mutation was confirmed by restriction endonuclease analysis . A T1-weighted magnetic resonance imaging of the fathers pituitary gland demonstrates an attenuated posterior pituitary bright spot . This mutation may be valuable for developing models of dominantly inherited neurodegeneration , as the early age of onset of symptoms suggests that this mutation may be particularly deleterious to the magnocellular neuron . . \n",
      "Name: sentence, dtype: object \n",
      " cancer | neurological | other\n",
      " 0.031743452000000005 | 0.46215907 | 0.50609756\n",
      "8    Frequent inactivation of PTEN/MMAC1 in primary prostate cancer. Sporadic prostate carcinoma is the most common male cancer in the Western world , yet many of the major genetic events involved in the progression of this often fatal cancer remain to be elucidated . Numerous cytogenetic and allelotype studies have reported frequent loss of heterozygosity on chromosomal arm 10q in sporadic prostate cancer . Deletion mapping studies have unambiguously identified a region of chromosome 10q23 to be the minimal area of loss . A new tumor suppressor gene , PTEN / MMAC1 , was isolated recently at this region of chromosome 10q23 and found to be inactivated by mutation in three prostate cancer cell lines . We screened 80 prostate tumors by microsatellite analysis and found chromosome 10q23 to be deleted in 23 cases . We then proceeded with sequence analysis of the entire PTEN / MMAC1 coding region and tested for homozygous deletion with new intragenic markers in these 23 cases with 10q23 loss of heterozygosity . The identification of the second mutational event in 10 ( 43 % ) tumors establishes PTEN / MMAC1 as a main inactivation target of 10q loss in sporadic prostate cancer . . \n",
      "Name: sentence, dtype: object \n",
      " cancer | neurological | other\n",
      " 0.9699286 | 0.013848807 | 0.01622255\n",
      "9    Risk reversals in predictive testing for Huntington disease. The first predictive testing for Huntington disease ( HD ) was based on analysis of linked polymorphic DNA markers to estimate the likelihood of inheriting the mutation for HD . Limits to accuracy included recombination between the DNA markers and the mutation , pedigree structure , and whether DNA samples were available from family members . With direct tests for the HD mutation , we have assessed the accuracy of results obtained by linkage approaches when requested to do so by the test individuals . For six such individuals , there was significant disparity between the tests . Three went from a decreased risk to an increased risk , while in another three the risk was decreased . Knowledge of the potential reasons for these changes in results and impact of these risk reversals on both patients and the counseling team can assist in the development of strategies for the prevention and , where necessary , management of a risk reversal in any predictive testing program . . \n",
      "Name: sentence, dtype: object \n",
      " cancer | neurological | other\n",
      " 0.020393232 | 0.88683945 | 0.092767425\n"
     ]
    }
   ],
   "source": [
    "df = pd.read_csv(inference_file, sep='\\t')\n",
    "for ind in range(len(df)):\n",
    "    sample = df[ind:ind+1]\n",
    "    print(sample_classification(sample))"
   ]
  },
  {
   "cell_type": "markdown",
   "metadata": {},
   "source": [
    "Typical results should looks something like:"
   ]
  },
  {
   "cell_type": "raw",
   "metadata": {},
   "source": [
    "Risk reversals in predictive testing for Huntington disease. The first predictive testing for Huntington disease ( HD ) was based on analysis of linked polymorphic DNA markers to estimate the likelihood of inheriting the mutation for HD . Limits to accuracy included recombination between the DNA markers and the mutation , pedigree structure , and whether DNA samples were available from family members . With direct tests for the HD mutation , we have assessed the accuracy of results obtained by linkage approaches when requested to do so by the test individuals . For six such individuals , there was significant disparity between the tests . Three went from a decreased risk to an increased risk , while in another three the risk was decreased . Knowledge of the potential reasons for these changes in results and impact of these risk reversals on both patients and the counseling team can assist in the development of strategies for the prevention and , where necessary , management of a risk reversal in any predictive testing program . . \n",
    "Name: sentence, dtype: object \n",
    " cancer | neurological | other\n",
    " 0.020393232 | 0.88683945 | 0.092767425"
   ]
  },
  {
   "cell_type": "markdown",
   "metadata": {},
   "source": [
    "## 3.5.4 Single Sentence Classification"
   ]
  },
  {
   "cell_type": "code",
   "execution_count": 38,
   "metadata": {},
   "outputs": [],
   "source": [
    "def classify_sentence(nf, tokenizer, bert, mlp, sentence):\n",
    "    sentence = sentence.lower()\n",
    "    tmp_file = \"/tmp/tmp_sentence.tsv\"\n",
    "    with open(tmp_file, 'w+') as tmp_tsv:\n",
    "        header = 'sentence\\tlabel\\n'\n",
    "        line = sentence + '\\t0\\n'\n",
    "        tmp_tsv.writelines([header, line])\n",
    "\n",
    "    tmp_data = BertTextClassificationDataLayer(input_file=tmp_file,\n",
    "                                               tokenizer=tokenizer,\n",
    "                                               max_seq_length=128,\n",
    "                                               batch_size=1)\n",
    "    \n",
    "    tmp_input, tmp_token_types, tmp_attn_mask, _ = tmp_data()\n",
    "    tmp_embeddings = bert(input_ids=tmp_input,\n",
    "                          token_type_ids=tmp_token_types,\n",
    "                          attention_mask=tmp_attn_mask)\n",
    "    tmp_logits = mlp(hidden_states=tmp_embeddings)\n",
    "    tmp_logits_tensors = nf.infer(tensors=[tmp_logits, tmp_embeddings])\n",
    "    tmp_probs0 = torch.nn.functional.softmax(torch.cat(tmp_logits_tensors[0])).numpy()[:, 0]\n",
    "    tmp_probs1 = torch.nn.functional.softmax(torch.cat(tmp_logits_tensors[0])).numpy()[:, 1]\n",
    "    tmp_probs2 = torch.nn.functional.softmax(torch.cat(tmp_logits_tensors[0])).numpy()[:, 2]\n",
    "    print(f'\\n******\\n{sentence} \\n {tmp_probs0[0]} | {tmp_probs1[0]} | {tmp_probs2[0]}\\n********\\n')"
   ]
  },
  {
   "cell_type": "code",
   "execution_count": 41,
   "metadata": {
    "scrolled": true
   },
   "outputs": [
    {
     "name": "stdout",
     "output_type": "stream",
     "text": [
      "[NeMo I 2020-07-21 16:07:29 text_classification_dataset:82] /tmp/tmp_sentence.tsv: 1\n",
      "[NeMo I 2020-07-21 16:07:29 data_preprocessing:250] Min: 32 |                  Max: 32 |                  Mean: 32.0 |                  Median: 32.0\n",
      "[NeMo I 2020-07-21 16:07:29 data_preprocessing:252] 75 percentile: 32.0\n",
      "[NeMo I 2020-07-21 16:07:29 data_preprocessing:253] 99 percentile: 32.0\n",
      "[NeMo I 2020-07-21 16:07:29 text_classification_dataset:118] 0 out of 1                         sentences with more than 128 subtokens.\n",
      "[NeMo I 2020-07-21 16:07:29 text_classification_dataset:175] *** Example ***\n",
      "[NeMo I 2020-07-21 16:07:29 text_classification_dataset:176] example_index: 0\n",
      "[NeMo I 2020-07-21 16:07:29 text_classification_dataset:177] subtokens: [CLS] in contrast , no mutations were detected in the p ##53 gene , suggesting that this tu ##mour suppress ##or is not frequently altered in this le ##uka ##emia . [SEP]\n",
      "[NeMo I 2020-07-21 16:07:29 text_classification_dataset:178] sent_label: 0\n",
      "[NeMo I 2020-07-21 16:07:29 text_classification_dataset:179] input_ids: 101 1999 5688 1010 2053 14494 2020 11156 1999 1996 1052 22275 4962 1010 9104 2008 2023 10722 20360 16081 2953 2003 2025 4703 8776 1999 2023 3393 15750 17577 1012 102 0 0 0 0 0 0 0 0 0 0 0 0 0 0 0 0 0 0 0 0 0 0 0 0 0 0 0 0 0 0 0 0 0 0 0 0 0 0 0 0 0 0 0 0 0 0 0 0 0 0 0 0 0 0 0 0 0 0 0 0 0 0 0 0 0 0 0 0 0 0 0 0 0 0 0 0 0 0 0 0 0 0 0 0 0 0 0 0 0 0 0 0 0 0 0 0\n",
      "[NeMo I 2020-07-21 16:07:29 text_classification_dataset:180] input_mask: 1 1 1 1 1 1 1 1 1 1 1 1 1 1 1 1 1 1 1 1 1 1 1 1 1 1 1 1 1 1 1 1 0 0 0 0 0 0 0 0 0 0 0 0 0 0 0 0 0 0 0 0 0 0 0 0 0 0 0 0 0 0 0 0 0 0 0 0 0 0 0 0 0 0 0 0 0 0 0 0 0 0 0 0 0 0 0 0 0 0 0 0 0 0 0 0 0 0 0 0 0 0 0 0 0 0 0 0 0 0 0 0 0 0 0 0 0 0 0 0 0 0 0 0 0 0 0 0\n",
      "[NeMo I 2020-07-21 16:07:30 actions:695] Evaluating batch 0 out of 1\n",
      "\n",
      "******\n",
      "in contrast , no mutations were detected in the p53 gene , suggesting that this tumour suppressor is not frequently altered in this leukaemia . \n",
      " 0.9036046266555786 | 0.02678487077355385 | 0.06961049884557724\n",
      "********\n",
      "\n",
      "[NeMo I 2020-07-21 16:07:30 text_classification_dataset:82] /tmp/tmp_sentence.tsv: 1\n",
      "[NeMo I 2020-07-21 16:07:30 data_preprocessing:250] Min: 35 |                  Max: 35 |                  Mean: 35.0 |                  Median: 35.0\n",
      "[NeMo I 2020-07-21 16:07:30 data_preprocessing:252] 75 percentile: 35.0\n",
      "[NeMo I 2020-07-21 16:07:30 data_preprocessing:253] 99 percentile: 35.0\n",
      "[NeMo I 2020-07-21 16:07:30 text_classification_dataset:118] 0 out of 1                         sentences with more than 128 subtokens.\n",
      "[NeMo I 2020-07-21 16:07:30 text_classification_dataset:175] *** Example ***\n",
      "[NeMo I 2020-07-21 16:07:30 text_classification_dataset:176] example_index: 0\n",
      "[NeMo I 2020-07-21 16:07:30 text_classification_dataset:177] subtokens: [CLS] the first predict ##ive testing for huntington disease ( hd ) was based on analysis of linked poly ##morphic dna markers to estimate the likelihood of inherit ##ing the mutation for hd . [SEP]\n",
      "[NeMo I 2020-07-21 16:07:30 text_classification_dataset:178] sent_label: 0\n",
      "[NeMo I 2020-07-21 16:07:30 text_classification_dataset:179] input_ids: 101 1996 2034 16014 3512 5604 2005 16364 4295 1006 10751 1007 2001 2241 2006 4106 1997 5799 26572 18078 6064 16387 2000 10197 1996 16593 1997 22490 2075 1996 16221 2005 10751 1012 102 0 0 0 0 0 0 0 0 0 0 0 0 0 0 0 0 0 0 0 0 0 0 0 0 0 0 0 0 0 0 0 0 0 0 0 0 0 0 0 0 0 0 0 0 0 0 0 0 0 0 0 0 0 0 0 0 0 0 0 0 0 0 0 0 0 0 0 0 0 0 0 0 0 0 0 0 0 0 0 0 0 0 0 0 0 0 0 0 0 0 0 0 0\n",
      "[NeMo I 2020-07-21 16:07:30 text_classification_dataset:180] input_mask: 1 1 1 1 1 1 1 1 1 1 1 1 1 1 1 1 1 1 1 1 1 1 1 1 1 1 1 1 1 1 1 1 1 1 1 0 0 0 0 0 0 0 0 0 0 0 0 0 0 0 0 0 0 0 0 0 0 0 0 0 0 0 0 0 0 0 0 0 0 0 0 0 0 0 0 0 0 0 0 0 0 0 0 0 0 0 0 0 0 0 0 0 0 0 0 0 0 0 0 0 0 0 0 0 0 0 0 0 0 0 0 0 0 0 0 0 0 0 0 0 0 0 0 0 0 0 0 0\n",
      "[NeMo I 2020-07-21 16:07:30 actions:695] Evaluating batch 0 out of 1\n",
      "\n",
      "******\n",
      "the first predictive testing for huntington disease ( hd ) was based on analysis of linked polymorphic dna markers to estimate the likelihood of inheriting the mutation for hd . \n",
      " 0.05453434959053993 | 0.9196802973747253 | 0.025785371661186218\n",
      "********\n",
      "\n",
      "[NeMo I 2020-07-21 16:07:30 text_classification_dataset:82] /tmp/tmp_sentence.tsv: 1\n",
      "[NeMo I 2020-07-21 16:07:30 data_preprocessing:250] Min: 42 |                  Max: 42 |                  Mean: 42.0 |                  Median: 42.0\n",
      "[NeMo I 2020-07-21 16:07:30 data_preprocessing:252] 75 percentile: 42.0\n",
      "[NeMo I 2020-07-21 16:07:30 data_preprocessing:253] 99 percentile: 42.0\n",
      "[NeMo I 2020-07-21 16:07:30 text_classification_dataset:118] 0 out of 1                         sentences with more than 128 subtokens.\n",
      "[NeMo I 2020-07-21 16:07:30 text_classification_dataset:175] *** Example ***\n",
      "[NeMo I 2020-07-21 16:07:30 text_classification_dataset:176] example_index: 0\n",
      "[NeMo I 2020-07-21 16:07:30 text_classification_dataset:177] subtokens: [CLS] ge ##rm - line mutations of the br ##ca ##1 gene pre ##dis ##pose women to early - onset breast and o ##var ##ian cancer by com ##promising the genes pre ##sum ##ptive function as a tumor suppress ##or . [SEP]\n",
      "[NeMo I 2020-07-21 16:07:30 text_classification_dataset:178] sent_label: 0\n",
      "[NeMo I 2020-07-21 16:07:30 text_classification_dataset:179] input_ids: 101 16216 10867 1011 2240 14494 1997 1996 7987 3540 2487 4962 3653 10521 20688 2308 2000 2220 1011 14447 7388 1998 1051 10755 2937 4456 2011 4012 25013 1996 9165 3653 17421 24971 3853 2004 1037 13656 16081 2953 1012 102 0 0 0 0 0 0 0 0 0 0 0 0 0 0 0 0 0 0 0 0 0 0 0 0 0 0 0 0 0 0 0 0 0 0 0 0 0 0 0 0 0 0 0 0 0 0 0 0 0 0 0 0 0 0 0 0 0 0 0 0 0 0 0 0 0 0 0 0 0 0 0 0 0 0 0 0 0 0 0 0 0 0 0 0 0 0\n",
      "[NeMo I 2020-07-21 16:07:30 text_classification_dataset:180] input_mask: 1 1 1 1 1 1 1 1 1 1 1 1 1 1 1 1 1 1 1 1 1 1 1 1 1 1 1 1 1 1 1 1 1 1 1 1 1 1 1 1 1 1 0 0 0 0 0 0 0 0 0 0 0 0 0 0 0 0 0 0 0 0 0 0 0 0 0 0 0 0 0 0 0 0 0 0 0 0 0 0 0 0 0 0 0 0 0 0 0 0 0 0 0 0 0 0 0 0 0 0 0 0 0 0 0 0 0 0 0 0 0 0 0 0 0 0 0 0 0 0 0 0 0 0 0 0 0 0\n",
      "[NeMo I 2020-07-21 16:07:30 actions:695] Evaluating batch 0 out of 1\n",
      "\n",
      "******\n",
      "germ-line mutations of the brca1 gene predispose women to early-onset breast and ovarian cancer by compromising the genes presumptive function as a tumor suppressor . \n",
      " 0.9714245200157166 | 0.012216494418680668 | 0.01635901629924774\n",
      "********\n",
      "\n",
      "[NeMo I 2020-07-21 16:07:30 text_classification_dataset:82] /tmp/tmp_sentence.tsv: 1\n",
      "[NeMo I 2020-07-21 16:07:30 data_preprocessing:250] Min: 50 |                  Max: 50 |                  Mean: 50.0 |                  Median: 50.0\n",
      "[NeMo I 2020-07-21 16:07:30 data_preprocessing:252] 75 percentile: 50.0\n",
      "[NeMo I 2020-07-21 16:07:30 data_preprocessing:253] 99 percentile: 50.0\n",
      "[NeMo I 2020-07-21 16:07:30 text_classification_dataset:118] 0 out of 1                         sentences with more than 128 subtokens.\n",
      "[NeMo I 2020-07-21 16:07:30 text_classification_dataset:175] *** Example ***\n",
      "[NeMo I 2020-07-21 16:07:30 text_classification_dataset:176] example_index: 0\n",
      "[NeMo I 2020-07-21 16:07:30 text_classification_dataset:177] subtokens: [CLS] further studies suggested that low dil ##ution ##s of c ##5 ##d serum contain a factor ( or factors ) interfering at some step in the hem ##ol ##ytic ass ##ay of c ##5 , rather than a true c ##5 inhibitor or ina ##ct ##iva ##tor . [SEP]\n",
      "[NeMo I 2020-07-21 16:07:30 text_classification_dataset:178] sent_label: 0\n",
      "[NeMo I 2020-07-21 16:07:30 text_classification_dataset:179] input_ids: 101 2582 2913 4081 2008 2659 29454 13700 2015 1997 1039 2629 2094 20194 5383 1037 5387 1006 2030 5876 1007 24324 2012 2070 3357 1999 1996 19610 4747 21252 4632 4710 1997 1039 2629 1010 2738 2084 1037 2995 1039 2629 24054 2030 27118 6593 11444 4263 1012 102 0 0 0 0 0 0 0 0 0 0 0 0 0 0 0 0 0 0 0 0 0 0 0 0 0 0 0 0 0 0 0 0 0 0 0 0 0 0 0 0 0 0 0 0 0 0 0 0 0 0 0 0 0 0 0 0 0 0 0 0 0 0 0 0 0 0 0 0 0 0 0 0 0 0 0 0 0 0\n",
      "[NeMo I 2020-07-21 16:07:30 text_classification_dataset:180] input_mask: 1 1 1 1 1 1 1 1 1 1 1 1 1 1 1 1 1 1 1 1 1 1 1 1 1 1 1 1 1 1 1 1 1 1 1 1 1 1 1 1 1 1 1 1 1 1 1 1 1 1 0 0 0 0 0 0 0 0 0 0 0 0 0 0 0 0 0 0 0 0 0 0 0 0 0 0 0 0 0 0 0 0 0 0 0 0 0 0 0 0 0 0 0 0 0 0 0 0 0 0 0 0 0 0 0 0 0 0 0 0 0 0 0 0 0 0 0 0 0 0 0 0 0 0 0 0 0 0\n",
      "[NeMo I 2020-07-21 16:07:31 actions:695] Evaluating batch 0 out of 1\n",
      "\n",
      "******\n",
      "further studies suggested that low dilutions of c5d serum contain a factor ( or factors ) interfering at some step in the hemolytic assay of c5 , rather than a true c5 inhibitor or inactivator . \n",
      " 0.033512335270643234 | 0.03742223605513573 | 0.9290654063224792\n",
      "********\n",
      "\n"
     ]
    }
   ],
   "source": [
    "sentences = ['In contrast , no mutations were detected in the p53 gene , suggesting that this tumour suppressor is not frequently altered in this leukaemia .',\n",
    "             'The first predictive testing for Huntington disease ( HD ) was based on analysis of linked polymorphic DNA markers to estimate the likelihood of inheriting the mutation for HD .',\n",
    "             'Germ-line mutations of the BRCA1 gene predispose women to early-onset breast and ovarian cancer by compromising the genes presumptive function as a tumor suppressor .',\n",
    "             'Further studies suggested that low dilutions of C5D serum contain a factor ( or factors ) interfering at some step in the hemolytic assay of C5 , rather than a true C5 inhibitor or inactivator .'\n",
    "            ]\n",
    "# should be 0, 1, 0, 2 \n",
    "for sentence in sentences:\n",
    "    classify_sentence(nf, tokenizer, lm, mlp, sentence)"
   ]
  },
  {
   "cell_type": "markdown",
   "metadata": {},
   "source": [
    "# 3.6 Exercise: Change the Language Model\n",
    "Now that you've built the project, you can experiment with different settings, especially different language models.  For this exercise, try 'bert-large-uncased' or 'megatron-uncased'.  To do that, you'll need to restart the kernel to clear memory, and change the parameters in the [3.1.1 Input Parameters](3.1.1-Input-Parameters) section.  With these larger models, you'll need to reduce the batch size to avoid an out-of-memory error."
   ]
  },
  {
   "cell_type": "markdown",
   "metadata": {},
   "source": [
    "<h2 style=\"color:green;\">Congratulations!</h2>\n",
    "\n",
    "You've built a text classifier with three classes and mastered creating graphs for training, validation, and test with NeMo.  You experimented with alternate language models and tested the result.  You're ready to try a different NLP task.<br>\n",
    "\n",
    "Move on to [4.0 Build a Named-Entity Recognizer](040_NamedEntityRecognition.ipynb)."
   ]
  },
  {
   "cell_type": "markdown",
   "metadata": {},
   "source": [
    "<a href=\"https://www.nvidia.com/dli\"> <img src=\"../images/DLI_Header.png\" alt=\"Header\" style=\"width: 400px;\"/> </a>"
   ]
  }
 ],
 "metadata": {
  "kernelspec": {
   "display_name": "Python 3",
   "language": "python",
   "name": "python3"
  },
  "language_info": {
   "codemirror_mode": {
    "name": "ipython",
    "version": 3
   },
   "file_extension": ".py",
   "mimetype": "text/x-python",
   "name": "python",
   "nbconvert_exporter": "python",
   "pygments_lexer": "ipython3",
   "version": "3.8.3"
  },
  "pycharm": {
   "stem_cell": {
    "cell_type": "raw",
    "metadata": {
     "collapsed": false
    },
    "source": []
   }
  }
 },
 "nbformat": 4,
 "nbformat_minor": 4
}
