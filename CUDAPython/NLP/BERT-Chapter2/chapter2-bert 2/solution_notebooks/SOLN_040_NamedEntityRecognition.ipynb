{
 "cells": [
  {
   "cell_type": "markdown",
   "metadata": {},
   "source": [
    "<a href=\"https://www.nvidia.com/dli\"> <img src=\"../images/DLI_Header.png\" alt=\"Header\" style=\"width: 400px;\"/> </a>"
   ]
  },
  {
   "cell_type": "markdown",
   "metadata": {},
   "source": [
    "# 4.0 Build a Named-Entity Recognizer\n",
    "\n",
    "In this notebook, you'll build an application that finds disease names in medical disease abstracts. The model does not \"search\" for names from a list, but rather \"recognizes\" that certain words are disease references from the context of the language.\n",
    "\n",
    "**[4.1 Set Up the Project](#4.1-Set-Up-the-Project)**<br>\n",
    "&nbsp;&nbsp;&nbsp;&nbsp;[4.1.1 Input Parameters](#4.1.1-Input-Parameters)<br>\n",
    "**[4.2 Create Neural Modules](#4.2-Create-Neural-Modules)**<br>\n",
    "**[4.3 Create Neural Graphs](#4.3-Create-Neural-Graphs)**<br>\n",
    "&nbsp;&nbsp;&nbsp;&nbsp;[4.3.1 Training Graph](#4.3.1-Training-Graph)<br>\n",
    "&nbsp;&nbsp;&nbsp;&nbsp;[4.3.2 Exercise: Create the Validation Graph](#4.3.2-Exercise:-Create-the-Validation-Graph)<br>\n",
    "**[4.4 Training](#4.4-Training)**<br>\n",
    "&nbsp;&nbsp;&nbsp;&nbsp;[4.4.1 Set the Learning Rate and Optimizer](#4.4.1-Set-the-Learning-Rate-and-Optimizer)<br>\n",
    "&nbsp;&nbsp;&nbsp;&nbsp;[4.4.2 Exercise: Create the Callbacks](#4.4.2-Exercise:-Create-the-Callbacks)<br>\n",
    "&nbsp;&nbsp;&nbsp;&nbsp;[4.4.3 Run the Trainer](#4.4.3-Run-the-Trainer)<br>\n",
    "**[4.5 Inference](#4.5-Inference)**<br>\n",
    "&nbsp;&nbsp;&nbsp;&nbsp;[4.5.1 Create the Test Graph](#4.5.1-Create-the-Test-Graph)<br>\n",
    "&nbsp;&nbsp;&nbsp;&nbsp;[4.5.2 Run Inference on the Test Queries](#4.5.2-Run-Inference-on-the-Test-Queries)<br>\n",
    "&nbsp;&nbsp;&nbsp;&nbsp;[4.5.3 Inference Results](#4.5.3-Inference-Results)<br>\n",
    "**[4.6 Exercise: Change the Language Model](#4.6-Exercise:-Change-the-Language-Model)**<br>\n",
    "\n",
    "As we saw in the [1.0 Explore the Data](010_ExploreData.ipynb) notebook, the dataset for the NER project is made up of sentences with IOB tagging, where each word in a sentence is tagged as inside, outside, or the beginning of a named entity.  In the NER task, you'll follow the same basic steps as in the text classification task to build your project, train it, and test it, with a few differences:\n",
    "* You'll learn to apply the *domain-specific* [BioBERT](https://news.developer.nvidia.com/biobert-optimized/) language model from an imported checkpoint, instead of one of the default pretrained models\n",
    "* You'll use different neural modules appropriate for use with NER\n",
    "* You'll learn to use a query-based technique for inference\n",
    "\n",
    "BioBERT has the same network architecture as the original BERT, but instead of Wikipedia and BookCorpus, it is pretrained on PubMed, a large biomedical text corpus.  Starting with BioBERT instead of BERT achieves better performance in biomedical downstream tasks, such as question answering(QA), named entity recognition(NER) and relationship extraction(RE). This model was trained for 1M steps. For more information please refer to the original paper: [BioBERT: a pre-trained biomedical language representation model for biomedical text mining](https://academic.oup.com/bioinformatics/article/36/4/1234/5566506)."
   ]
  },
  {
   "cell_type": "markdown",
   "metadata": {},
   "source": [
    "# 4.1 Set Up the Project\n",
    "The NeMo setup pattern is the same for NER as for text classification, but some of the details are different.\n",
    "* The \"input data\" consists of two files instead of one (text and labels)\n",
    "* The data layers and classifiers work with \"tokens\" \n",
    "* We need to define a \"none\" label for the token padding, which we'll designate as \"O\", the symbol for \"outside\" in IOB\n",
    "\n",
    "<img src=\"../images/nemo/nm-pipe.png\" width=800>\n",
    "\n",
    "Begin by importing libraries.  Note the specific classes and helpers that are imported below.  These are the ones you'll use to build your training, validation, and testing graphs."
   ]
  },
  {
   "cell_type": "code",
   "execution_count": 1,
   "metadata": {},
   "outputs": [
    {
     "name": "stderr",
     "output_type": "stream",
     "text": [
      "[NeMo W 2020-07-25 22:13:54 audio_preprocessing:56] Could not import torchaudio. Some features might not work.\n"
     ]
    }
   ],
   "source": [
    "# Import useful math and utility libraries\n",
    "import os\n",
    "import torch\n",
    "import pandas as pd\n",
    "import numpy as np\n",
    "import time\n",
    "import errno\n",
    "import inspect\n",
    "import termcolor\n",
    "\n",
    "# Import the nemo toolkit and NLP libraries\n",
    "import nemo\n",
    "import nemo.collections.nlp as nemo_nlp\n",
    "\n",
    "# Import the specific neural modules and module helpers we need\n",
    "from nemo.collections.nlp.nm.data_layers import BertTokenClassificationDataLayer\n",
    "from nemo.collections.nlp.nm.data_layers import BertTokenClassificationInferDataLayer\n",
    "from nemo.collections.nlp.nm.trainables import get_pretrained_lm_model\n",
    "from nemo.collections.nlp.nm.trainables import TokenClassifier\n",
    "from nemo.backends.pytorch.common.losses import CrossEntropyLossNM\n",
    "\n",
    "# Import helpers for fetching learning rate policy, tokenizer, vocabulary\n",
    "from nemo.utils.lr_policies import get_lr_policy\n",
    "from nemo.collections.nlp.data.tokenizers import get_tokenizer\n",
    "from nemo.collections.nlp.utils.data_utils import get_vocab\n",
    "\n",
    "# Import callbacks and callback functions\n",
    "from nemo.core import SimpleLogger, TensorboardLogger, EvaluatorCallback, CheckpointCallback\n",
    "from nemo.collections.nlp.callbacks.token_classification_callback import eval_epochs_done_callback, eval_iter_callback\n",
    "from nemo import logging"
   ]
  },
  {
   "cell_type": "markdown",
   "metadata": {},
   "source": [
    "## 4.1.1 Input Parameters\n",
    "The training text and label files are `text_train.txt` and `labels_train`, respectively.  The validation and test files follow a similar naming pattern. Verify the location of the data files. "
   ]
  },
  {
   "cell_type": "code",
   "execution_count": 2,
   "metadata": {},
   "outputs": [
    {
     "name": "stdout",
     "output_type": "stream",
     "text": [
      "total 4.0M\n",
      "-rw-r--r-- 1 702112 10513  181K Jul 13 21:10 dev.tsv\n",
      "-rw-r--r-- 1 702112 10513     5 Jul 13 21:10 label_ids.csv\n",
      "-rw-r--r-- 1 702112 10513    52 Jul 13 21:10 label_stats.tsv\n",
      "-rw-r--r-- 1 702112 10513   48K Jul 13 21:10 labels_dev.txt\n",
      "-rw-r--r-- 1 702112 10513   49K Jul 13 21:10 labels_test.txt\n",
      "-rw-r--r-- 1 702112 10513  271K Jul 13 21:10 labels_train.txt\n",
      "-rw-r--r-- 1 702112 10513  185K Jul 13 21:10 test.tsv\n",
      "-rw-r--r-- 1 702112 10513  135K Jul 13 21:10 text_dev.txt\n",
      "-rw-r--r-- 1 702112 10513  138K Jul 13 21:10 text_test.txt\n",
      "-rw-r--r-- 1 702112 10513  758K Jul 13 21:10 text_train.txt\n",
      "-rw-r--r-- 1 702112 10513 1023K Jul 13 21:10 train.tsv\n",
      "-rw-r--r-- 1 702112 10513  1.2M Jul 13 21:10 train_dev.tsv\n"
     ]
    }
   ],
   "source": [
    "!ls -lh /dli/task/data/NCBI_ner-3/"
   ]
  },
  {
   "cell_type": "markdown",
   "metadata": {},
   "source": [
    "### IOB Tagging\n",
    "Recall that the sentences and labels in the NER dataset map to each other with _inside, outside, beginning (IOB)_ tagging.\n",
    "This mechanism can be used in a general way for multiple named entity types:\n",
    "* B-{CHUNK_TYPE} – for the word in the Beginning chunk\n",
    "* I-{CHUNK_TYPE} – for words Inside the chunk\n",
    "* O – Outside any chunk\n",
    "\n",
    "In our case, we are only looking for \"disease\" as our entity (or chunk) type, so we don't need to identify beyond the three classes: I, O, and B.\n",
    "**Three classes**\n",
    "* B - Begiining of disease name\n",
    "* I - Inside word of disease name\n",
    "* O - Outside of all disease names\n",
    "\n",
    "```text\n",
    "Identification of APC2 , a homologue of the adenomatous polyposis coli tumour suppressor .\n",
    "O              O  O    O O O         O  O   B           I         I    I      O          O  \n",
    "```\n",
    "\n",
    "If we were looking for two kinds of named entities, such as nouns and verbs in a parts-of-speech analysis, we would use a five-class IOB scheme:<br>\n",
    "**Five classes**\n",
    "* B-N - Beginning of noun word or phrase\n",
    "* I-N - Inside noun word or phrase\n",
    "* B-V - Beginning of verb word or phrase\n",
    "* I-V - Inside verb word or phrase\n",
    "* O   - Outside all nouns and verbs\n",
    "\n",
    "If you are intereested in learning more, take a look at [this paper](http://cs229.stanford.edu/proj2005/KrishnanGanapathy-NamedEntityRecognition.pdf) on the subject."
   ]
  },
  {
   "cell_type": "markdown",
   "metadata": {},
   "source": [
    "### Domain-Specific Checkpoint\n",
    "We also need the checkpoints and configuration files for our domain-specific language models.  Specific checkpoints pretrained for BioBERT and BioMegatron can be downloaded from [NVIDIA NGC Models](https://ngc.nvidia.com/catalog/models):<br><br>\n",
    "For BioBERT  https://ngc.nvidia.com/catalog/models/nvidia:biobertbasecasedfornemo.<br>\n",
    "For BioMegatron  https://ngc.nvidia.com/catalog/models/nvidia:biomegatron345muncased.\n",
    "\n",
    "**You don't need to download them for this course**, as that has already been done.  Run the next cell to see where the checkpoint files (.pt) and config files (.json) are located in the file system."
   ]
  },
  {
   "cell_type": "code",
   "execution_count": 3,
   "metadata": {},
   "outputs": [
    {
     "name": "stdout",
     "output_type": "stream",
     "text": [
      "/ngc_checkpoints\n",
      "└── checkpoints\n",
      "    ├── biobert\n",
      "    │   ├── BERT.pt\n",
      "    │   ├── SequenceClassifier.pt\n",
      "    │   ├── TokenClassifier.pt\n",
      "    │   └── bert_config.json\n",
      "    └── biomegatron\n",
      "        ├── MegatronBERT.pt\n",
      "        ├── config.json\n",
      "        └── vocab.txt\n",
      "\n",
      "3 directories, 7 files\n"
     ]
    }
   ],
   "source": [
    "!tree /ngc_checkpoints"
   ]
  },
  {
   "cell_type": "markdown",
   "metadata": {},
   "source": [
    "We'll set up all the locations and pre-set parameters for the model.  If you want to try a different model later, you can restart the notebook kernel, then change MODEL_TYPE here.  "
   ]
  },
  {
   "cell_type": "code",
   "execution_count": 4,
   "metadata": {},
   "outputs": [],
   "source": [
    "# Identify the input data location\n",
    "DATA_DIR = '/dli/task/data/NCBI_ner-3/'\n",
    "\n",
    "# Identify downloaded checkpoints location\n",
    "CHECKPOINTS_PATH = '/ngc_checkpoints/checkpoints/' \n",
    "\n",
    "# Select which model you want to use, either biobert or biomegatron\n",
    "MODEL_TYPE = \"biobert\"\n",
    "# MODEL_TYPE = \"biomegatron\"\n",
    "\n",
    "# Set the number of words in the sequences\n",
    "# Shorter sequences will be padded with NONE_LABEL, longer ones truncated\n",
    "MAX_SEQ_LEN = 128 \n",
    "BATCH_SIZE = 16\n",
    "NONE_LABEL = \"O\" \n",
    "NUM_CLASSES = 3 # IOB (inside, outside, beginning)"
   ]
  },
  {
   "cell_type": "code",
   "execution_count": 5,
   "metadata": {},
   "outputs": [],
   "source": [
    "# Set up dictionaries for other parameters that key off the MODEL_TYPE\n",
    "PRETRAINED_MODEL_NAME = {'biobert': 'bert-base-cased', \n",
    "                         'biomegatron': 'megatron-bert-uncased'}\n",
    "DO_LOWER_CASE = {'biobert': False, \n",
    "               'biomegatron': True}\n",
    "WORK_DIR = {'biobert': '/dli/task/data/logs-ner-biobert/', \n",
    "            'biomegatron': '/dli/task/data/logs-ner-biomegatron'}\n",
    "\n",
    "# Map downloaded ngc models to MODEL_TYPE\n",
    "NGC_CHECKPOINT = {'biobert': CHECKPOINTS_PATH + 'biobert/BERT.pt', \n",
    "                  'biomegatron': CHECKPOINTS_PATH + 'biomegatron/MegatronBERT.pt'}\n",
    "NGC_CONFIG = {'biobert': CHECKPOINTS_PATH + 'biobert/bert_config.json', \n",
    "              'biomegatron': CHECKPOINTS_PATH + 'biomegatron/config.json'}"
   ]
  },
  {
   "cell_type": "markdown",
   "metadata": {},
   "source": [
    "\n"
   ]
  },
  {
   "cell_type": "markdown",
   "metadata": {},
   "source": [
    "# 4.2 Create Neural Modules\n",
    "\n",
    "<figure>\n",
    "    <img src=\"../images/nemo/ner_graph.png\" width=800>\n",
    "    <figcaption style=\"text-align:center;\">NER Graph</figcaption>\n",
    "</figure>"
   ]
  },
  {
   "cell_type": "markdown",
   "metadata": {},
   "source": [
    "As always, begin by instantiating the neural module factory before building anything else."
   ]
  },
  {
   "cell_type": "code",
   "execution_count": 6,
   "metadata": {},
   "outputs": [],
   "source": [
    "# Instantiate the neural module factory\n",
    "nf = nemo.core.NeuralModuleFactory(log_dir=WORK_DIR[MODEL_TYPE],\n",
    "                                   create_tb_writer=True,\n",
    "                                   placement=nemo.core.DeviceType.GPU)"
   ]
  },
  {
   "cell_type": "markdown",
   "metadata": {},
   "source": [
    "Training and validation each need a datalayer neural module instantiatted with `BertTokenClassificationDataLayer`.  As a reminder of the inputs required, inspect the signature."
   ]
  },
  {
   "cell_type": "code",
   "execution_count": 7,
   "metadata": {},
   "outputs": [
    {
     "data": {
      "text/plain": [
       "<Signature (text_file, label_file, tokenizer, max_seq_length, pad_label='O', label_ids=None, num_samples=-1, shuffle=False, batch_size=64, ignore_extra_tokens=False, ignore_start_end=False, use_cache=False, dataset_type=<class 'nemo.collections.nlp.data.datasets.token_classification_dataset.BertTokenClassificationDataset'>)>"
      ]
     },
     "execution_count": 7,
     "metadata": {},
     "output_type": "execute_result"
    }
   ],
   "source": [
    "inspect.signature(BertTokenClassificationDataLayer)"
   ]
  },
  {
   "cell_type": "markdown",
   "metadata": {},
   "source": [
    "The `text_file`, `label_file`, `tokenizer`, `max_seq_length` are all required. The only one of those four items we don't have yet is the tokenizer, so we'll set it up before we set up the data layers.  \n",
    "\n",
    "Of the optional parameters, it looks like the default for pad_label is the one we want already, but shuffle needs to be set to `True` for training, and for convenience we want to use a cache, so `use_cache` needs to be `True`.  We also need to use a different value for `batch_size`. The rest is good to go.\n",
    "\n",
    "In the next cell, the tokenizer and training data layer neural module are instantiated to get you started.  "
   ]
  },
  {
   "cell_type": "code",
   "execution_count": 8,
   "metadata": {
    "scrolled": true
   },
   "outputs": [
    {
     "name": "stdout",
     "output_type": "stream",
     "text": [
      "[NeMo I 2020-07-25 22:13:58 bert_tokenizer:78] Deriving bert model type from pretrained model name.\n"
     ]
    },
    {
     "data": {
      "application/vnd.jupyter.widget-view+json": {
       "model_id": "87d50842aa92495f85174852f9dc6e7f",
       "version_major": 2,
       "version_minor": 0
      },
      "text/plain": [
       "HBox(children=(IntProgress(value=0, description='Downloading', max=213450, style=ProgressStyle(description_wid…"
      ]
     },
     "metadata": {},
     "output_type": "display_data"
    },
    {
     "name": "stdout",
     "output_type": "stream",
     "text": [
      "\n",
      "[NeMo I 2020-07-25 22:13:59 token_classification_dataset:273] Creating a new label to label_id dictionary. It's recommended to use label_ids generated during training for dev/test sets to avoid errors if some labels are not present in the dev/test sets. For training set label_ids should be None.\n",
      "[NeMo I 2020-07-25 22:14:06 token_classification_dataset:116] Max length: 128\n",
      "[NeMo I 2020-07-25 22:14:06 data_preprocessing:250] Min: 4 |                  Max: 178 |                  Mean: 35.938237463126846 |                  Median: 34.0\n",
      "[NeMo I 2020-07-25 22:14:06 data_preprocessing:252] 75 percentile: 45.0\n",
      "[NeMo I 2020-07-25 22:14:06 data_preprocessing:253] 99 percentile: 88.76999999999953\n"
     ]
    },
    {
     "name": "stderr",
     "output_type": "stream",
     "text": [
      "[NeMo W 2020-07-25 22:14:06 token_classification_dataset:145] 8 are longer than 128\n"
     ]
    },
    {
     "name": "stdout",
     "output_type": "stream",
     "text": [
      "[NeMo I 2020-07-25 22:14:06 token_classification_dataset:148] *** Example ***\n",
      "[NeMo I 2020-07-25 22:14:06 token_classification_dataset:149] i: 0\n",
      "[NeMo I 2020-07-25 22:14:06 token_classification_dataset:150] subtokens: [CLS] I ##dent ##ification of AP ##C ##2 , a ho ##mo ##logue of the ad ##eno ##mat ##ous p ##oly ##po ##sis co ##li t ##umour suppress ##or . [SEP]\n",
      "[NeMo I 2020-07-25 22:14:06 token_classification_dataset:151] loss_mask: 1 1 1 1 1 1 1 1 1 1 1 1 1 1 1 1 1 1 1 1 1 1 1 1 1 1 1 1 1 1 1 0 0 0 0 0 0 0 0 0 0 0 0 0 0 0 0 0 0 0 0 0 0 0 0 0 0 0 0 0 0 0 0 0 0 0 0 0 0 0 0 0 0 0 0 0 0 0 0 0 0 0 0 0 0 0 0 0 0 0 0 0 0 0 0 0 0 0 0 0 0 0 0 0 0 0 0 0 0 0 0 0 0 0 0 0 0 0 0 0 0 0 0 0 0 0 0 0\n",
      "[NeMo I 2020-07-25 22:14:06 token_classification_dataset:152] input_mask: 1 1 1 1 1 1 1 1 1 1 1 1 1 1 1 1 1 1 1 1 1 1 1 1 1 1 1 1 1 1 1 0 0 0 0 0 0 0 0 0 0 0 0 0 0 0 0 0 0 0 0 0 0 0 0 0 0 0 0 0 0 0 0 0 0 0 0 0 0 0 0 0 0 0 0 0 0 0 0 0 0 0 0 0 0 0 0 0 0 0 0 0 0 0 0 0 0 0 0 0 0 0 0 0 0 0 0 0 0 0 0 0 0 0 0 0 0 0 0 0 0 0 0 0 0 0 0 0\n",
      "[NeMo I 2020-07-25 22:14:06 token_classification_dataset:153] subtokens_mask: 0 1 0 0 1 1 0 0 1 1 1 0 0 1 1 1 0 0 0 1 0 0 0 1 0 1 0 1 0 1 0 0 0 0 0 0 0 0 0 0 0 0 0 0 0 0 0 0 0 0 0 0 0 0 0 0 0 0 0 0 0 0 0 0 0 0 0 0 0 0 0 0 0 0 0 0 0 0 0 0 0 0 0 0 0 0 0 0 0 0 0 0 0 0 0 0 0 0 0 0 0 0 0 0 0 0 0 0 0 0 0 0 0 0 0 0 0 0 0 0 0 0 0 0 0 0 0 0\n",
      "[NeMo I 2020-07-25 22:14:06 token_classification_dataset:155] labels: 0 0 0 0 0 0 0 0 0 0 0 0 0 0 0 1 1 1 1 2 2 2 2 2 2 2 2 0 0 0 0 0 0 0 0 0 0 0 0 0 0 0 0 0 0 0 0 0 0 0 0 0 0 0 0 0 0 0 0 0 0 0 0 0 0 0 0 0 0 0 0 0 0 0 0 0 0 0 0 0 0 0 0 0 0 0 0 0 0 0 0 0 0 0 0 0 0 0 0 0 0 0 0 0 0 0 0 0 0 0 0 0 0 0 0 0 0 0 0 0 0 0 0 0 0 0 0 0\n",
      "[NeMo I 2020-07-25 22:14:06 token_classification_dataset:148] *** Example ***\n",
      "[NeMo I 2020-07-25 22:14:06 token_classification_dataset:149] i: 1\n",
      "[NeMo I 2020-07-25 22:14:06 token_classification_dataset:150] subtokens: [CLS] The ad ##eno ##mat ##ous p ##oly ##po ##sis co ##li ( AP ##C ) t ##umour - suppress ##or protein controls the W ##nt signalling pathway by forming a complex with g ##ly ##co ##gen s ##ynth ##ase kinase 3 ##bet ##a ( G ##S ##K - 3 ##bet ##a ) , a ##xin / conduct ##in and beta ##cate ##nin . [SEP]\n",
      "[NeMo I 2020-07-25 22:14:06 token_classification_dataset:151] loss_mask: 1 1 1 1 1 1 1 1 1 1 1 1 1 1 1 1 1 1 1 1 1 1 1 1 1 1 1 1 1 1 1 1 1 1 1 1 1 1 1 1 1 1 1 1 1 1 1 1 1 1 1 1 1 1 1 1 1 1 1 1 1 1 1 1 1 0 0 0 0 0 0 0 0 0 0 0 0 0 0 0 0 0 0 0 0 0 0 0 0 0 0 0 0 0 0 0 0 0 0 0 0 0 0 0 0 0 0 0 0 0 0 0 0 0 0 0 0 0 0 0 0 0 0 0 0 0 0 0\n",
      "[NeMo I 2020-07-25 22:14:06 token_classification_dataset:152] input_mask: 1 1 1 1 1 1 1 1 1 1 1 1 1 1 1 1 1 1 1 1 1 1 1 1 1 1 1 1 1 1 1 1 1 1 1 1 1 1 1 1 1 1 1 1 1 1 1 1 1 1 1 1 1 1 1 1 1 1 1 1 1 1 1 1 1 0 0 0 0 0 0 0 0 0 0 0 0 0 0 0 0 0 0 0 0 0 0 0 0 0 0 0 0 0 0 0 0 0 0 0 0 0 0 0 0 0 0 0 0 0 0 0 0 0 0 0 0 0 0 0 0 0 0 0 0 0 0 0\n",
      "[NeMo I 2020-07-25 22:14:06 token_classification_dataset:153] subtokens_mask: 0 1 1 0 0 0 1 0 0 0 1 0 1 1 0 1 1 0 1 1 0 1 1 1 1 0 1 1 1 1 1 1 1 1 0 0 0 1 0 0 1 1 0 0 1 1 0 0 1 1 0 0 1 1 1 0 1 1 0 1 1 0 0 1 0 0 0 0 0 0 0 0 0 0 0 0 0 0 0 0 0 0 0 0 0 0 0 0 0 0 0 0 0 0 0 0 0 0 0 0 0 0 0 0 0 0 0 0 0 0 0 0 0 0 0 0 0 0 0 0 0 0 0 0 0 0 0 0\n",
      "[NeMo I 2020-07-25 22:14:06 token_classification_dataset:155] labels: 0 0 1 1 1 1 2 2 2 2 2 2 2 2 2 2 2 2 0 0 0 0 0 0 0 0 0 0 0 0 0 0 0 0 0 0 0 0 0 0 0 0 0 0 0 0 0 0 0 0 0 0 0 0 0 0 0 0 0 0 0 0 0 0 0 0 0 0 0 0 0 0 0 0 0 0 0 0 0 0 0 0 0 0 0 0 0 0 0 0 0 0 0 0 0 0 0 0 0 0 0 0 0 0 0 0 0 0 0 0 0 0 0 0 0 0 0 0 0 0 0 0 0 0 0 0 0 0\n",
      "[NeMo I 2020-07-25 22:14:06 token_classification_dataset:148] *** Example ***\n",
      "[NeMo I 2020-07-25 22:14:06 token_classification_dataset:149] i: 2\n",
      "[NeMo I 2020-07-25 22:14:06 token_classification_dataset:150] subtokens: [CLS] Complex formation induce ##s the rapid degradation of beta ##cate ##nin . [SEP]\n",
      "[NeMo I 2020-07-25 22:14:06 token_classification_dataset:151] loss_mask: 1 1 1 1 1 1 1 1 1 1 1 1 1 1 0 0 0 0 0 0 0 0 0 0 0 0 0 0 0 0 0 0 0 0 0 0 0 0 0 0 0 0 0 0 0 0 0 0 0 0 0 0 0 0 0 0 0 0 0 0 0 0 0 0 0 0 0 0 0 0 0 0 0 0 0 0 0 0 0 0 0 0 0 0 0 0 0 0 0 0 0 0 0 0 0 0 0 0 0 0 0 0 0 0 0 0 0 0 0 0 0 0 0 0 0 0 0 0 0 0 0 0 0 0 0 0 0 0\n",
      "[NeMo I 2020-07-25 22:14:06 token_classification_dataset:152] input_mask: 1 1 1 1 1 1 1 1 1 1 1 1 1 1 0 0 0 0 0 0 0 0 0 0 0 0 0 0 0 0 0 0 0 0 0 0 0 0 0 0 0 0 0 0 0 0 0 0 0 0 0 0 0 0 0 0 0 0 0 0 0 0 0 0 0 0 0 0 0 0 0 0 0 0 0 0 0 0 0 0 0 0 0 0 0 0 0 0 0 0 0 0 0 0 0 0 0 0 0 0 0 0 0 0 0 0 0 0 0 0 0 0 0 0 0 0 0 0 0 0 0 0 0 0 0 0 0 0\n",
      "[NeMo I 2020-07-25 22:14:06 token_classification_dataset:153] subtokens_mask: 0 1 1 1 0 1 1 1 1 1 0 0 1 0 0 0 0 0 0 0 0 0 0 0 0 0 0 0 0 0 0 0 0 0 0 0 0 0 0 0 0 0 0 0 0 0 0 0 0 0 0 0 0 0 0 0 0 0 0 0 0 0 0 0 0 0 0 0 0 0 0 0 0 0 0 0 0 0 0 0 0 0 0 0 0 0 0 0 0 0 0 0 0 0 0 0 0 0 0 0 0 0 0 0 0 0 0 0 0 0 0 0 0 0 0 0 0 0 0 0 0 0 0 0 0 0 0 0\n",
      "[NeMo I 2020-07-25 22:14:06 token_classification_dataset:155] labels: 0 0 0 0 0 0 0 0 0 0 0 0 0 0 0 0 0 0 0 0 0 0 0 0 0 0 0 0 0 0 0 0 0 0 0 0 0 0 0 0 0 0 0 0 0 0 0 0 0 0 0 0 0 0 0 0 0 0 0 0 0 0 0 0 0 0 0 0 0 0 0 0 0 0 0 0 0 0 0 0 0 0 0 0 0 0 0 0 0 0 0 0 0 0 0 0 0 0 0 0 0 0 0 0 0 0 0 0 0 0 0 0 0 0 0 0 0 0 0 0 0 0 0 0 0 0 0 0\n",
      "[NeMo I 2020-07-25 22:14:06 token_classification_dataset:148] *** Example ***\n",
      "[NeMo I 2020-07-25 22:14:06 token_classification_dataset:149] i: 3\n",
      "[NeMo I 2020-07-25 22:14:06 token_classification_dataset:150] subtokens: [CLS] In co ##lon car ##cin ##oma cells , loss of AP ##C leads to the accumulation of beta ##cate ##nin in the nucleus , where it binds to and activate ##s the T ##c ##f - 4 transcription factor ( reviewed in [ 1 ] [ 2 ] ) . [SEP]\n",
      "[NeMo I 2020-07-25 22:14:06 token_classification_dataset:151] loss_mask: 1 1 1 1 1 1 1 1 1 1 1 1 1 1 1 1 1 1 1 1 1 1 1 1 1 1 1 1 1 1 1 1 1 1 1 1 1 1 1 1 1 1 1 1 1 1 1 1 1 1 1 1 0 0 0 0 0 0 0 0 0 0 0 0 0 0 0 0 0 0 0 0 0 0 0 0 0 0 0 0 0 0 0 0 0 0 0 0 0 0 0 0 0 0 0 0 0 0 0 0 0 0 0 0 0 0 0 0 0 0 0 0 0 0 0 0 0 0 0 0 0 0 0 0 0 0 0 0\n",
      "[NeMo I 2020-07-25 22:14:06 token_classification_dataset:152] input_mask: 1 1 1 1 1 1 1 1 1 1 1 1 1 1 1 1 1 1 1 1 1 1 1 1 1 1 1 1 1 1 1 1 1 1 1 1 1 1 1 1 1 1 1 1 1 1 1 1 1 1 1 1 0 0 0 0 0 0 0 0 0 0 0 0 0 0 0 0 0 0 0 0 0 0 0 0 0 0 0 0 0 0 0 0 0 0 0 0 0 0 0 0 0 0 0 0 0 0 0 0 0 0 0 0 0 0 0 0 0 0 0 0 0 0 0 0 0 0 0 0 0 0 0 0 0 0 0 0\n",
      "[NeMo I 2020-07-25 22:14:06 token_classification_dataset:153] subtokens_mask: 0 1 1 0 1 0 0 1 1 1 1 1 0 1 1 1 1 1 1 0 0 1 1 1 1 1 1 1 1 1 1 0 1 1 0 0 1 1 1 1 1 1 1 1 1 1 1 1 1 1 1 0 0 0 0 0 0 0 0 0 0 0 0 0 0 0 0 0 0 0 0 0 0 0 0 0 0 0 0 0 0 0 0 0 0 0 0 0 0 0 0 0 0 0 0 0 0 0 0 0 0 0 0 0 0 0 0 0 0 0 0 0 0 0 0 0 0 0 0 0 0 0 0 0 0 0 0 0\n",
      "[NeMo I 2020-07-25 22:14:06 token_classification_dataset:155] labels: 0 0 1 1 2 2 2 0 0 0 0 0 0 0 0 0 0 0 0 0 0 0 0 0 0 0 0 0 0 0 0 0 0 0 0 0 0 0 0 0 0 0 0 0 0 0 0 0 0 0 0 0 0 0 0 0 0 0 0 0 0 0 0 0 0 0 0 0 0 0 0 0 0 0 0 0 0 0 0 0 0 0 0 0 0 0 0 0 0 0 0 0 0 0 0 0 0 0 0 0 0 0 0 0 0 0 0 0 0 0 0 0 0 0 0 0 0 0 0 0 0 0 0 0 0 0 0 0\n",
      "[NeMo I 2020-07-25 22:14:06 token_classification_dataset:148] *** Example ***\n",
      "[NeMo I 2020-07-25 22:14:06 token_classification_dataset:149] i: 4\n",
      "[NeMo I 2020-07-25 22:14:06 token_classification_dataset:150] subtokens: [CLS] Here , we report the identification and g ##eno ##mic structure of AP ##C ho ##mo ##logue ##s . [SEP]\n",
      "[NeMo I 2020-07-25 22:14:06 token_classification_dataset:151] loss_mask: 1 1 1 1 1 1 1 1 1 1 1 1 1 1 1 1 1 1 1 1 1 0 0 0 0 0 0 0 0 0 0 0 0 0 0 0 0 0 0 0 0 0 0 0 0 0 0 0 0 0 0 0 0 0 0 0 0 0 0 0 0 0 0 0 0 0 0 0 0 0 0 0 0 0 0 0 0 0 0 0 0 0 0 0 0 0 0 0 0 0 0 0 0 0 0 0 0 0 0 0 0 0 0 0 0 0 0 0 0 0 0 0 0 0 0 0 0 0 0 0 0 0 0 0 0 0 0 0\n",
      "[NeMo I 2020-07-25 22:14:06 token_classification_dataset:152] input_mask: 1 1 1 1 1 1 1 1 1 1 1 1 1 1 1 1 1 1 1 1 1 0 0 0 0 0 0 0 0 0 0 0 0 0 0 0 0 0 0 0 0 0 0 0 0 0 0 0 0 0 0 0 0 0 0 0 0 0 0 0 0 0 0 0 0 0 0 0 0 0 0 0 0 0 0 0 0 0 0 0 0 0 0 0 0 0 0 0 0 0 0 0 0 0 0 0 0 0 0 0 0 0 0 0 0 0 0 0 0 0 0 0 0 0 0 0 0 0 0 0 0 0 0 0 0 0 0 0\n",
      "[NeMo I 2020-07-25 22:14:06 token_classification_dataset:153] subtokens_mask: 0 1 1 1 1 1 1 1 1 0 0 1 1 1 0 1 0 0 0 1 0 0 0 0 0 0 0 0 0 0 0 0 0 0 0 0 0 0 0 0 0 0 0 0 0 0 0 0 0 0 0 0 0 0 0 0 0 0 0 0 0 0 0 0 0 0 0 0 0 0 0 0 0 0 0 0 0 0 0 0 0 0 0 0 0 0 0 0 0 0 0 0 0 0 0 0 0 0 0 0 0 0 0 0 0 0 0 0 0 0 0 0 0 0 0 0 0 0 0 0 0 0 0 0 0 0 0 0\n",
      "[NeMo I 2020-07-25 22:14:06 token_classification_dataset:155] labels: 0 0 0 0 0 0 0 0 0 0 0 0 0 0 0 0 0 0 0 0 0 0 0 0 0 0 0 0 0 0 0 0 0 0 0 0 0 0 0 0 0 0 0 0 0 0 0 0 0 0 0 0 0 0 0 0 0 0 0 0 0 0 0 0 0 0 0 0 0 0 0 0 0 0 0 0 0 0 0 0 0 0 0 0 0 0 0 0 0 0 0 0 0 0 0 0 0 0 0 0 0 0 0 0 0 0 0 0 0 0 0 0 0 0 0 0 0 0 0 0 0 0 0 0 0 0 0 0\n",
      "[NeMo I 2020-07-25 22:14:06 token_classification_dataset:295] features saved to /dli/task/data/NCBI_ner-3/cached_text_train.txt_BertTokenizer_128_28996\n",
      "[NeMo I 2020-07-25 22:14:06 token_classification_dataset:298] labels to ids dict saved to /dli/task/data/NCBI_ner-3/label_ids.pkl\n",
      "[NeMo I 2020-07-25 22:14:06 token_classification_dataset:310] Three most popular labels\n",
      "[NeMo I 2020-07-25 22:14:06 data_preprocessing:81] 0 item: 0, 669810 out of 694272, 0.9647659706858407.\n",
      "[NeMo I 2020-07-25 22:14:06 data_preprocessing:81] 1 item: 1, 12896 out of 694272, 0.01857485250737463.\n",
      "[NeMo I 2020-07-25 22:14:06 data_preprocessing:81] 2 item: 2, 11566 out of 694272, 0.01665917680678466.\n",
      "[NeMo I 2020-07-25 22:14:06 token_classification_dataset:317] Labels: {'O': 0, 'B': 1, 'I': 2}\n",
      "[NeMo I 2020-07-25 22:14:06 token_classification_dataset:318] Labels mapping saved to : /dli/task/data/NCBI_ner-3/label_ids.csv\n"
     ]
    }
   ],
   "source": [
    "# Instantiate the data Layer neural module for training.\n",
    "#     Include the input file locations, tokenizer, max_seq_length, and batch size.\n",
    "#     Set the shuffle and use_cache to True for training \n",
    "USE_CACHE = True\n",
    "tokenizer = get_tokenizer(\n",
    "    tokenizer_name='nemobert',\n",
    "    pretrained_model_name = PRETRAINED_MODEL_NAME[MODEL_TYPE],\n",
    "    do_lower_case=DO_LOWER_CASE[MODEL_TYPE]\n",
    ")\n",
    "dl_train = BertTokenClassificationDataLayer(\n",
    "    text_file=os.path.join(DATA_DIR,'text_train.txt'),\n",
    "    label_file=os.path.join(DATA_DIR,'labels_train.txt'),\n",
    "    tokenizer=tokenizer,\n",
    "    max_seq_length=MAX_SEQ_LEN,\n",
    "    shuffle=True,\n",
    "    batch_size=BATCH_SIZE,\n",
    "    use_cache=USE_CACHE\n",
    ")"
   ]
  },
  {
   "cell_type": "markdown",
   "metadata": {},
   "source": [
    "In the next four cells, instantiate:\n",
    "1. Validation data layer neural module\n",
    "1. Language model neural module\n",
    "1. Token classification model neural module\n",
    "1. Loss neural module\n",
    "\n",
    "Look for and fix the <i><strong><span style=\"color:green;\">#FIXME</span><strong></i> code lines.  If you get stuck, look back at the [2.0 NLP Projects with NeMo](020_ExploreNeMo.ipynb) notebook for inspiration or the [solution notebook](solution_notebooks/SOLN_040_NamedEntityRecogntion.ipynb) for the answer."
   ]
  },
  {
   "cell_type": "code",
   "execution_count": 9,
   "metadata": {
    "scrolled": true
   },
   "outputs": [
    {
     "name": "stdout",
     "output_type": "stream",
     "text": [
      "[NeMo I 2020-07-25 22:14:06 token_classification_dataset:273] Creating a new label to label_id dictionary. It's recommended to use label_ids generated during training for dev/test sets to avoid errors if some labels are not present in the dev/test sets. For training set label_ids should be None.\n",
      "[NeMo I 2020-07-25 22:14:08 token_classification_dataset:116] Max length: 122\n",
      "[NeMo I 2020-07-25 22:14:08 data_preprocessing:250] Min: 4 |                  Max: 122 |                  Mean: 36.812567713976165 |                  Median: 34.0\n",
      "[NeMo I 2020-07-25 22:14:08 data_preprocessing:252] 75 percentile: 47.0\n",
      "[NeMo I 2020-07-25 22:14:08 data_preprocessing:253] 99 percentile: 83.55999999999995\n"
     ]
    },
    {
     "name": "stderr",
     "output_type": "stream",
     "text": [
      "[NeMo W 2020-07-25 22:14:08 token_classification_dataset:145] 0 are longer than 122\n"
     ]
    },
    {
     "name": "stdout",
     "output_type": "stream",
     "text": [
      "[NeMo I 2020-07-25 22:14:08 token_classification_dataset:148] *** Example ***\n",
      "[NeMo I 2020-07-25 22:14:08 token_classification_dataset:149] i: 0\n",
      "[NeMo I 2020-07-25 22:14:08 token_classification_dataset:150] subtokens: [CLS] BR ##CA ##1 is secret ##ed and exhibits properties of a g ##rani ##n . [SEP]\n",
      "[NeMo I 2020-07-25 22:14:08 token_classification_dataset:151] loss_mask: 1 1 1 1 1 1 1 1 1 1 1 1 1 1 1 1 1 0 0 0 0 0 0 0 0 0 0 0 0 0 0 0 0 0 0 0 0 0 0 0 0 0 0 0 0 0 0 0 0 0 0 0 0 0 0 0 0 0 0 0 0 0 0 0 0 0 0 0 0 0 0 0 0 0 0 0 0 0 0 0 0 0 0 0 0 0 0 0 0 0 0 0 0 0 0 0 0 0 0 0 0 0 0 0 0 0 0 0 0 0 0 0 0 0 0 0 0 0 0 0 0 0\n",
      "[NeMo I 2020-07-25 22:14:08 token_classification_dataset:152] input_mask: 1 1 1 1 1 1 1 1 1 1 1 1 1 1 1 1 1 0 0 0 0 0 0 0 0 0 0 0 0 0 0 0 0 0 0 0 0 0 0 0 0 0 0 0 0 0 0 0 0 0 0 0 0 0 0 0 0 0 0 0 0 0 0 0 0 0 0 0 0 0 0 0 0 0 0 0 0 0 0 0 0 0 0 0 0 0 0 0 0 0 0 0 0 0 0 0 0 0 0 0 0 0 0 0 0 0 0 0 0 0 0 0 0 0 0 0 0 0 0 0 0 0\n",
      "[NeMo I 2020-07-25 22:14:08 token_classification_dataset:153] subtokens_mask: 0 1 0 0 1 1 0 1 1 1 1 1 1 0 0 1 0 0 0 0 0 0 0 0 0 0 0 0 0 0 0 0 0 0 0 0 0 0 0 0 0 0 0 0 0 0 0 0 0 0 0 0 0 0 0 0 0 0 0 0 0 0 0 0 0 0 0 0 0 0 0 0 0 0 0 0 0 0 0 0 0 0 0 0 0 0 0 0 0 0 0 0 0 0 0 0 0 0 0 0 0 0 0 0 0 0 0 0 0 0 0 0 0 0 0 0 0 0 0 0 0 0\n",
      "[NeMo I 2020-07-25 22:14:08 token_classification_dataset:155] labels: 0 0 0 0 0 0 0 0 0 0 0 0 0 0 0 0 0 0 0 0 0 0 0 0 0 0 0 0 0 0 0 0 0 0 0 0 0 0 0 0 0 0 0 0 0 0 0 0 0 0 0 0 0 0 0 0 0 0 0 0 0 0 0 0 0 0 0 0 0 0 0 0 0 0 0 0 0 0 0 0 0 0 0 0 0 0 0 0 0 0 0 0 0 0 0 0 0 0 0 0 0 0 0 0 0 0 0 0 0 0 0 0 0 0 0 0 0 0 0 0 0 0\n",
      "[NeMo I 2020-07-25 22:14:08 token_classification_dataset:148] *** Example ***\n",
      "[NeMo I 2020-07-25 22:14:08 token_classification_dataset:149] i: 1\n",
      "[NeMo I 2020-07-25 22:14:08 token_classification_dataset:150] subtokens: [CLS] G ##er ##m ##line mutations in BR ##CA ##1 are responsible for most cases of inherited breast and o ##var ##ian cancer . [SEP]\n",
      "[NeMo I 2020-07-25 22:14:08 token_classification_dataset:151] loss_mask: 1 1 1 1 1 1 1 1 1 1 1 1 1 1 1 1 1 1 1 1 1 1 1 1 1 0 0 0 0 0 0 0 0 0 0 0 0 0 0 0 0 0 0 0 0 0 0 0 0 0 0 0 0 0 0 0 0 0 0 0 0 0 0 0 0 0 0 0 0 0 0 0 0 0 0 0 0 0 0 0 0 0 0 0 0 0 0 0 0 0 0 0 0 0 0 0 0 0 0 0 0 0 0 0 0 0 0 0 0 0 0 0 0 0 0 0 0 0 0 0 0 0\n",
      "[NeMo I 2020-07-25 22:14:08 token_classification_dataset:152] input_mask: 1 1 1 1 1 1 1 1 1 1 1 1 1 1 1 1 1 1 1 1 1 1 1 1 1 0 0 0 0 0 0 0 0 0 0 0 0 0 0 0 0 0 0 0 0 0 0 0 0 0 0 0 0 0 0 0 0 0 0 0 0 0 0 0 0 0 0 0 0 0 0 0 0 0 0 0 0 0 0 0 0 0 0 0 0 0 0 0 0 0 0 0 0 0 0 0 0 0 0 0 0 0 0 0 0 0 0 0 0 0 0 0 0 0 0 0 0 0 0 0 0 0\n",
      "[NeMo I 2020-07-25 22:14:08 token_classification_dataset:153] subtokens_mask: 0 1 0 0 0 1 1 1 0 0 1 1 1 1 1 1 1 1 1 1 0 0 1 1 0 0 0 0 0 0 0 0 0 0 0 0 0 0 0 0 0 0 0 0 0 0 0 0 0 0 0 0 0 0 0 0 0 0 0 0 0 0 0 0 0 0 0 0 0 0 0 0 0 0 0 0 0 0 0 0 0 0 0 0 0 0 0 0 0 0 0 0 0 0 0 0 0 0 0 0 0 0 0 0 0 0 0 0 0 0 0 0 0 0 0 0 0 0 0 0 0 0\n",
      "[NeMo I 2020-07-25 22:14:08 token_classification_dataset:155] labels: 0 0 0 0 0 0 0 0 0 0 0 0 0 0 0 0 1 2 2 2 2 2 2 0 0 0 0 0 0 0 0 0 0 0 0 0 0 0 0 0 0 0 0 0 0 0 0 0 0 0 0 0 0 0 0 0 0 0 0 0 0 0 0 0 0 0 0 0 0 0 0 0 0 0 0 0 0 0 0 0 0 0 0 0 0 0 0 0 0 0 0 0 0 0 0 0 0 0 0 0 0 0 0 0 0 0 0 0 0 0 0 0 0 0 0 0 0 0 0 0 0 0\n",
      "[NeMo I 2020-07-25 22:14:08 token_classification_dataset:148] *** Example ***\n",
      "[NeMo I 2020-07-25 22:14:08 token_classification_dataset:149] i: 2\n",
      "[NeMo I 2020-07-25 22:14:08 token_classification_dataset:150] subtokens: [CLS] However , the function of the BR ##CA ##1 protein has remained el ##usive . [SEP]\n",
      "[NeMo I 2020-07-25 22:14:08 token_classification_dataset:151] loss_mask: 1 1 1 1 1 1 1 1 1 1 1 1 1 1 1 1 1 0 0 0 0 0 0 0 0 0 0 0 0 0 0 0 0 0 0 0 0 0 0 0 0 0 0 0 0 0 0 0 0 0 0 0 0 0 0 0 0 0 0 0 0 0 0 0 0 0 0 0 0 0 0 0 0 0 0 0 0 0 0 0 0 0 0 0 0 0 0 0 0 0 0 0 0 0 0 0 0 0 0 0 0 0 0 0 0 0 0 0 0 0 0 0 0 0 0 0 0 0 0 0 0 0\n",
      "[NeMo I 2020-07-25 22:14:08 token_classification_dataset:152] input_mask: 1 1 1 1 1 1 1 1 1 1 1 1 1 1 1 1 1 0 0 0 0 0 0 0 0 0 0 0 0 0 0 0 0 0 0 0 0 0 0 0 0 0 0 0 0 0 0 0 0 0 0 0 0 0 0 0 0 0 0 0 0 0 0 0 0 0 0 0 0 0 0 0 0 0 0 0 0 0 0 0 0 0 0 0 0 0 0 0 0 0 0 0 0 0 0 0 0 0 0 0 0 0 0 0 0 0 0 0 0 0 0 0 0 0 0 0 0 0 0 0 0 0\n",
      "[NeMo I 2020-07-25 22:14:08 token_classification_dataset:153] subtokens_mask: 0 1 1 1 1 1 1 1 0 0 1 1 1 1 0 1 0 0 0 0 0 0 0 0 0 0 0 0 0 0 0 0 0 0 0 0 0 0 0 0 0 0 0 0 0 0 0 0 0 0 0 0 0 0 0 0 0 0 0 0 0 0 0 0 0 0 0 0 0 0 0 0 0 0 0 0 0 0 0 0 0 0 0 0 0 0 0 0 0 0 0 0 0 0 0 0 0 0 0 0 0 0 0 0 0 0 0 0 0 0 0 0 0 0 0 0 0 0 0 0 0 0\n",
      "[NeMo I 2020-07-25 22:14:08 token_classification_dataset:155] labels: 0 0 0 0 0 0 0 0 0 0 0 0 0 0 0 0 0 0 0 0 0 0 0 0 0 0 0 0 0 0 0 0 0 0 0 0 0 0 0 0 0 0 0 0 0 0 0 0 0 0 0 0 0 0 0 0 0 0 0 0 0 0 0 0 0 0 0 0 0 0 0 0 0 0 0 0 0 0 0 0 0 0 0 0 0 0 0 0 0 0 0 0 0 0 0 0 0 0 0 0 0 0 0 0 0 0 0 0 0 0 0 0 0 0 0 0 0 0 0 0 0 0\n",
      "[NeMo I 2020-07-25 22:14:08 token_classification_dataset:148] *** Example ***\n",
      "[NeMo I 2020-07-25 22:14:08 token_classification_dataset:149] i: 3\n",
      "[NeMo I 2020-07-25 22:14:08 token_classification_dataset:150] subtokens: [CLS] We now show that BR ##CA ##1 en ##codes a 190 - k ##D protein with sequence ho ##mology and bio ##chemical analogy to the g ##rani ##n protein family . [SEP]\n",
      "[NeMo I 2020-07-25 22:14:08 token_classification_dataset:151] loss_mask: 1 1 1 1 1 1 1 1 1 1 1 1 1 1 1 1 1 1 1 1 1 1 1 1 1 1 1 1 1 1 1 1 1 0 0 0 0 0 0 0 0 0 0 0 0 0 0 0 0 0 0 0 0 0 0 0 0 0 0 0 0 0 0 0 0 0 0 0 0 0 0 0 0 0 0 0 0 0 0 0 0 0 0 0 0 0 0 0 0 0 0 0 0 0 0 0 0 0 0 0 0 0 0 0 0 0 0 0 0 0 0 0 0 0 0 0 0 0 0 0 0 0\n",
      "[NeMo I 2020-07-25 22:14:08 token_classification_dataset:152] input_mask: 1 1 1 1 1 1 1 1 1 1 1 1 1 1 1 1 1 1 1 1 1 1 1 1 1 1 1 1 1 1 1 1 1 0 0 0 0 0 0 0 0 0 0 0 0 0 0 0 0 0 0 0 0 0 0 0 0 0 0 0 0 0 0 0 0 0 0 0 0 0 0 0 0 0 0 0 0 0 0 0 0 0 0 0 0 0 0 0 0 0 0 0 0 0 0 0 0 0 0 0 0 0 0 0 0 0 0 0 0 0 0 0 0 0 0 0 0 0 0 0 0 0\n",
      "[NeMo I 2020-07-25 22:14:08 token_classification_dataset:153] subtokens_mask: 0 1 1 1 1 1 0 0 1 0 1 1 1 1 0 1 1 1 1 0 1 1 0 1 1 1 1 0 0 1 1 1 0 0 0 0 0 0 0 0 0 0 0 0 0 0 0 0 0 0 0 0 0 0 0 0 0 0 0 0 0 0 0 0 0 0 0 0 0 0 0 0 0 0 0 0 0 0 0 0 0 0 0 0 0 0 0 0 0 0 0 0 0 0 0 0 0 0 0 0 0 0 0 0 0 0 0 0 0 0 0 0 0 0 0 0 0 0 0 0 0 0\n",
      "[NeMo I 2020-07-25 22:14:08 token_classification_dataset:155] labels: 0 0 0 0 0 0 0 0 0 0 0 0 0 0 0 0 0 0 0 0 0 0 0 0 0 0 0 0 0 0 0 0 0 0 0 0 0 0 0 0 0 0 0 0 0 0 0 0 0 0 0 0 0 0 0 0 0 0 0 0 0 0 0 0 0 0 0 0 0 0 0 0 0 0 0 0 0 0 0 0 0 0 0 0 0 0 0 0 0 0 0 0 0 0 0 0 0 0 0 0 0 0 0 0 0 0 0 0 0 0 0 0 0 0 0 0 0 0 0 0 0 0\n",
      "[NeMo I 2020-07-25 22:14:08 token_classification_dataset:148] *** Example ***\n",
      "[NeMo I 2020-07-25 22:14:08 token_classification_dataset:149] i: 4\n",
      "[NeMo I 2020-07-25 22:14:08 token_classification_dataset:150] subtokens: [CLS] Interest ##ingly , BR ##CA ##2 also includes a motif similar to the g ##rani ##n consensus at the C terminus of the protein . [SEP]\n",
      "[NeMo I 2020-07-25 22:14:08 token_classification_dataset:151] loss_mask: 1 1 1 1 1 1 1 1 1 1 1 1 1 1 1 1 1 1 1 1 1 1 1 1 1 1 1 0 0 0 0 0 0 0 0 0 0 0 0 0 0 0 0 0 0 0 0 0 0 0 0 0 0 0 0 0 0 0 0 0 0 0 0 0 0 0 0 0 0 0 0 0 0 0 0 0 0 0 0 0 0 0 0 0 0 0 0 0 0 0 0 0 0 0 0 0 0 0 0 0 0 0 0 0 0 0 0 0 0 0 0 0 0 0 0 0 0 0 0 0 0 0\n",
      "[NeMo I 2020-07-25 22:14:08 token_classification_dataset:152] input_mask: 1 1 1 1 1 1 1 1 1 1 1 1 1 1 1 1 1 1 1 1 1 1 1 1 1 1 1 0 0 0 0 0 0 0 0 0 0 0 0 0 0 0 0 0 0 0 0 0 0 0 0 0 0 0 0 0 0 0 0 0 0 0 0 0 0 0 0 0 0 0 0 0 0 0 0 0 0 0 0 0 0 0 0 0 0 0 0 0 0 0 0 0 0 0 0 0 0 0 0 0 0 0 0 0 0 0 0 0 0 0 0 0 0 0 0 0 0 0 0 0 0 0\n",
      "[NeMo I 2020-07-25 22:14:08 token_classification_dataset:153] subtokens_mask: 0 1 0 1 1 0 0 1 1 1 1 1 1 1 1 0 0 1 1 1 1 1 1 1 1 1 0 0 0 0 0 0 0 0 0 0 0 0 0 0 0 0 0 0 0 0 0 0 0 0 0 0 0 0 0 0 0 0 0 0 0 0 0 0 0 0 0 0 0 0 0 0 0 0 0 0 0 0 0 0 0 0 0 0 0 0 0 0 0 0 0 0 0 0 0 0 0 0 0 0 0 0 0 0 0 0 0 0 0 0 0 0 0 0 0 0 0 0 0 0 0 0\n",
      "[NeMo I 2020-07-25 22:14:08 token_classification_dataset:155] labels: 0 0 0 0 0 0 0 0 0 0 0 0 0 0 0 0 0 0 0 0 0 0 0 0 0 0 0 0 0 0 0 0 0 0 0 0 0 0 0 0 0 0 0 0 0 0 0 0 0 0 0 0 0 0 0 0 0 0 0 0 0 0 0 0 0 0 0 0 0 0 0 0 0 0 0 0 0 0 0 0 0 0 0 0 0 0 0 0 0 0 0 0 0 0 0 0 0 0 0 0 0 0 0 0 0 0 0 0 0 0 0 0 0 0 0 0 0 0 0 0 0 0\n",
      "[NeMo I 2020-07-25 22:14:08 token_classification_dataset:295] features saved to /dli/task/data/NCBI_ner-3/cached_text_dev.txt_BertTokenizer_128_28996\n",
      "[NeMo I 2020-07-25 22:14:08 token_classification_dataset:298] labels to ids dict saved to /dli/task/data/NCBI_ner-3/label_ids.pkl\n",
      "[NeMo I 2020-07-25 22:14:08 token_classification_dataset:310] Three most popular labels\n",
      "[NeMo I 2020-07-25 22:14:08 data_preprocessing:81] 0 item: 0, 108953 out of 112606, 0.967559455091203.\n",
      "[NeMo I 2020-07-25 22:14:08 data_preprocessing:81] 1 item: 2, 2013 out of 112606, 0.017876489707475622.\n",
      "[NeMo I 2020-07-25 22:14:08 data_preprocessing:81] 2 item: 1, 1640 out of 112606, 0.014564055201321422.\n",
      "[NeMo I 2020-07-25 22:14:08 token_classification_dataset:317] Labels: {'O': 0, 'B': 1, 'I': 2}\n",
      "[NeMo I 2020-07-25 22:14:08 token_classification_dataset:318] Labels mapping saved to : /dli/task/data/NCBI_ner-3/label_ids.csv\n"
     ]
    }
   ],
   "source": [
    "# 1. Instantiate the data Layer neural module for validation.\n",
    "#     Include the input file locations, tokenizer, max_seq_length, and batch size.\n",
    "#     Set the shuffle to False (the default value) and use_cache to True for validation  \n",
    "dl_val = BertTokenClassificationDataLayer(\n",
    "    text_file=os.path.join(DATA_DIR,'text_dev.txt'),\n",
    "    label_file=os.path.join(DATA_DIR,'labels_dev.txt'),\n",
    "    tokenizer=tokenizer,\n",
    "    max_seq_length=MAX_SEQ_LEN,\n",
    "    batch_size=BATCH_SIZE,\n",
    "    use_cache=USE_CACHE\n",
    ")"
   ]
  },
  {
   "cell_type": "code",
   "execution_count": 10,
   "metadata": {},
   "outputs": [
    {
     "name": "stdout",
     "output_type": "stream",
     "text": [
      "[NeMo I 2020-07-25 22:14:12 common_utils:85] bert-base-cased model restored from /ngc_checkpoints/checkpoints/biobert/BERT.pt\n",
      "bert-base-cased has 108310272 weights\n"
     ]
    }
   ],
   "source": [
    "# 2. Instantiate the Language Model with the get_pretrained_lm_model function\n",
    "#    Since we are defining the checkpoint, include the file locations as values for\n",
    "#    \"config=\", \"pretrained_model_name=\", and \"checkpoint=\"\n",
    "#    Hint: We set these values up earlier with dictionaries keyed off the MODEL_TYPE\n",
    "lm = get_pretrained_lm_model(config=NGC_CONFIG[MODEL_TYPE],\n",
    "                                pretrained_model_name=PRETRAINED_MODEL_NAME[MODEL_TYPE],\n",
    "                                checkpoint=NGC_CHECKPOINT[MODEL_TYPE]\n",
    "    )\n",
    "\n",
    "# Sanity check the number of weight parameters\n",
    "#    It should be 108,310,272 for `bert-base-cased`\n",
    "print(f'{PRETRAINED_MODEL_NAME[MODEL_TYPE]} has {lm.num_weights} weights')"
   ]
  },
  {
   "cell_type": "code",
   "execution_count": 11,
   "metadata": {},
   "outputs": [
    {
     "name": "stdout",
     "output_type": "stream",
     "text": [
      "Classifier has 2307 weights\n"
     ]
    }
   ],
   "source": [
    "# 3. Instantiate the TokenClassifier\n",
    "#    Include the hidden_size, num_classes (which is 3), num_layers (set to 1), \n",
    "#    and a dropout rate of 0.1\n",
    "lm_hidden_size = lm.hidden_size\n",
    "classifier = TokenClassifier(hidden_size=lm_hidden_size, \n",
    "            num_classes=NUM_CLASSES, \n",
    "            dropout=0.1, \n",
    "            num_layers=1)\n",
    "\n",
    "# Sanity check the number of weight parameters\n",
    "#    It should be 2307\n",
    "print(f'Classifier has {classifier.num_weights} weights')"
   ]
  },
  {
   "cell_type": "code",
   "execution_count": 12,
   "metadata": {},
   "outputs": [],
   "source": [
    "# 4. Instantiate the CrossEntropyLossNM Loss Function \n",
    "#  Set the logits_ndim value to 3\n",
    "loss = CrossEntropyLossNM(logits_ndim=3)"
   ]
  },
  {
   "cell_type": "markdown",
   "metadata": {},
   "source": [
    "Great job!  Your neural modules are set up."
   ]
  },
  {
   "cell_type": "markdown",
   "metadata": {},
   "source": [
    "# 4.3 Create Neural Graphs\n",
    "\n",
    "Define the neural graphs by linking the output of each neural module with the input of the next one in the pipeline."
   ]
  },
  {
   "cell_type": "markdown",
   "metadata": {},
   "source": [
    "## 4.3.1 Training Graph\n",
    "\n",
    "<figure>\n",
    "    <img src=\"../images/nemo/ner_train_graph.png\" width=800>\n",
    "    <figcaption style=\"text-align:center;\">Training Graph</figcaption>\n",
    "</figure>\n",
    "As before, we'll use the outputs for each neural module to define the inputs of the next one in the pipeline. "
   ]
  },
  {
   "cell_type": "code",
   "execution_count": 13,
   "metadata": {},
   "outputs": [],
   "source": [
    "# Define the data output from the data layer\n",
    "train_data = dl_train()\n",
    "\n",
    "# Define train_embeddings from the language model, based on inputs from the data layer  \n",
    "train_embeddings = lm(input_ids=train_data.input_ids, token_type_ids=train_data.input_type_ids, attention_mask=train_data.input_mask)\n",
    "\n",
    "# Define the train_logits from the clasifier, based on the embeddings from the language model\n",
    "train_logits = classifier(hidden_states=train_embeddings)\n",
    "\n",
    "# Define the train_loss based on the classifier logits and data layer labels\n",
    "train_loss = loss(logits=train_logits, labels=train_data.labels, loss_mask=train_data.loss_mask)"
   ]
  },
  {
   "cell_type": "markdown",
   "metadata": {},
   "source": [
    "You may have noticed that the `train_data` assignment is slightly more concise than the explicit tuple we used in the text classification notebook.  \n",
    "We set `train_data = dl_train()` to create the link in our graph from the data layer and into the language model.  The variable names are defined in NeMo, giving us convenient access, e.g. `train_data.input_ids`, `train_data.input_type_ids`, and so on.  Here's a list from the [`BertTokenClassificationDataLayer` source code](https://github.com/NVIDIA/NeMo/blob/3d6ae0589c1bf0fed2cb038ac80590bebe738e3d/nemo/collections/nlp/nm/data_layers/token_classification_datalayer.py):\n",
    "\n",
    "```python\n",
    "    def output_ports(self):\n",
    "        \"\"\"Returns definitions of module output ports.\n",
    "        input_ids:\n",
    "            indices of tokens which constitute batches of text segments\n",
    "        input_type_ids:\n",
    "            tensor with 0's and 1's to denote the text segment type\n",
    "        input_mask:\n",
    "            bool tensor with 0s in place of tokens to be masked\n",
    "        loss_mask:\n",
    "            used to mask and ignore tokens in the loss function\n",
    "        subtokens_mask:\n",
    "            used to mask all but the first subtoken of the work, could be useful during inference\n",
    "        labels:\n",
    "            token target ids\n",
    "        \"\"\"\n",
    " ```           "
   ]
  },
  {
   "cell_type": "markdown",
   "metadata": {},
   "source": [
    "## 4.3.2 Exercise: Create a Validation Graph\n",
    "\n",
    "The validation graph is very similar to the training graph. In fact, only the data layer module is different. \n",
    "\n",
    "<figure>\n",
    "    <img src=\"../images/nemo/ner_val_graph.png\" width=800>\n",
    "    <figcaption style=\"text-align:center;\">Validation Graph</figcaption>\n",
    "</figure>\n",
    "\n",
    "In the cell below, look for and fix the <i><strong><span style=\"color:green;\">#FIXME</span><strong></i> code lines (there are four of them).  If you get stuck, look back at the training graph you just set up for inspiration or the [solution notebook](solution_notebooks/SOLN_040_NamedEntityRecognition.ipynb) for the answer."
   ]
  },
  {
   "cell_type": "code",
   "execution_count": 14,
   "metadata": {},
   "outputs": [],
   "source": [
    "# Define the data output from the data layer\n",
    "val_data = dl_val()\n",
    "\n",
    "# Define val_embeddings from the language model, based on inputs from the data layer  \n",
    "val_embeddings = lm(input_ids=val_data.input_ids, \n",
    "                       token_type_ids=val_data.input_type_ids, \n",
    "                       attention_mask=val_data.input_mask)\n",
    "\n",
    "# Define val_logits from the classifier, based on the embeddings from the language model\n",
    "val_logits = classifier(hidden_states=val_embeddings)\n",
    "\n",
    "# Define val_loss based on the classifier logits and data layer labels\n",
    "val_loss = loss(logits=val_logits, labels=val_data.labels, loss_mask=val_data.loss_mask)"
   ]
  },
  {
   "cell_type": "markdown",
   "metadata": {},
   "source": [
    "Great!  You're pipelines are ready for training."
   ]
  },
  {
   "cell_type": "markdown",
   "metadata": {},
   "source": [
    "# 4.4 Training\n",
    "Now that the graphs are set up, the action can begin.  You'll train the model with the NeuralModuleFactory `.train()` function. "
   ]
  },
  {
   "cell_type": "markdown",
   "metadata": {},
   "source": [
    "## 4.4.1 Set the Learning Rate and Optimizer\n",
    "For NER, we'll set the learning rate to 0.00004 and use `WarmupAnnealing`.  We'll use the popular [`adam_w`](https://huggingface.co/transformers/main_classes/optimizer_schedules.html#adamw-pytorch) optimizer (with \"weight decay\"). "
   ]
  },
  {
   "cell_type": "code",
   "execution_count": 15,
   "metadata": {},
   "outputs": [
    {
     "name": "stdout",
     "output_type": "stream",
     "text": [
      "[NeMo I 2020-07-25 22:14:12 <ipython-input-15-cf826b6bfd52>:10] doing 339 steps per epoch\n"
     ]
    }
   ],
   "source": [
    "NUM_EPOCHS = 4\n",
    "OPTIMIZER = 'adam_w'\n",
    "LEARNING_RATE = 4e-5\n",
    "WARMUP_RATIO = 0.1\n",
    "WEIGHT_DECAY = 0.01\n",
    "\n",
    "# If you're training on multiple GPUs, this should be\n",
    "# len(train_data_layer) // (batch_size * batches_per_step * num_gpus)\n",
    "steps_per_epoch = len(dl_train) // BATCH_SIZE\n",
    "logging.info(f\"doing {steps_per_epoch} steps per epoch\")\n",
    "lr_policy_fn = get_lr_policy(\"WarmupAnnealing\", \n",
    "                             total_steps=NUM_EPOCHS * steps_per_epoch, \n",
    "                             warmup_ratio=WARMUP_RATIO\n",
    ")"
   ]
  },
  {
   "cell_type": "markdown",
   "metadata": {},
   "source": [
    "## 4.4.2 Exercise: Create the Callbacks\n",
    "NeMo has a callback system that can be used to inject user code and logic inside its training loop. You can find references for the newest built-in callbacks in the NeMo Documentation:  \n",
    "\n",
    "* [SimpleLogger](https://nvidia.github.io/NeMo/api-docs/nemo.html#nemo.core.callbacks.SimpleLogger)\n",
    "* [TensorboardLogger](https://nvidia.github.io/NeMo/api-docs/nemo.html#nemo.core.callbacks.TensorboardLogger)\n",
    "* [CheckpointCallBack](https://nvidia.github.io/NeMo/api-docs/nemo.html#nemo.core.callbacks.CheckpointCallback)\n",
    "\n",
    "In the cell below, create the callbacks, just as we did in the text classification project.  This time, specify a `step_freq=100` value. \n",
    "\n",
    "Look for and fix the <i><strong><span style=\"color:green;\">#FIXME</span><strong></i> code lines.  If you get stuck, look back at the [3.0 Build a 3-Class Text Classifier](030_TextClassification.ipynb) notebook for inspiration or the [solution notebook](solution_notebooks/SOLN_040_NamedEntityRecogntion.ipynb) for the answer."
   ]
  },
  {
   "cell_type": "code",
   "execution_count": 16,
   "metadata": {},
   "outputs": [],
   "source": [
    "train_callback = SimpleLogger(step_freq=100)\n",
    "\n",
    "tensorboard_callback = TensorboardLogger(nf.tb_writer, step_freq=steps_per_epoch)\n",
    "\n",
    "# Callback to evaluate the model\n",
    "eval_callback = EvaluatorCallback(\n",
    "        eval_tensors=[val_logits, val_data.labels, val_data.subtokens_mask],\n",
    "        user_iter_callback=lambda x, y: eval_iter_callback(x, y),\n",
    "        user_epochs_done_callback=lambda x: eval_epochs_done_callback(x, dl_train.dataset.label_ids,\n",
    "                                                                      f'{nf.work_dir}/graphs'),\n",
    "        tb_writer=nf.tb_writer,\n",
    "        eval_step=steps_per_epoch\n",
    "    )\n",
    "\n",
    "# Create callback to save checkpoints\n",
    "ckpt_callback = CheckpointCallback(folder=nf.checkpoint_dir,\n",
    "                                             epoch_freq=1)"
   ]
  },
  {
   "cell_type": "markdown",
   "metadata": {},
   "source": [
    "## 4.4.3 Run the Trainer"
   ]
  },
  {
   "cell_type": "code",
   "execution_count": 17,
   "metadata": {
    "scrolled": true
   },
   "outputs": [
    {
     "name": "stdout",
     "output_type": "stream",
     "text": [
      "[NeMo I 2020-07-25 22:14:12 callbacks:534] Found 2 modules with weights:\n",
      "[NeMo I 2020-07-25 22:14:12 callbacks:536] BERT\n",
      "[NeMo I 2020-07-25 22:14:12 callbacks:536] tokenclassifier0\n",
      "[NeMo I 2020-07-25 22:14:12 callbacks:537] Total model parameters: 108312579\n",
      "[NeMo I 2020-07-25 22:14:12 callbacks:473] Found checkpoint folder /dli/task/data/logs-ner-biobert/checkpoints. Will attempt to restore checkpoints from it.\n"
     ]
    },
    {
     "name": "stderr",
     "output_type": "stream",
     "text": [
      "[NeMo W 2020-07-25 22:14:12 callbacks:499] For module BERT, no file matches  in /dli/task/data/logs-ner-biobert/checkpoints\n",
      "[NeMo W 2020-07-25 22:14:12 callbacks:501] Checkpoint folder /dli/task/data/logs-ner-biobert/checkpoints was present but nothing was restored. Continuing training from random initialization.\n"
     ]
    },
    {
     "name": "stdout",
     "output_type": "stream",
     "text": [
      "[NeMo I 2020-07-25 22:14:13 callbacks:232] loss: 1.1512176\n",
      "[NeMo I 2020-07-25 22:14:13 deprecated_callbacks:316] Doing Evaluation ..............................\n",
      "[NeMo I 2020-07-25 22:14:16 token_classification_callback:78] Sampled preds: [1 1 1 1 1 1 1 1 1 1 1 1 1 1 1 1 1 1 1 1]\n",
      "[NeMo I 2020-07-25 22:14:16 token_classification_callback:79] Sampled labels: [0 0 0 0 0 0 0 1 0 0 0 0 0 0 0 0 0 0 0 0]\n",
      "[NeMo I 2020-07-25 22:14:16 token_classification_callback:82] Accuracy: 0.2067670741374275\n",
      "[NeMo I 2020-07-25 22:14:16 token_classification_callback:86] F1 weighted: 29.83\n",
      "[NeMo I 2020-07-25 22:14:16 token_classification_callback:86] F1 macro: 15.34\n",
      "[NeMo I 2020-07-25 22:14:16 token_classification_callback:86] F1 micro: 20.68\n",
      "[NeMo I 2020-07-25 22:14:16 token_classification_callback:89]                  precision    recall  f1-score   support\n",
      "    \n",
      "    O (label id: 0)     0.9378    0.1912    0.3176     22092\n",
      "    B (label id: 1)     0.0354    0.8145    0.0679       787\n",
      "    I (label id: 2)     0.0671    0.0844    0.0748      1090\n",
      "    \n",
      "           accuracy                         0.2068     23969\n",
      "          macro avg     0.3468    0.3633    0.1534     23969\n",
      "       weighted avg     0.8686    0.2068    0.2983     23969\n",
      "    \n",
      "[NeMo I 2020-07-25 22:14:16 deprecated_callbacks:321] Evaluation time: 3.0950443744659424 seconds\n",
      "[NeMo I 2020-07-25 22:14:31 callbacks:232] loss: 0.14924724\n",
      "[NeMo I 2020-07-25 22:14:47 callbacks:232] loss: 0.16499284\n",
      "[NeMo I 2020-07-25 22:15:02 callbacks:232] loss: 0.05357892\n",
      "[NeMo I 2020-07-25 22:15:08 deprecated_callbacks:316] Doing Evaluation ..............................\n",
      "[NeMo I 2020-07-25 22:15:11 token_classification_callback:78] Sampled preds: [0 0 0 0 0 0 0 0 0 0 0 0 0 0 0 0 0 0 0 0]\n",
      "[NeMo I 2020-07-25 22:15:11 token_classification_callback:79] Sampled labels: [0 0 0 0 0 0 0 0 0 0 0 0 0 0 0 0 0 0 0 0]\n",
      "[NeMo I 2020-07-25 22:15:11 token_classification_callback:82] Accuracy: 0.9867745838374568\n",
      "[NeMo I 2020-07-25 22:15:11 token_classification_callback:86] F1 weighted: 98.68\n",
      "[NeMo I 2020-07-25 22:15:11 token_classification_callback:86] F1 macro: 93.03\n",
      "[NeMo I 2020-07-25 22:15:11 token_classification_callback:86] F1 micro: 98.68\n",
      "[NeMo I 2020-07-25 22:15:11 token_classification_callback:89]                  precision    recall  f1-score   support\n",
      "    \n",
      "    O (label id: 0)     0.9947    0.9937    0.9942     22092\n",
      "    B (label id: 1)     0.8612    0.9149    0.8872       787\n",
      "    I (label id: 2)     0.9210    0.8982    0.9094      1090\n",
      "    \n",
      "           accuracy                         0.9868     23969\n",
      "          macro avg     0.9256    0.9356    0.9303     23969\n",
      "       weighted avg     0.9870    0.9868    0.9868     23969\n",
      "    \n",
      "[NeMo I 2020-07-25 22:15:12 deprecated_callbacks:321] Evaluation time: 3.0679190158843994 seconds\n",
      "[NeMo I 2020-07-25 22:15:21 callbacks:232] loss: 0.102648206\n",
      "[NeMo I 2020-07-25 22:15:36 callbacks:232] loss: 0.027992608\n",
      "[NeMo I 2020-07-25 22:15:51 callbacks:232] loss: 0.04608334\n",
      "[NeMo I 2020-07-25 22:16:04 callbacks:465] Saved checkpoint: /dli/task/data/logs-ner-biobert/checkpoints/trainer-EPOCH-1.pt\n",
      "[NeMo I 2020-07-25 22:16:04 deprecated_callbacks:316] Doing Evaluation ..............................\n",
      "[NeMo I 2020-07-25 22:16:07 token_classification_callback:78] Sampled preds: [0 0 0 0 0 0 0 0 0 0 0 0 0 0 0 0 0 0 0 0]\n",
      "[NeMo I 2020-07-25 22:16:07 token_classification_callback:79] Sampled labels: [0 0 0 0 0 0 0 0 0 0 0 0 0 0 0 0 0 0 0 0]\n",
      "[NeMo I 2020-07-25 22:16:07 token_classification_callback:82] Accuracy: 0.9867328632817389\n",
      "[NeMo I 2020-07-25 22:16:07 token_classification_callback:86] F1 weighted: 98.68\n",
      "[NeMo I 2020-07-25 22:16:07 token_classification_callback:86] F1 macro: 93.2\n",
      "[NeMo I 2020-07-25 22:16:07 token_classification_callback:86] F1 micro: 98.67\n",
      "[NeMo I 2020-07-25 22:16:07 token_classification_callback:89]                  precision    recall  f1-score   support\n",
      "    \n",
      "    O (label id: 0)     0.9949    0.9931    0.9940     22092\n",
      "    B (label id: 1)     0.8761    0.9072    0.8914       787\n",
      "    I (label id: 2)     0.9056    0.9156    0.9106      1090\n",
      "    \n",
      "           accuracy                         0.9867     23969\n",
      "          macro avg     0.9255    0.9386    0.9320     23969\n",
      "       weighted avg     0.9869    0.9867    0.9868     23969\n",
      "    \n",
      "[NeMo I 2020-07-25 22:16:08 deprecated_callbacks:321] Evaluation time: 3.062488555908203 seconds\n",
      "[NeMo I 2020-07-25 22:16:11 callbacks:232] loss: 0.005354069\n",
      "[NeMo I 2020-07-25 22:16:26 callbacks:232] loss: 0.0027899658\n",
      "[NeMo I 2020-07-25 22:16:41 callbacks:232] loss: 0.010607562\n",
      "[NeMo I 2020-07-25 22:16:56 callbacks:232] loss: 0.009967881\n",
      "[NeMo I 2020-07-25 22:17:00 callbacks:465] Saved checkpoint: /dli/task/data/logs-ner-biobert/checkpoints/trainer-EPOCH-2.pt\n",
      "[NeMo I 2020-07-25 22:17:00 deprecated_callbacks:316] Doing Evaluation ..............................\n",
      "[NeMo I 2020-07-25 22:17:03 token_classification_callback:78] Sampled preds: [0 0 0 0 0 0 0 0 0 0 0 0 0 0 0 0 0 0 0 0]\n",
      "[NeMo I 2020-07-25 22:17:03 token_classification_callback:79] Sampled labels: [0 0 0 0 0 0 0 0 0 0 0 0 0 0 0 0 0 0 0 0]\n",
      "[NeMo I 2020-07-25 22:17:03 token_classification_callback:82] Accuracy: 0.9853143643873337\n",
      "[NeMo I 2020-07-25 22:17:04 token_classification_callback:86] F1 weighted: 98.54\n",
      "[NeMo I 2020-07-25 22:17:04 token_classification_callback:86] F1 macro: 92.35\n",
      "[NeMo I 2020-07-25 22:17:04 token_classification_callback:86] F1 micro: 98.53\n",
      "[NeMo I 2020-07-25 22:17:04 token_classification_callback:89]                  precision    recall  f1-score   support\n",
      "    \n",
      "    O (label id: 0)     0.9945    0.9926    0.9935     22092\n",
      "    B (label id: 1)     0.8453    0.9161    0.8793       787\n",
      "    I (label id: 2)     0.9072    0.8881    0.8975      1090\n",
      "    \n",
      "           accuracy                         0.9853     23969\n",
      "          macro avg     0.9157    0.9323    0.9235     23969\n",
      "       weighted avg     0.9856    0.9853    0.9854     23969\n",
      "    \n",
      "[NeMo I 2020-07-25 22:17:04 deprecated_callbacks:321] Evaluation time: 3.287924289703369 seconds\n",
      "[NeMo I 2020-07-25 22:17:16 callbacks:232] loss: 0.0051209927\n",
      "[NeMo I 2020-07-25 22:17:32 callbacks:232] loss: 0.006847029\n",
      "[NeMo I 2020-07-25 22:17:47 callbacks:232] loss: 0.0009159024\n",
      "[NeMo I 2020-07-25 22:17:57 callbacks:465] Saved checkpoint: /dli/task/data/logs-ner-biobert/checkpoints/trainer-EPOCH-3.pt\n",
      "[NeMo I 2020-07-25 22:17:57 deprecated_callbacks:339] Final Evaluation ..............................\n",
      "[NeMo I 2020-07-25 22:18:00 token_classification_callback:78] Sampled preds: [0 0 0 0 0 0 0 0 0 0 0 0 0 0 0 0 0 0 0 0]\n",
      "[NeMo I 2020-07-25 22:18:00 token_classification_callback:79] Sampled labels: [0 0 0 0 0 0 0 0 0 0 0 0 0 0 0 0 0 0 0 0]\n",
      "[NeMo I 2020-07-25 22:18:00 token_classification_callback:82] Accuracy: 0.986941466060328\n",
      "[NeMo I 2020-07-25 22:18:00 token_classification_callback:86] F1 weighted: 98.69\n",
      "[NeMo I 2020-07-25 22:18:00 token_classification_callback:86] F1 macro: 92.95\n",
      "[NeMo I 2020-07-25 22:18:00 token_classification_callback:86] F1 micro: 98.69\n",
      "[NeMo I 2020-07-25 22:18:00 token_classification_callback:89]                  precision    recall  f1-score   support\n",
      "    \n",
      "    O (label id: 0)     0.9933    0.9953    0.9943     22092\n",
      "    B (label id: 1)     0.8745    0.8945    0.8844       787\n",
      "    I (label id: 2)     0.9377    0.8835    0.9098      1090\n",
      "    \n",
      "           accuracy                         0.9869     23969\n",
      "          macro avg     0.9352    0.9245    0.9295     23969\n",
      "       weighted avg     0.9869    0.9869    0.9869     23969\n",
      "    \n",
      "[NeMo I 2020-07-25 22:18:00 deprecated_callbacks:344] Evaluation time: 3.079470634460449 seconds\n",
      "[NeMo I 2020-07-25 22:18:01 callbacks:465] Saved checkpoint: /dli/task/data/logs-ner-biobert/checkpoints/trainer-EPOCH-4.pt\n"
     ]
    },
    {
     "data": {
      "image/png": "[encoded data removed]",
      "text/plain": [
       "<Figure size 432x288 with 2 Axes>"
      ]
     },
     "metadata": {
      "needs_background": "light"
     },
     "output_type": "display_data"
    },
    {
     "data": {
      "image/png": "[encoded data removed]",
      "text/plain": [
       "<Figure size 432x288 with 2 Axes>"
      ]
     },
     "metadata": {
      "needs_background": "light"
     },
     "output_type": "display_data"
    },
    {
     "data": {
      "image/png": "[encoded data removed]",
      "text/plain": [
       "<Figure size 432x288 with 2 Axes>"
      ]
     },
     "metadata": {
      "needs_background": "light"
     },
     "output_type": "display_data"
    },
    {
     "data": {
      "image/png": "[encoded data removed]",
      "text/plain": [
       "<Figure size 432x288 with 2 Axes>"
      ]
     },
     "metadata": {
      "needs_background": "light"
     },
     "output_type": "display_data"
    },
    {
     "data": {
      "image/png": "[encoded data removed]",
      "text/plain": [
       "<Figure size 432x288 with 2 Axes>"
      ]
     },
     "metadata": {
      "needs_background": "light"
     },
     "output_type": "display_data"
    }
   ],
   "source": [
    "nemo.core.NeuralModuleFactory.reset_trainer(nf)\n",
    "\n",
    "nf.train(\n",
    "    tensors_to_optimize=[train_loss],\n",
    "    callbacks=[train_callback, tensorboard_callback, eval_callback, ckpt_callback],\n",
    "    lr_policy=lr_policy_fn,\n",
    "    optimizer=OPTIMIZER,\n",
    "    optimization_params={\"num_epochs\": NUM_EPOCHS, \"lr\": LEARNING_RATE, \"weight_decay\": WEIGHT_DECAY}\n",
    "    \n",
    ")"
   ]
  },
  {
   "cell_type": "markdown",
   "metadata": {},
   "source": [
    "The results should look something like:\n",
    "```\n",
    "[NeMo I 2020-05-22 17:13:48 token_classification_callback:82] Accuracy: 0.9882348032875798\n",
    "[NeMo I 2020-05-22 17:13:48 token_classification_callback:86] F1 weighted: 98.82\n",
    "[NeMo I 2020-05-22 17:13:48 token_classification_callback:86] F1 macro: 93.74\n",
    "[NeMo I 2020-05-22 17:13:48 token_classification_callback:86] F1 micro: 98.82\n",
    "[NeMo I 2020-05-22 17:13:49 token_classification_callback:89] precision    recall  f1-score   support\n",
    "    \n",
    "    O (label id: 0)     0.9938    0.9957    0.9947     22092\n",
    "    B (label id: 1)     0.8843    0.9034    0.8938       787\n",
    "    I (label id: 2)     0.9505    0.8982    0.9236      1090\n",
    "    \n",
    "           accuracy                         0.9882     23969\n",
    "          macro avg     0.9429    0.9324    0.9374     23969\n",
    "       weighted avg     0.9882    0.9882    0.9882     23969\n",
    "```\n",
    "The final confusion matrix visualization shows a bright diagonal, indicating that the predicted label matched the true label with high accuracy for all the label types (IOB).\n",
    "\n",
    "<img src=\"../images/ner_confusion_matrix.png\">"
   ]
  },
  {
   "cell_type": "markdown",
   "metadata": {},
   "source": [
    "# 4.5 Inference\n",
    "We have a test set, which we can read with *pandas*, then sample and export into whatever format we need.  We ultimately want a manageable number of sentences in a list, that we can submit directly to a data layer neural module.  In the text classification example, we provided the data layer with a filename, but this time, we'll just pass a query list."
   ]
  },
  {
   "cell_type": "code",
   "execution_count": 18,
   "metadata": {},
   "outputs": [
    {
     "name": "stdout",
     "output_type": "stream",
     "text": [
      "The size of the test samples DataFrame: (450, 1)\n"
     ]
    },
    {
     "data": {
      "text/html": [
       "<div>\n",
       "<style scoped>\n",
       "    .dataframe tbody tr th:only-of-type {\n",
       "        vertical-align: middle;\n",
       "    }\n",
       "\n",
       "    .dataframe tbody tr th {\n",
       "        vertical-align: top;\n",
       "    }\n",
       "\n",
       "    .dataframe thead th {\n",
       "        text-align: right;\n",
       "    }\n",
       "</style>\n",
       "<table border=\"1\" class=\"dataframe\">\n",
       "  <thead>\n",
       "    <tr style=\"text-align: right;\">\n",
       "      <th></th>\n",
       "      <th>sentence</th>\n",
       "    </tr>\n",
       "  </thead>\n",
       "  <tbody>\n",
       "    <tr>\n",
       "      <th>0</th>\n",
       "      <td>Clustering of missense mutations in the ataxia...</td>\n",
       "    </tr>\n",
       "    <tr>\n",
       "      <th>1</th>\n",
       "      <td>Ataxia - telangiectasia ( A - T ) is a recessi...</td>\n",
       "    </tr>\n",
       "    <tr>\n",
       "      <th>2</th>\n",
       "      <td>The risk of cancer , especially lymphoid neopl...</td>\n",
       "    </tr>\n",
       "    <tr>\n",
       "      <th>3</th>\n",
       "      <td>By analysing tumour DNA from patients with spo...</td>\n",
       "    </tr>\n",
       "    <tr>\n",
       "      <th>4</th>\n",
       "      <td>In marked contrast to the ATM mutation pattern...</td>\n",
       "    </tr>\n",
       "  </tbody>\n",
       "</table>\n",
       "</div>"
      ],
      "text/plain": [
       "                                            sentence\n",
       "0  Clustering of missense mutations in the ataxia...\n",
       "1  Ataxia - telangiectasia ( A - T ) is a recessi...\n",
       "2  The risk of cancer , especially lymphoid neopl...\n",
       "3  By analysing tumour DNA from patients with spo...\n",
       "4  In marked contrast to the ATM mutation pattern..."
      ]
     },
     "execution_count": 18,
     "metadata": {},
     "output_type": "execute_result"
    }
   ],
   "source": [
    "# Import the text data and sanity-check it \n",
    "df_test = pd.read_csv(DATA_DIR + 'text_test.txt', sep='\\t', names=['sentence'])\n",
    "print('The size of the test samples DataFrame: {}'.format(df_test.shape))\n",
    "df_test.head()"
   ]
  },
  {
   "cell_type": "code",
   "execution_count": 19,
   "metadata": {},
   "outputs": [
    {
     "name": "stdout",
     "output_type": "stream",
     "text": [
      "['We conclude that these mice very closely mimic severe human von Willebrand disease and will be very useful for investigating the role of vWf in normal physiology and in disease models . . ', 'We report here the complete characterization of the 48 exons of the COL4A4 gene , a comprehensive gene screen , and the subsequent detection of 10 novel mutations in eight patients diagnosed with autosomal recessive Alport syndrome . ', 'In a survey of DM in Northern Ireland , 59 pedigrees were ascertained . ', 'PAX6 regulates eye development in animals ranging from jellyfish to Drosophila to humans . ', 'Deficiency of the sixth component of human complement ( C6 ) has been reported in a number of families from the western Cape , South Africa . ', 'Three of 13 uninformative patients had constitutional deletions . ', 'Molecular genetic analysis of her VLCAD gene revealed a T1372C ( F458L ) missense mutation and a 1668 ACAG 1669 splice site mutation . ', 'The analysis of tumors from 54 ( 71 % ) of 76 informative patients showed loss of constitutional heterozygosity ( LOH ) at intragenic loci . ', 'Human complement factor H deficiency associated with hemolytic uremic syndrome . ', 'In specific C5 titrations , however , it was noted that when limited amounts of C5 were assayed in the presence of low dilutions of either C5D serum , curving rather than linear dose - response plots were consistently obtained , suggesting some inhibitory effect . ']\n"
     ]
    }
   ],
   "source": [
    "# Grab a small number (such as 10) of random samples and save them\n",
    "df_test = df_test.sample(10)\n",
    "df_test.shape\n",
    "queries = df_test['sentence'].values.tolist()\n",
    "print(queries)"
   ]
  },
  {
   "cell_type": "markdown",
   "metadata": {},
   "source": [
    "## 4.5.1 Create the Test Graph\n",
    "<figure>\n",
    "    <img src=\"../images/nemo/ner_test_graph.png\" width=600>\n",
    "    <figcaption style=\"text-align:center;\">Test Graph</figcaption>\n",
    "</figure>\n",
    "\n",
    "We'll use a different data layer neural module called `BertTokenClassificationInferDataLayer`, so that we can use a direct list as input instead of a file (the `queries=` parameter)."
   ]
  },
  {
   "cell_type": "code",
   "execution_count": 20,
   "metadata": {
    "scrolled": true
   },
   "outputs": [
    {
     "name": "stdout",
     "output_type": "stream",
     "text": [
      "[NeMo I 2020-07-25 22:18:02 token_classification_dataset:116] Max length: 59\n",
      "[NeMo I 2020-07-25 22:18:02 data_preprocessing:250] Min: 16 |                  Max: 59 |                  Mean: 33.8 |                  Median: 34.0\n",
      "[NeMo I 2020-07-25 22:18:02 data_preprocessing:252] 75 percentile: 40.5\n",
      "[NeMo I 2020-07-25 22:18:02 data_preprocessing:253] 99 percentile: 58.190000000000005\n"
     ]
    },
    {
     "name": "stderr",
     "output_type": "stream",
     "text": [
      "[NeMo W 2020-07-25 22:18:02 token_classification_dataset:145] 0 are longer than 59\n"
     ]
    },
    {
     "name": "stdout",
     "output_type": "stream",
     "text": [
      "[NeMo I 2020-07-25 22:18:02 token_classification_dataset:148] *** Example ***\n",
      "[NeMo I 2020-07-25 22:18:02 token_classification_dataset:149] i: 0\n",
      "[NeMo I 2020-07-25 22:18:02 token_classification_dataset:150] subtokens: [CLS] We conclude that these mice very closely mimic severe human von Will ##eb ##rand disease and will be very useful for investigating the role of v ##W ##f in normal physiology and in disease models . . [SEP]\n",
      "[NeMo I 2020-07-25 22:18:02 token_classification_dataset:151] loss_mask: 1 1 1 1 1 1 1 1 1 1 1 1 1 1 1 1 1 1 1 1 1 1 1 1 1 1 1 1 1 1 1 1 1 1 1 1 1 1 1 0 0 0 0 0 0 0 0 0 0 0 0 0 0 0 0 0 0 0 0\n",
      "[NeMo I 2020-07-25 22:18:02 token_classification_dataset:152] input_mask: 1 1 1 1 1 1 1 1 1 1 1 1 1 1 1 1 1 1 1 1 1 1 1 1 1 1 1 1 1 1 1 1 1 1 1 1 1 1 1 0 0 0 0 0 0 0 0 0 0 0 0 0 0 0 0 0 0 0 0\n",
      "[NeMo I 2020-07-25 22:18:02 token_classification_dataset:153] subtokens_mask: 0 1 1 1 1 1 1 1 1 1 1 1 1 0 0 1 1 1 1 1 1 1 1 1 1 1 1 0 0 1 1 1 1 1 1 1 1 1 0 0 0 0 0 0 0 0 0 0 0 0 0 0 0 0 0 0 0 0 0\n",
      "[NeMo I 2020-07-25 22:18:02 token_classification_dataset:148] *** Example ***\n",
      "[NeMo I 2020-07-25 22:18:02 token_classification_dataset:149] i: 1\n",
      "[NeMo I 2020-07-25 22:18:02 token_classification_dataset:150] subtokens: [CLS] We report here the complete characterization of the 48 ex ##ons of the CO ##L ##4 ##A ##4 gene , a comprehensive gene screen , and the subsequent detection of 10 novel mutations in eight patients diagnosed with auto ##so ##mal re ##cess ##ive Al ##port syndrome . [SEP]\n",
      "[NeMo I 2020-07-25 22:18:02 token_classification_dataset:151] loss_mask: 1 1 1 1 1 1 1 1 1 1 1 1 1 1 1 1 1 1 1 1 1 1 1 1 1 1 1 1 1 1 1 1 1 1 1 1 1 1 1 1 1 1 1 1 1 1 1 1 1 1 0 0 0 0 0 0 0 0 0\n",
      "[NeMo I 2020-07-25 22:18:02 token_classification_dataset:152] input_mask: 1 1 1 1 1 1 1 1 1 1 1 1 1 1 1 1 1 1 1 1 1 1 1 1 1 1 1 1 1 1 1 1 1 1 1 1 1 1 1 1 1 1 1 1 1 1 1 1 1 1 0 0 0 0 0 0 0 0 0\n",
      "[NeMo I 2020-07-25 22:18:02 token_classification_dataset:153] subtokens_mask: 0 1 1 1 1 1 1 1 1 1 1 0 1 1 1 0 0 0 0 1 1 1 1 1 1 1 1 1 1 1 1 1 1 1 1 1 1 1 1 1 0 0 1 0 0 1 0 1 1 0 0 0 0 0 0 0 0 0 0\n",
      "[NeMo I 2020-07-25 22:18:02 token_classification_dataset:148] *** Example ***\n",
      "[NeMo I 2020-07-25 22:18:02 token_classification_dataset:149] i: 2\n",
      "[NeMo I 2020-07-25 22:18:02 token_classification_dataset:150] subtokens: [CLS] In a survey of D ##M in Northern Ireland , 59 p ##ed ##ig ##ree ##s were as ##cer ##tain ##ed . [SEP]\n",
      "[NeMo I 2020-07-25 22:18:02 token_classification_dataset:151] loss_mask: 1 1 1 1 1 1 1 1 1 1 1 1 1 1 1 1 1 1 1 1 1 1 1 1 0 0 0 0 0 0 0 0 0 0 0 0 0 0 0 0 0 0 0 0 0 0 0 0 0 0 0 0 0 0 0 0 0 0 0\n",
      "[NeMo I 2020-07-25 22:18:02 token_classification_dataset:152] input_mask: 1 1 1 1 1 1 1 1 1 1 1 1 1 1 1 1 1 1 1 1 1 1 1 1 0 0 0 0 0 0 0 0 0 0 0 0 0 0 0 0 0 0 0 0 0 0 0 0 0 0 0 0 0 0 0 0 0 0 0\n",
      "[NeMo I 2020-07-25 22:18:02 token_classification_dataset:153] subtokens_mask: 0 1 1 1 1 1 0 1 1 1 1 1 1 0 0 0 0 1 1 0 0 0 1 0 0 0 0 0 0 0 0 0 0 0 0 0 0 0 0 0 0 0 0 0 0 0 0 0 0 0 0 0 0 0 0 0 0 0 0\n",
      "[NeMo I 2020-07-25 22:18:02 token_classification_dataset:148] *** Example ***\n",
      "[NeMo I 2020-07-25 22:18:02 token_classification_dataset:149] i: 3\n",
      "[NeMo I 2020-07-25 22:18:02 token_classification_dataset:150] subtokens: [CLS] PA ##X ##6 regulate ##s eye development in animals ranging from j ##elly ##fish to Dr ##oso ##phi ##la to humans . [SEP]\n",
      "[NeMo I 2020-07-25 22:18:02 token_classification_dataset:151] loss_mask: 1 1 1 1 1 1 1 1 1 1 1 1 1 1 1 1 1 1 1 1 1 1 1 1 0 0 0 0 0 0 0 0 0 0 0 0 0 0 0 0 0 0 0 0 0 0 0 0 0 0 0 0 0 0 0 0 0 0 0\n",
      "[NeMo I 2020-07-25 22:18:02 token_classification_dataset:152] input_mask: 1 1 1 1 1 1 1 1 1 1 1 1 1 1 1 1 1 1 1 1 1 1 1 1 0 0 0 0 0 0 0 0 0 0 0 0 0 0 0 0 0 0 0 0 0 0 0 0 0 0 0 0 0 0 0 0 0 0 0\n",
      "[NeMo I 2020-07-25 22:18:02 token_classification_dataset:153] subtokens_mask: 0 1 0 0 1 0 1 1 1 1 1 1 1 0 0 1 1 0 0 0 1 1 1 0 0 0 0 0 0 0 0 0 0 0 0 0 0 0 0 0 0 0 0 0 0 0 0 0 0 0 0 0 0 0 0 0 0 0 0\n",
      "[NeMo I 2020-07-25 22:18:02 token_classification_dataset:148] *** Example ***\n",
      "[NeMo I 2020-07-25 22:18:02 token_classification_dataset:149] i: 4\n",
      "[NeMo I 2020-07-25 22:18:02 token_classification_dataset:150] subtokens: [CLS] De ##ficiency of the sixth component of human complement ( C ##6 ) has been reported in a number of families from the western Cape , South Africa . [SEP]\n",
      "[NeMo I 2020-07-25 22:18:02 token_classification_dataset:151] loss_mask: 1 1 1 1 1 1 1 1 1 1 1 1 1 1 1 1 1 1 1 1 1 1 1 1 1 1 1 1 1 1 1 0 0 0 0 0 0 0 0 0 0 0 0 0 0 0 0 0 0 0 0 0 0 0 0 0 0 0 0\n",
      "[NeMo I 2020-07-25 22:18:02 token_classification_dataset:152] input_mask: 1 1 1 1 1 1 1 1 1 1 1 1 1 1 1 1 1 1 1 1 1 1 1 1 1 1 1 1 1 1 1 0 0 0 0 0 0 0 0 0 0 0 0 0 0 0 0 0 0 0 0 0 0 0 0 0 0 0 0\n",
      "[NeMo I 2020-07-25 22:18:02 token_classification_dataset:153] subtokens_mask: 0 1 0 1 1 1 1 1 1 1 1 1 0 1 1 1 1 1 1 1 1 1 1 1 1 1 1 1 1 1 0 0 0 0 0 0 0 0 0 0 0 0 0 0 0 0 0 0 0 0 0 0 0 0 0 0 0 0 0\n"
     ]
    }
   ],
   "source": [
    "# Define a data layer neural module for the test set\n",
    "dl_test = BertTokenClassificationInferDataLayer(\n",
    "    tokenizer=tokenizer,\n",
    "    queries=queries,\n",
    "    max_seq_length=MAX_SEQ_LEN,\n",
    "    batch_size=1\n",
    ")"
   ]
  },
  {
   "cell_type": "code",
   "execution_count": 21,
   "metadata": {},
   "outputs": [],
   "source": [
    "# Define all the neural graph connections\n",
    "test_data = dl_test()\n",
    "test_embeddings = lm(input_ids=test_data.input_ids, \n",
    "                           token_type_ids=test_data.input_type_ids, \n",
    "                           attention_mask=test_data.input_mask)\n",
    "test_logits = classifier(hidden_states=test_embeddings)"
   ]
  },
  {
   "cell_type": "markdown",
   "metadata": {},
   "source": [
    "## 4.5.2 Run Inference on the Test Set\n",
    "Start the action!"
   ]
  },
  {
   "cell_type": "code",
   "execution_count": 22,
   "metadata": {},
   "outputs": [
    {
     "name": "stdout",
     "output_type": "stream",
     "text": [
      "[NeMo I 2020-07-25 22:18:02 actions:695] Evaluating batch 0 out of 10\n",
      "[NeMo I 2020-07-25 22:18:02 actions:695] Evaluating batch 1 out of 10\n",
      "[NeMo I 2020-07-25 22:18:02 actions:695] Evaluating batch 2 out of 10\n",
      "[NeMo I 2020-07-25 22:18:02 actions:695] Evaluating batch 3 out of 10\n",
      "[NeMo I 2020-07-25 22:18:02 actions:695] Evaluating batch 4 out of 10\n",
      "[NeMo I 2020-07-25 22:18:03 actions:695] Evaluating batch 5 out of 10\n",
      "[NeMo I 2020-07-25 22:18:03 actions:695] Evaluating batch 6 out of 10\n",
      "[NeMo I 2020-07-25 22:18:03 actions:695] Evaluating batch 7 out of 10\n",
      "[NeMo I 2020-07-25 22:18:03 actions:695] Evaluating batch 8 out of 10\n",
      "[NeMo I 2020-07-25 22:18:03 actions:695] Evaluating batch 9 out of 10\n"
     ]
    }
   ],
   "source": [
    "test_logits_tensors = nf.infer(tensors=[test_logits, test_data.subtokens_mask])"
   ]
  },
  {
   "cell_type": "markdown",
   "metadata": {},
   "source": [
    "# 4.5.3 Inference Results\n",
    "To view the results, we'll gather the resulting output tensors and map them to the words in the `queries` list."
   ]
  },
  {
   "cell_type": "code",
   "execution_count": 23,
   "metadata": {},
   "outputs": [],
   "source": [
    "# Gather the results\n",
    "def concatenate(lists):\n",
    "    return np.concatenate([t.cpu() for t in lists])\n",
    "\n",
    "def add_brackets(text, add=True):\n",
    "    return '[' + text + ']' if add else text\n",
    "\n",
    "logits, subtokens_mask = [concatenate(tensors) for tensors in test_logits_tensors]\n",
    "preds = np.argmax(logits, axis=2)"
   ]
  },
  {
   "cell_type": "code",
   "execution_count": 26,
   "metadata": {},
   "outputs": [
    {
     "name": "stdout",
     "output_type": "stream",
     "text": [
      "Query:\n",
      "We conclude that these mice very closely mimic severe human von Willebrand disease and will be very useful for investigating the role of vWf in normal physiology and in disease models . . \n",
      "\u001b[34m----------------------------\u001b[0m\n",
      "Labeled Result:\n",
      "We conclude that these mice very closely mimic severe human von[B] Willebrand[I] disease[I] and will be very useful for investigating the role of vWf in normal physiology and in disease models . .\n",
      "\u001b[32m*****************************\n",
      "*****************************\u001b[0m\n",
      "Query:\n",
      "We report here the complete characterization of the 48 exons of the COL4A4 gene , a comprehensive gene screen , and the subsequent detection of 10 novel mutations in eight patients diagnosed with autosomal recessive Alport syndrome . \n",
      "\u001b[34m----------------------------\u001b[0m\n",
      "Labeled Result:\n",
      "We report here the complete characterization of the 48 exons of the COL4A4 gene , a comprehensive gene screen , and the subsequent detection of 10 novel mutations in eight patients diagnosed with autosomal recessive Alport[I] syndrome[I] .\n",
      "\u001b[32m*****************************\n",
      "*****************************\u001b[0m\n",
      "Query:\n",
      "In a survey of DM in Northern Ireland , 59 pedigrees were ascertained . \n",
      "\u001b[34m----------------------------\u001b[0m\n",
      "Labeled Result:\n",
      "In a survey of DM[B] in Northern Ireland , 59 pedigrees were ascertained .\n",
      "\u001b[32m*****************************\n",
      "*****************************\u001b[0m\n",
      "Query:\n",
      "PAX6 regulates eye development in animals ranging from jellyfish to Drosophila to humans . \n",
      "\u001b[34m----------------------------\u001b[0m\n",
      "Labeled Result:\n",
      "PAX6 regulates eye development in animals ranging from jellyfish to Drosophila to humans .\n",
      "\u001b[32m*****************************\n",
      "*****************************\u001b[0m\n",
      "Query:\n",
      "Deficiency of the sixth component of human complement ( C6 ) has been reported in a number of families from the western Cape , South Africa . \n",
      "\u001b[34m----------------------------\u001b[0m\n",
      "Labeled Result:\n",
      "Deficiency[B] of[I] the[I] sixth[I] component[I] of[I] human[I] complement[I] ( C6 ) has been reported in a number of families from the western Cape , South Africa .\n",
      "\u001b[32m*****************************\n",
      "*****************************\u001b[0m\n",
      "Query:\n",
      "Three of 13 uninformative patients had constitutional deletions . \n",
      "\u001b[34m----------------------------\u001b[0m\n",
      "Labeled Result:\n",
      "Three of 13 uninformative patients had constitutional deletions .\n",
      "\u001b[32m*****************************\n",
      "*****************************\u001b[0m\n",
      "Query:\n",
      "Molecular genetic analysis of her VLCAD gene revealed a T1372C ( F458L ) missense mutation and a 1668 ACAG 1669 splice site mutation . \n",
      "\u001b[34m----------------------------\u001b[0m\n",
      "Labeled Result:\n",
      "Molecular genetic analysis of her VLCAD gene revealed a T1372C ( F458L ) missense mutation and a 1668 ACAG 1669 splice site mutation .\n",
      "\u001b[32m*****************************\n",
      "*****************************\u001b[0m\n",
      "Query:\n",
      "The analysis of tumors from 54 ( 71 % ) of 76 informative patients showed loss of constitutional heterozygosity ( LOH ) at intragenic loci . \n",
      "\u001b[34m----------------------------\u001b[0m\n",
      "Labeled Result:\n",
      "The analysis of tumors[B] from 54 ( 71 % ) of 76 informative patients showed loss of constitutional heterozygosity ( LOH ) at intragenic loci .\n",
      "\u001b[32m*****************************\n",
      "*****************************\u001b[0m\n",
      "Query:\n",
      "Human complement factor H deficiency associated with hemolytic uremic syndrome . \n",
      "\u001b[34m----------------------------\u001b[0m\n",
      "Labeled Result:\n",
      "Human complement[I] factor[I] H[I] deficiency[I] associated with hemolytic[B] uremic[I] syndrome[I] .\n",
      "\u001b[32m*****************************\n",
      "*****************************\u001b[0m\n",
      "Query:\n",
      "In specific C5 titrations , however , it was noted that when limited amounts of C5 were assayed in the presence of low dilutions of either C5D serum , curving rather than linear dose - response plots were consistently obtained , suggesting some inhibitory effect . \n",
      "\u001b[34m----------------------------\u001b[0m\n",
      "Labeled Result:\n",
      "In specific C5 titrations , however , it was noted that when limited amounts of C5 were assayed in the presence of low dilutions of either C5D[B] serum , curving rather than linear dose - response plots were consistently obtained , suggesting some inhibitory effect .\n",
      "\u001b[32m*****************************\n",
      "*****************************\u001b[0m\n"
     ]
    }
   ],
   "source": [
    "# Iterate through the queries and display the IOB tags\n",
    "blue_separator = termcolor.colored('----------------------------', color='blue')\n",
    "green_separator = termcolor.colored('*****************************\\n*****************************', color='green')\n",
    "labels_dict = DATA_DIR + \"label_ids.csv\"\n",
    "labels_dict = get_vocab(labels_dict)\n",
    "\n",
    "for i, query in enumerate(queries):\n",
    "    print(f'Query:\\n{query}')\n",
    "    \n",
    "    pred = preds[i][subtokens_mask[i] > 0.5]\n",
    "    words = query.strip().split()\n",
    "    output = ''\n",
    "    \n",
    "    for j, w in enumerate(words):\n",
    "        output += w\n",
    "        label = labels_dict[pred[j]]\n",
    "        if label != NONE_LABEL:\n",
    "            label = add_brackets(label)\n",
    "            output += label\n",
    "        output += ' '\n",
    "        \n",
    "    print(f'{blue_separator}\\nLabeled Result:\\n{output.strip()}\\n{green_separator}')"
   ]
  },
  {
   "cell_type": "markdown",
   "metadata": {},
   "source": [
    "# 4.6 Exercise: Change the Language Model\n",
    "Now that you've built the project, you can experiment with different settings, and try the BioMegatron model.   To do that, you'll need to restart the kernel to clear memory, and change the `MODEL_TYPE` value in the [4.1.1 Input Parameters](4.1.1-Input-Parameters) section. "
   ]
  },
  {
   "cell_type": "markdown",
   "metadata": {},
   "source": [
    "<h2 style=\"color:green;\">Congratulations!</h2>\n",
    "\n",
    "You've built a NER project that recognizes disease names.  You're ready to take your assessmet.<br>\n",
    "\n",
    "Move on to [5.0 Assessment](050_Assessment.ipynb)."
   ]
  },
  {
   "cell_type": "markdown",
   "metadata": {},
   "source": [
    "<a href=\"https://www.nvidia.com/dli\"> <img src=\"../images/DLI_Header.png\" alt=\"Header\" style=\"width: 400px;\"/> </a>"
   ]
  }
 ],
 "metadata": {
  "kernelspec": {
   "display_name": "Python 3",
   "language": "python",
   "name": "python3"
  },
  "language_info": {
   "codemirror_mode": {
    "name": "ipython",
    "version": 3
   },
   "file_extension": ".py",
   "mimetype": "text/x-python",
   "name": "python",
   "nbconvert_exporter": "python",
   "pygments_lexer": "ipython3",
   "version": "3.8.3"
  },
  "pycharm": {
   "stem_cell": {
    "cell_type": "raw",
    "metadata": {
     "collapsed": false
    },
    "source": []
   }
  }
 },
 "nbformat": 4,
 "nbformat_minor": 4
}
